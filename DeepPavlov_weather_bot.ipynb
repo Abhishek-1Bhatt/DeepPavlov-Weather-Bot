{
 "cells": [
  {
   "cell_type": "code",
   "execution_count": 14,
   "id": "peripheral-logistics",
   "metadata": {},
   "outputs": [
    {
     "name": "stdout",
     "output_type": "stream",
     "text": [
      "Overwriting stories.md\n"
     ]
    }
   ],
   "source": [
    "%%writefile stories.md\n",
    "\n",
    "## story1\n",
    "* greet{}\n",
    "    - utter_greet\n",
    "    \n",
    "## story 2\n",
    "* goodbye{}\n",
    "    - utter_goodbye\n",
    "    \n",
    "## story 3\n",
    "* ask_weather{\"intent\": \"ask_weather\"}\n",
    "    - utter_ask_location\n",
    "\n",
    "## story 4\n",
    "* ask_weather_location{\"location\": \"Moscow\"}\n",
    "    - utter_pleasant\n",
    "\n",
    "## story 5\n",
    "* greet{}\n",
    "    - utter_greet\n",
    "* ask_weather_location{\"location\": \"stuttgart\"}\n",
    "    - utter_pleasant\n",
    "* goodbye{}\n",
    "    - utter_goodbye\n",
    "\n",
    "## story 6\n",
    "* greet{}\n",
    "    - utter_greet\n",
    "* ask_weather{\"intent\": \"ask_weather\"}\n",
    "    - utter_ask_location\n",
    "* ask_weather_location{\"location\": \"Berlin\"}\n",
    "    - utter_pleasant\n",
    "* goodbye{}\n",
    "    - utter_goodbye\n",
    "\n",
    "## story 7\n",
    "* greet{}\n",
    "    - utter_greet\n",
    "* ask_weather{\"intent\": \"ask_weather\"}\n",
    "    - utter_ask_location\n",
    "* ask_weather_location{\"location\": \"Cologne\"}\n",
    "    - utter_pleasant\n",
    "* goodbye{}\n",
    "    - utter_goodbye\n",
    "\n",
    "## story 8\n",
    "* greet{}\n",
    "    - utter_greet\n",
    "* ask_weather{\"intent\": \"ask_weather\"}\n",
    "    - utter_ask_location\n",
    "* ask_weather_location{\"location\": \"Kiel\"}\n",
    "    - utter_pleasant\n",
    "* goodbye{}\n",
    "    - utter_goodbye\n",
    "\n",
    "## story 9\n",
    "* greet{}\n",
    "    - utter_greet\n",
    "* ask_weather_location{\"location\": \"Jamaica\"}\n",
    "    - utter_pleasant\n",
    "* goodbye{}\n",
    "    - utter_goodbye\n",
    "\n",
    "## story 10\n",
    "* greet{}\n",
    "    - utter_greet\n",
    "* ask_weather{\"intent\": \"ask_weather\"}\n",
    "    - utter_ask_location\n",
    "* ask_weather_location{\"location\": \"dhaka\"}\n",
    "    - utter_pleasant\n",
    "* ask_weather_location{\"location\": \"Chittagong\"}\n",
    "    - utter_pleasant\n",
    "* goodbye{}\n",
    "    - utter_goodbye\n",
    "\n",
    "## story 11\n",
    "* greet{}\n",
    "    - utter_greet\n",
    "* ask_weather{\"intent\": \"ask_weather\"}\n",
    "    - utter_ask_location\n",
    "* ask_weather_location{\"location\": \"hongkong\"}\n",
    "    - utter_pleasant"
   ]
  },
  {
   "cell_type": "code",
   "execution_count": 15,
   "id": "eligible-holly",
   "metadata": {},
   "outputs": [
    {
     "name": "stdout",
     "output_type": "stream",
     "text": [
      "Overwriting nlu.md\n"
     ]
    }
   ],
   "source": [
    "%%writefile nlu.md\n",
    "\n",
    "## intent:greet\n",
    "- Hi\n",
    "- Hey\n",
    "- Hi bot\n",
    "- Hey bot\n",
    "- Hello\n",
    "- Good morning\n",
    "- hi again\n",
    "- hi folks\n",
    "- hola\n",
    "- hello, how are you today?\n",
    "- yo\n",
    "- hiya\n",
    "- Hello there\n",
    "- Umm, hey!\n",
    "\n",
    "## intent:goodbye\n",
    "- goodbye\n",
    "- goodnight\n",
    "- good bye\n",
    "- good night\n",
    "- see ya\n",
    "- toodle-oo\n",
    "- bye bye\n",
    "- gotta go\n",
    "- farewell\n",
    "- bye then!\n",
    "- Ok then, see ya!\n",
    "\n",
    "## intent:ask_weather_location\n",
    "- How is the weather today in [Berlin](location)?\n",
    "- How's weather in [Stuttgart](location) today?\n",
    "- What's going on [Berlin](location) today?\n",
    "- In [Prague](location)\n",
    "- at [Budapest](location)\n",
    "- [Nancy](location)\n",
    "- Tell me weather of [Dresden](location).\n",
    "- What about in [Rome](location) today?\n",
    "- Show me weather of [Venice](location)\n",
    "- How about weather in [Italy](location)\n",
    "- Sorry, in [Vatican](location)\n",
    "- Uhh, how about in [Bulgaria](location)?\n",
    "\n",
    "## intent:ask_weather\n",
    "- How's the weather today?\n",
    "- What's today's weather?\n",
    "- How is it out there today?\n",
    "- What's overall weather today?"
   ]
  },
  {
   "cell_type": "code",
   "execution_count": 16,
   "id": "future-relief",
   "metadata": {},
   "outputs": [
    {
     "name": "stdout",
     "output_type": "stream",
     "text": [
      "Overwriting domain.yml\n"
     ]
    }
   ],
   "source": [
    "%%writefile domain.yml\n",
    "\n",
    "slots:\n",
    "    location:\n",
    "        type: text\n",
    "\n",
    "entities:\n",
    "- location\n",
    "\n",
    "intents:\n",
    "    - greet\n",
    "    - goodbye\n",
    "    - ask_weather_location\n",
    "    - ask_weather\n",
    "    \n",
    "responses:\n",
    "    utter_greet:\n",
    "        - text: \"Hi, how can I help you?\"\n",
    "    utter_goodbye:\n",
    "        - text: \"Glad, I could be of service, Goodbye!\"\n",
    "    utter_ask_location:\n",
    "        - text: \"In what city are you interested?\"\n",
    "    utter_pleasant:\n",
    "        - text: \"The weather today is pleasant, but carrying an umbrella is never a bad idea :)\""
   ]
  },
  {
   "cell_type": "code",
   "execution_count": 5,
   "id": "invalid-tobago",
   "metadata": {
    "scrolled": true
   },
   "outputs": [
    {
     "name": "stdout",
     "output_type": "stream",
     "text": [
      "Collecting git+https://github.com/deepmipt/DeepPavlov.git@feature/gobot-md-yaml-config\n",
      "  Cloning https://github.com/deepmipt/DeepPavlov.git (to revision feature/gobot-md-yaml-config) to /tmp/pip-req-build-2qzrpjvv\n",
      "  Running command git clone -q https://github.com/deepmipt/DeepPavlov.git /tmp/pip-req-build-2qzrpjvv\n",
      "  Running command git checkout -b feature/gobot-md-yaml-config --track origin/feature/gobot-md-yaml-config\n",
      "  Switched to a new branch 'feature/gobot-md-yaml-config'\n",
      "  Branch 'feature/gobot-md-yaml-config' set up to track remote branch 'feature/gobot-md-yaml-config' from 'origin'.\n",
      "Collecting aio-pika==6.4.1\n",
      "  Using cached aio_pika-6.4.1-py3-none-any.whl (40 kB)\n",
      "Collecting Cython==0.29.14\n",
      "  Downloading Cython-0.29.14-cp36-cp36m-manylinux1_x86_64.whl (2.1 MB)\n",
      "\u001b[K     |████████████████████████████████| 2.1 MB 278 kB/s eta 0:00:01\n",
      "\u001b[?25hCollecting fastapi==0.47.1\n",
      "  Using cached fastapi-0.47.1-py3-none-any.whl (43 kB)\n",
      "Collecting h5py==2.10.0\n",
      "  Using cached h5py-2.10.0-cp36-cp36m-manylinux1_x86_64.whl (2.9 MB)\n",
      "Collecting nltk==3.4.5\n",
      "  Using cached nltk-3.4.5.zip (1.5 MB)\n",
      "Collecting numpy==1.18.0\n",
      "  Downloading numpy-1.18.0-cp36-cp36m-manylinux1_x86_64.whl (20.1 MB)\n",
      "\u001b[K     |████████████████████████████████| 20.1 MB 157 kB/s eta 0:00:01\n",
      "\u001b[?25hCollecting overrides==2.7.0\n",
      "  Using cached overrides-2.7.0.tar.gz (4.5 kB)\n",
      "Collecting pandas==0.25.3\n",
      "  Downloading pandas-0.25.3-cp36-cp36m-manylinux1_x86_64.whl (10.4 MB)\n",
      "\u001b[K     |████████████████████████████████| 10.4 MB 381 kB/s eta 0:00:01\n",
      "\u001b[?25hCollecting pytz==2019.1\n",
      "  Using cached pytz-2019.1-py2.py3-none-any.whl (510 kB)\n",
      "Collecting pydantic==1.3\n",
      "  Downloading pydantic-1.3-cp36-cp36m-manylinux2010_x86_64.whl (7.3 MB)\n",
      "\u001b[K     |████████████████████████████████| 7.3 MB 214 kB/s eta 0:00:01\n",
      "\u001b[?25hCollecting pymorphy2==0.8\n",
      "  Using cached pymorphy2-0.8-py2.py3-none-any.whl (46 kB)\n",
      "Collecting pymorphy2-dicts-ru\n",
      "  Using cached pymorphy2_dicts_ru-2.4.417127.4579844-py2.py3-none-any.whl (8.2 MB)\n",
      "Collecting pyopenssl==19.1.0\n",
      "  Using cached pyOpenSSL-19.1.0-py2.py3-none-any.whl (53 kB)\n",
      "Collecting pytelegrambotapi==3.6.7\n",
      "  Using cached pyTelegramBotAPI-3.6.7.tar.gz (65 kB)\n",
      "Collecting requests==2.22.0\n",
      "  Using cached requests-2.22.0-py2.py3-none-any.whl (57 kB)\n",
      "Collecting ruamel.yaml==0.15.100\n",
      "  Downloading ruamel.yaml-0.15.100-cp36-cp36m-manylinux1_x86_64.whl (656 kB)\n",
      "\u001b[K     |████████████████████████████████| 656 kB 529 kB/s eta 0:00:01\n",
      "\u001b[?25hCollecting rusenttokenize==0.0.5\n",
      "  Using cached rusenttokenize-0.0.5-py3-none-any.whl (10 kB)\n",
      "Collecting scikit-learn==0.21.2\n",
      "  Downloading scikit_learn-0.21.2-cp36-cp36m-manylinux1_x86_64.whl (6.7 MB)\n",
      "\u001b[K     |████████████████████████████████| 6.7 MB 1.3 MB/s eta 0:00:01     |██████▏                         | 1.3 MB 1.5 MB/s eta 0:00:04\n",
      "\u001b[?25hCollecting scipy==1.4.1\n",
      "  Downloading scipy-1.4.1-cp36-cp36m-manylinux1_x86_64.whl (26.1 MB)\n",
      "\u001b[K     |████████████████████████████████| 26.1 MB 475 kB/s eta 0:00:01\n",
      "\u001b[?25hCollecting tqdm==4.41.1\n",
      "  Using cached tqdm-4.41.1-py2.py3-none-any.whl (56 kB)\n",
      "Collecting click==7.1.2\n",
      "  Using cached click-7.1.2-py2.py3-none-any.whl (82 kB)\n",
      "Collecting uvicorn==0.11.1\n",
      "  Using cached uvicorn-0.11.1-py3-none-any.whl (42 kB)\n",
      "Collecting sacremoses==0.0.35\n",
      "  Using cached sacremoses-0.0.35.tar.gz (859 kB)\n",
      "Collecting aiormq<4,>=3.2.0\n",
      "  Using cached aiormq-3.3.1-py3-none-any.whl (28 kB)\n",
      "Collecting yarl\n",
      "  Using cached yarl-1.6.3-cp36-cp36m-manylinux2014_x86_64.whl (293 kB)\n",
      "Collecting starlette<=0.12.9,>=0.12.9\n",
      "  Using cached starlette-0.12.9.tar.gz (46 kB)\n",
      "Requirement already satisfied: six in /home/abhishekbhatt/.local/share/virtualenvs/DP_weather_bot-ZMgfzOVO/lib/python3.6/site-packages (from h5py==2.10.0->deeppavlov==0.11.0) (1.15.0)\n",
      "Requirement already satisfied: python-dateutil>=2.6.1 in /home/abhishekbhatt/.local/share/virtualenvs/DP_weather_bot-ZMgfzOVO/lib/python3.6/site-packages (from pandas==0.25.3->deeppavlov==0.11.0) (2.8.1)\n",
      "Collecting dataclasses>=0.6\n",
      "  Using cached dataclasses-0.8-py3-none-any.whl (19 kB)\n",
      "Collecting docopt>=0.6\n",
      "  Using cached docopt-0.6.2-py2.py3-none-any.whl\n",
      "Collecting pymorphy2-dicts<3.0,>=2.4\n",
      "  Using cached pymorphy2_dicts-2.4.393442.3710985-py2.py3-none-any.whl (7.1 MB)\n",
      "Collecting dawg-python>=0.7\n",
      "  Using cached DAWG_Python-0.7.2-py2.py3-none-any.whl (11 kB)\n",
      "Collecting cryptography>=2.8\n",
      "  Using cached cryptography-3.4.7-cp36-abi3-manylinux2014_x86_64.whl (3.2 MB)\n",
      "Collecting idna<2.9,>=2.5\n",
      "  Using cached idna-2.8-py2.py3-none-any.whl (58 kB)\n",
      "Collecting urllib3!=1.25.0,!=1.25.1,<1.26,>=1.21.1\n",
      "  Using cached urllib3-1.25.11-py2.py3-none-any.whl (127 kB)\n",
      "Collecting certifi>=2017.4.17\n",
      "  Using cached certifi-2020.12.5-py2.py3-none-any.whl (147 kB)\n",
      "Collecting chardet<3.1.0,>=3.0.2\n",
      "  Using cached chardet-3.0.4-py2.py3-none-any.whl (133 kB)\n",
      "Collecting joblib\n",
      "  Using cached joblib-1.0.1-py3-none-any.whl (303 kB)\n",
      "Collecting h11<0.10,>=0.8\n",
      "  Using cached h11-0.9.0-py2.py3-none-any.whl (53 kB)\n",
      "Collecting uvloop>=0.14.0\n",
      "  Downloading uvloop-0.15.1.tar.gz (2.1 MB)\n",
      "\u001b[K     |████████████████████████████████| 2.1 MB 1.1 MB/s eta 0:00:01\n",
      "\u001b[31m    ERROR: Command errored out with exit status 1:\n",
      "     command: /home/abhishekbhatt/.local/share/virtualenvs/DP_weather_bot-ZMgfzOVO/bin/python -c 'import sys, setuptools, tokenize; sys.argv[0] = '\"'\"'/tmp/pip-install-1u15ewbt/uvloop_52ee5abaed1d47448ad9a04b1f43118b/setup.py'\"'\"'; __file__='\"'\"'/tmp/pip-install-1u15ewbt/uvloop_52ee5abaed1d47448ad9a04b1f43118b/setup.py'\"'\"';f=getattr(tokenize, '\"'\"'open'\"'\"', open)(__file__);code=f.read().replace('\"'\"'\\r\\n'\"'\"', '\"'\"'\\n'\"'\"');f.close();exec(compile(code, __file__, '\"'\"'exec'\"'\"'))' egg_info --egg-base /tmp/pip-pip-egg-info-df8hmaf8\n",
      "         cwd: /tmp/pip-install-1u15ewbt/uvloop_52ee5abaed1d47448ad9a04b1f43118b/\n",
      "    Complete output (5 lines):\n",
      "    Traceback (most recent call last):\n",
      "      File \"<string>\", line 1, in <module>\n",
      "      File \"/tmp/pip-install-1u15ewbt/uvloop_52ee5abaed1d47448ad9a04b1f43118b/setup.py\", line 5, in <module>\n",
      "        raise RuntimeError('uvloop requires Python 3.7 or greater')\n",
      "    RuntimeError: uvloop requires Python 3.7 or greater\n",
      "    ----------------------------------------\u001b[0m\n",
      "\u001b[33mWARNING: Discarding https://files.pythonhosted.org/packages/94/98/9dc814f391b2293ecc790b9752e005296c69c3694fd9975b6cb77c448135/uvloop-0.15.1.tar.gz#sha256=7846828112bfb49abc5fdfc47d0e4dfd7402115c9fde3c14c31818cfbeeb63dc (from https://pypi.org/simple/uvloop/). Command errored out with exit status 1: python setup.py egg_info Check the logs for full command output.\u001b[0m\n",
      "\u001b[?25h  Downloading uvloop-0.15.0.tar.gz (2.1 MB)\n",
      "\u001b[K     |████████████████████████████████| 2.1 MB 305 kB/s eta 0:00:01\n",
      "\u001b[31m    ERROR: Command errored out with exit status 1:\n",
      "     command: /home/abhishekbhatt/.local/share/virtualenvs/DP_weather_bot-ZMgfzOVO/bin/python -c 'import sys, setuptools, tokenize; sys.argv[0] = '\"'\"'/tmp/pip-install-1u15ewbt/uvloop_67384a9f6523490b817c042e619df792/setup.py'\"'\"'; __file__='\"'\"'/tmp/pip-install-1u15ewbt/uvloop_67384a9f6523490b817c042e619df792/setup.py'\"'\"';f=getattr(tokenize, '\"'\"'open'\"'\"', open)(__file__);code=f.read().replace('\"'\"'\\r\\n'\"'\"', '\"'\"'\\n'\"'\"');f.close();exec(compile(code, __file__, '\"'\"'exec'\"'\"'))' egg_info --egg-base /tmp/pip-pip-egg-info-pkq3jdo0\n",
      "         cwd: /tmp/pip-install-1u15ewbt/uvloop_67384a9f6523490b817c042e619df792/\n",
      "    Complete output (5 lines):\n",
      "    Traceback (most recent call last):\n",
      "      File \"<string>\", line 1, in <module>\n",
      "      File \"/tmp/pip-install-1u15ewbt/uvloop_67384a9f6523490b817c042e619df792/setup.py\", line 5, in <module>\n",
      "        raise RuntimeError('uvloop requires Python 3.7 or greater')\n",
      "    RuntimeError: uvloop requires Python 3.7 or greater\n",
      "    ----------------------------------------\u001b[0m\n",
      "\u001b[33mWARNING: Discarding https://files.pythonhosted.org/packages/df/fb/0e1b479ac5502f3d4531a2fc3f046312616f1ad020c686da353c2ff3bbc6/uvloop-0.15.0.tar.gz#sha256=1a503d5b49da6e3dd5607d6e533a5315b1caedbf629901807c65a23a09cad065 (from https://pypi.org/simple/uvloop/). Command errored out with exit status 1: python setup.py egg_info Check the logs for full command output.\u001b[0m\n",
      "\u001b[?25h  Using cached uvloop-0.14.0-cp36-cp36m-manylinux2010_x86_64.whl (3.9 MB)\n",
      "Collecting websockets==8.*\n",
      "  Using cached websockets-8.1-cp36-cp36m-manylinux2010_x86_64.whl (78 kB)\n"
     ]
    },
    {
     "name": "stdout",
     "output_type": "stream",
     "text": [
      "Collecting httptools==0.0.13\n",
      "  Using cached httptools-0.0.13.tar.gz (104 kB)\n",
      "Collecting pamqp==2.3.0\n",
      "  Using cached pamqp-2.3.0-py2.py3-none-any.whl (28 kB)\n",
      "Requirement already satisfied: cffi>=1.12 in /home/abhishekbhatt/.local/share/virtualenvs/DP_weather_bot-ZMgfzOVO/lib/python3.6/site-packages (from cryptography>=2.8->pyopenssl==19.1.0->deeppavlov==0.11.0) (1.14.5)\n",
      "Requirement already satisfied: pycparser in /home/abhishekbhatt/.local/share/virtualenvs/DP_weather_bot-ZMgfzOVO/lib/python3.6/site-packages (from cffi>=1.12->cryptography>=2.8->pyopenssl==19.1.0->deeppavlov==0.11.0) (2.20)\n",
      "Collecting multidict>=4.0\n",
      "  Downloading multidict-5.1.0-cp36-cp36m-manylinux2014_x86_64.whl (141 kB)\n",
      "\u001b[K     |████████████████████████████████| 141 kB 660 kB/s eta 0:00:01\n",
      "\u001b[?25hRequirement already satisfied: typing-extensions>=3.7.4 in /home/abhishekbhatt/.local/share/virtualenvs/DP_weather_bot-ZMgfzOVO/lib/python3.6/site-packages (from yarl->aio-pika==6.4.1->deeppavlov==0.11.0) (3.7.4.3)\n",
      "Building wheels for collected packages: deeppavlov, nltk, overrides, pytelegrambotapi, sacremoses, httptools, starlette\n",
      "  Building wheel for deeppavlov (setup.py) ... \u001b[?25ldone\n",
      "\u001b[?25h  Created wheel for deeppavlov: filename=deeppavlov-0.11.0-py3-none-any.whl size=854037 sha256=550b37ccb2c945f1d8beed0faa57431d4b6cd8c0a5f9309e25b68b5935990b56\n",
      "  Stored in directory: /tmp/pip-ephem-wheel-cache-tx8qy5s4/wheels/7c/4d/7b/6ee207c441350d2656b01087b6e260d201b3fddd0d0df4bc99\n",
      "  Building wheel for nltk (setup.py) ... \u001b[?25ldone\n",
      "\u001b[?25h  Created wheel for nltk: filename=nltk-3.4.5-py3-none-any.whl size=1449907 sha256=6f727bc709d02589bbda021a3920f96d29822566a90383691913e59701d9b2f2\n",
      "  Stored in directory: /home/abhishekbhatt/.cache/pip/wheels/e3/c9/b0/ed26a73ef75a53145820825afa8e2d2c9b30fe9f6c10cd3202\n",
      "  Building wheel for overrides (setup.py) ... \u001b[?25ldone\n",
      "\u001b[?25h  Created wheel for overrides: filename=overrides-2.7.0-py3-none-any.whl size=5599 sha256=1e7da73363fa1d729ef429c06a6d2212df5bb9171b56e1a843ca771867df2c49\n",
      "  Stored in directory: /home/abhishekbhatt/.cache/pip/wheels/7f/28/c6/21129f2ea68b16f195a04e75215c22baea27d28e7ca2bc162e\n",
      "  Building wheel for pytelegrambotapi (setup.py) ... \u001b[?25ldone\n",
      "\u001b[?25h  Created wheel for pytelegrambotapi: filename=pyTelegramBotAPI-3.6.7-py3-none-any.whl size=47176 sha256=276ed414bcc6c56087ba969838c3301695ac28491e3060c6363e7a6692ce5d62\n",
      "  Stored in directory: /home/abhishekbhatt/.cache/pip/wheels/00/8f/a6/5302cb9bee0b25fb1cc10f509cdb088464c907d67c61481df5\n",
      "  Building wheel for sacremoses (setup.py) ... \u001b[?25ldone\n",
      "\u001b[?25h  Created wheel for sacremoses: filename=sacremoses-0.0.35-py3-none-any.whl size=883999 sha256=ea421fa5e0648b9d1f560e6a53cbd422aaf7ffb871cb860466028b096dcd4910\n",
      "  Stored in directory: /home/abhishekbhatt/.cache/pip/wheels/cc/1c/a7/137ec649e0276d453fd870aba3b43e0734d087406a33ce7596\n",
      "  Building wheel for httptools (setup.py) ... \u001b[?25ldone\n",
      "\u001b[?25h  Created wheel for httptools: filename=httptools-0.0.13-cp36-cp36m-linux_x86_64.whl size=212569 sha256=3fe5d4d8e1ffbf45e72399a9a6f7ae57ac990a2f101b612c4ba82c0d4e13826b\n",
      "  Stored in directory: /home/abhishekbhatt/.cache/pip/wheels/10/f6/5e/1b89aee7bd3b1470f15c92054e684439ab17efb3914f63f104\n",
      "  Building wheel for starlette (setup.py) ... \u001b[?25ldone\n",
      "\u001b[?25h  Created wheel for starlette: filename=starlette-0.12.9-py3-none-any.whl size=57241 sha256=e652785350aec245d4b0fb6ee5043e5df28009b8fd2e4f559e9f83370bf8641f\n",
      "  Stored in directory: /home/abhishekbhatt/.cache/pip/wheels/e7/da/41/030922a5b1bb766e40af2c644ce919f78707fd830c82c72369\n",
      "Successfully built deeppavlov nltk overrides pytelegrambotapi sacremoses httptools starlette\n",
      "Installing collected packages: multidict, idna, yarl, urllib3, pamqp, numpy, dataclasses, chardet, certifi, websockets, uvloop, tqdm, starlette, scipy, requests, pytz, pymorphy2-dicts, pydantic, joblib, httptools, h11, docopt, dawg-python, cryptography, click, aiormq, uvicorn, scikit-learn, sacremoses, rusenttokenize, ruamel.yaml, pytelegrambotapi, pyopenssl, pymorphy2-dicts-ru, pymorphy2, pandas, overrides, nltk, h5py, fastapi, Cython, aio-pika, deeppavlov\n",
      "Successfully installed Cython-0.29.14 aio-pika-6.4.1 aiormq-3.3.1 certifi-2020.12.5 chardet-3.0.4 click-7.1.2 cryptography-3.4.7 dataclasses-0.8 dawg-python-0.7.2 deeppavlov-0.11.0 docopt-0.6.2 fastapi-0.47.1 h11-0.9.0 h5py-2.10.0 httptools-0.0.13 idna-2.8 joblib-1.0.1 multidict-5.1.0 nltk-3.4.5 numpy-1.18.0 overrides-2.7.0 pamqp-2.3.0 pandas-0.25.3 pydantic-1.3 pymorphy2-0.8 pymorphy2-dicts-2.4.393442.3710985 pymorphy2-dicts-ru-2.4.417127.4579844 pyopenssl-19.1.0 pytelegrambotapi-3.6.7 pytz-2019.1 requests-2.22.0 ruamel.yaml-0.15.100 rusenttokenize-0.0.5 sacremoses-0.0.35 scikit-learn-0.21.2 scipy-1.4.1 starlette-0.12.9 tqdm-4.41.1 urllib3-1.25.11 uvicorn-0.11.1 uvloop-0.14.0 websockets-8.1 yarl-1.6.3\n",
      "2021-03-29 12:54:45.216 INFO in 'deeppavlov.core.common.file'['file'] at line 32: Interpreting 'gobot_simple_dstc2' as '/home/abhishekbhatt/.local/share/virtualenvs/DP_weather_bot-ZMgfzOVO/lib/python3.6/site-packages/deeppavlov/configs/go_bot/gobot_simple_dstc2.json'\n",
      "Collecting gensim==3.8.1\n",
      "  Downloading gensim-3.8.1-cp36-cp36m-manylinux1_x86_64.whl (24.2 MB)\n",
      "\u001b[K     |████████████████████████████████| 24.2 MB 87 kB/s eta 0:00:016\n",
      "\u001b[?25hCollecting smart-open>=1.8.1\n",
      "  Using cached smart_open-4.2.0.tar.gz (119 kB)\n",
      "Requirement already satisfied: six>=1.5.0 in /home/abhishekbhatt/.local/share/virtualenvs/DP_weather_bot-ZMgfzOVO/lib/python3.6/site-packages (from gensim==3.8.1) (1.15.0)\n",
      "Requirement already satisfied: numpy>=1.11.3 in /home/abhishekbhatt/.local/share/virtualenvs/DP_weather_bot-ZMgfzOVO/lib/python3.6/site-packages (from gensim==3.8.1) (1.18.0)\n",
      "Requirement already satisfied: scipy>=0.18.1 in /home/abhishekbhatt/.local/share/virtualenvs/DP_weather_bot-ZMgfzOVO/lib/python3.6/site-packages (from gensim==3.8.1) (1.4.1)\n",
      "Building wheels for collected packages: smart-open\n",
      "  Building wheel for smart-open (setup.py) ... \u001b[?25ldone\n",
      "\u001b[?25h  Created wheel for smart-open: filename=smart_open-4.2.0-py3-none-any.whl size=109632 sha256=8ae9edb80ca9561af57b28066976c066294cde7139130085d7c1bec76bbee0ec\n",
      "  Stored in directory: /home/abhishekbhatt/.cache/pip/wheels/05/12/87/d479d6a8f92130cd8b27e331cc433bb28dda9c20e57f0b1ab2\n",
      "Successfully built smart-open\n",
      "Installing collected packages: smart-open, gensim\n",
      "Successfully installed gensim-3.8.1 smart-open-4.2.0\n",
      "Collecting rapidfuzz==0.7.6\n",
      "  Downloading rapidfuzz-0.7.6-cp36-cp36m-manylinux2010_x86_64.whl (689 kB)\n",
      "\u001b[K     |████████████████████████████████| 689 kB 227 kB/s eta 0:00:01\n",
      "\u001b[?25hInstalling collected packages: rapidfuzz\n",
      "Successfully installed rapidfuzz-0.7.6\n",
      "Collecting spacy==2.2.3\n",
      "  Downloading spacy-2.2.3-cp36-cp36m-manylinux1_x86_64.whl (10.4 MB)\n",
      "\u001b[K     |████████████████████████████████| 10.4 MB 56 kB/s  eta 0:00:01\n",
      "\u001b[?25hCollecting cymem<2.1.0,>=2.0.2\n",
      "  Downloading cymem-2.0.5-cp36-cp36m-manylinux2014_x86_64.whl (35 kB)\n",
      "Collecting plac<1.2.0,>=0.9.6\n",
      "  Using cached plac-1.1.3-py2.py3-none-any.whl (20 kB)\n",
      "Collecting thinc<7.4.0,>=7.3.0\n",
      "  Downloading thinc-7.3.1-cp36-cp36m-manylinux1_x86_64.whl (2.2 MB)\n",
      "\u001b[K     |████████████████████████████████| 2.2 MB 264 kB/s eta 0:00:01\n",
      "\u001b[?25hCollecting blis<0.5.0,>=0.4.0\n",
      "  Downloading blis-0.4.1-cp36-cp36m-manylinux1_x86_64.whl (3.7 MB)\n",
      "\u001b[K     |████████████████████████████████| 3.7 MB 56 kB/s eta 0:00:013\n",
      "\u001b[?25hCollecting murmurhash<1.1.0,>=0.28.0\n",
      "  Downloading murmurhash-1.0.5-cp36-cp36m-manylinux2014_x86_64.whl (20 kB)\n",
      "Requirement already satisfied: numpy>=1.15.0 in /home/abhishekbhatt/.local/share/virtualenvs/DP_weather_bot-ZMgfzOVO/lib/python3.6/site-packages (from spacy==2.2.3) (1.18.0)\n",
      "Requirement already satisfied: setuptools in /home/abhishekbhatt/.local/share/virtualenvs/DP_weather_bot-ZMgfzOVO/lib/python3.6/site-packages (from spacy==2.2.3) (54.1.2)\n",
      "Collecting preshed<3.1.0,>=3.0.2\n",
      "  Downloading preshed-3.0.5-cp36-cp36m-manylinux2014_x86_64.whl (126 kB)\n",
      "\u001b[K     |████████████████████████████████| 126 kB 699 kB/s eta 0:00:01\n",
      "\u001b[?25hCollecting wasabi<1.1.0,>=0.4.0\n",
      "  Using cached wasabi-0.8.2-py3-none-any.whl (23 kB)\n",
      "Collecting catalogue<1.1.0,>=0.0.7\n",
      "  Using cached catalogue-1.0.0-py2.py3-none-any.whl (7.7 kB)\n",
      "Collecting srsly<1.1.0,>=0.1.0\n",
      "  Downloading srsly-1.0.5-cp36-cp36m-manylinux2014_x86_64.whl (184 kB)\n"
     ]
    },
    {
     "name": "stdout",
     "output_type": "stream",
     "text": [
      "\u001b[K     |████████████████████████████████| 184 kB 6.1 MB/s eta 0:00:01\n",
      "\u001b[?25hRequirement already satisfied: requests<3.0.0,>=2.13.0 in /home/abhishekbhatt/.local/share/virtualenvs/DP_weather_bot-ZMgfzOVO/lib/python3.6/site-packages (from spacy==2.2.3) (2.22.0)\n",
      "Requirement already satisfied: importlib-metadata>=0.20 in /home/abhishekbhatt/.local/share/virtualenvs/DP_weather_bot-ZMgfzOVO/lib/python3.6/site-packages (from catalogue<1.1.0,>=0.0.7->spacy==2.2.3) (3.9.0)\n",
      "Requirement already satisfied: typing-extensions>=3.6.4 in /home/abhishekbhatt/.local/share/virtualenvs/DP_weather_bot-ZMgfzOVO/lib/python3.6/site-packages (from importlib-metadata>=0.20->catalogue<1.1.0,>=0.0.7->spacy==2.2.3) (3.7.4.3)\n",
      "Requirement already satisfied: zipp>=0.5 in /home/abhishekbhatt/.local/share/virtualenvs/DP_weather_bot-ZMgfzOVO/lib/python3.6/site-packages (from importlib-metadata>=0.20->catalogue<1.1.0,>=0.0.7->spacy==2.2.3) (3.4.1)\n",
      "Requirement already satisfied: certifi>=2017.4.17 in /home/abhishekbhatt/.local/share/virtualenvs/DP_weather_bot-ZMgfzOVO/lib/python3.6/site-packages (from requests<3.0.0,>=2.13.0->spacy==2.2.3) (2020.12.5)\n",
      "Requirement already satisfied: chardet<3.1.0,>=3.0.2 in /home/abhishekbhatt/.local/share/virtualenvs/DP_weather_bot-ZMgfzOVO/lib/python3.6/site-packages (from requests<3.0.0,>=2.13.0->spacy==2.2.3) (3.0.4)\n",
      "Requirement already satisfied: urllib3!=1.25.0,!=1.25.1,<1.26,>=1.21.1 in /home/abhishekbhatt/.local/share/virtualenvs/DP_weather_bot-ZMgfzOVO/lib/python3.6/site-packages (from requests<3.0.0,>=2.13.0->spacy==2.2.3) (1.25.11)\n",
      "Requirement already satisfied: idna<2.9,>=2.5 in /home/abhishekbhatt/.local/share/virtualenvs/DP_weather_bot-ZMgfzOVO/lib/python3.6/site-packages (from requests<3.0.0,>=2.13.0->spacy==2.2.3) (2.8)\n",
      "Requirement already satisfied: tqdm<5.0.0,>=4.10.0 in /home/abhishekbhatt/.local/share/virtualenvs/DP_weather_bot-ZMgfzOVO/lib/python3.6/site-packages (from thinc<7.4.0,>=7.3.0->spacy==2.2.3) (4.41.1)\n",
      "Installing collected packages: murmurhash, cymem, wasabi, srsly, preshed, plac, blis, thinc, catalogue, spacy\n",
      "Successfully installed blis-0.4.1 catalogue-1.0.0 cymem-2.0.5 murmurhash-1.0.5 plac-1.1.3 preshed-3.0.5 spacy-2.2.3 srsly-1.0.5 thinc-7.3.1 wasabi-0.8.2\n",
      "Collecting en_core_web_sm==2.2.5\n",
      "  Downloading https://github.com/explosion/spacy-models/releases/download/en_core_web_sm-2.2.5/en_core_web_sm-2.2.5.tar.gz (12.0 MB)\n",
      "\u001b[K     |████████████████████████████████| 12.0 MB 1.9 MB/s eta 0:00:01\n",
      "\u001b[?25hRequirement already satisfied: spacy>=2.2.2 in /home/abhishekbhatt/.local/share/virtualenvs/DP_weather_bot-ZMgfzOVO/lib/python3.6/site-packages (from en_core_web_sm==2.2.5) (2.2.3)\n",
      "Requirement already satisfied: plac<1.2.0,>=0.9.6 in /home/abhishekbhatt/.local/share/virtualenvs/DP_weather_bot-ZMgfzOVO/lib/python3.6/site-packages (from spacy>=2.2.2->en_core_web_sm==2.2.5) (1.1.3)\n",
      "Requirement already satisfied: numpy>=1.15.0 in /home/abhishekbhatt/.local/share/virtualenvs/DP_weather_bot-ZMgfzOVO/lib/python3.6/site-packages (from spacy>=2.2.2->en_core_web_sm==2.2.5) (1.18.0)\n",
      "Requirement already satisfied: cymem<2.1.0,>=2.0.2 in /home/abhishekbhatt/.local/share/virtualenvs/DP_weather_bot-ZMgfzOVO/lib/python3.6/site-packages (from spacy>=2.2.2->en_core_web_sm==2.2.5) (2.0.5)\n",
      "Requirement already satisfied: requests<3.0.0,>=2.13.0 in /home/abhishekbhatt/.local/share/virtualenvs/DP_weather_bot-ZMgfzOVO/lib/python3.6/site-packages (from spacy>=2.2.2->en_core_web_sm==2.2.5) (2.22.0)\n",
      "Requirement already satisfied: srsly<1.1.0,>=0.1.0 in /home/abhishekbhatt/.local/share/virtualenvs/DP_weather_bot-ZMgfzOVO/lib/python3.6/site-packages (from spacy>=2.2.2->en_core_web_sm==2.2.5) (1.0.5)\n",
      "Requirement already satisfied: blis<0.5.0,>=0.4.0 in /home/abhishekbhatt/.local/share/virtualenvs/DP_weather_bot-ZMgfzOVO/lib/python3.6/site-packages (from spacy>=2.2.2->en_core_web_sm==2.2.5) (0.4.1)\n",
      "Requirement already satisfied: preshed<3.1.0,>=3.0.2 in /home/abhishekbhatt/.local/share/virtualenvs/DP_weather_bot-ZMgfzOVO/lib/python3.6/site-packages (from spacy>=2.2.2->en_core_web_sm==2.2.5) (3.0.5)\n",
      "Requirement already satisfied: catalogue<1.1.0,>=0.0.7 in /home/abhishekbhatt/.local/share/virtualenvs/DP_weather_bot-ZMgfzOVO/lib/python3.6/site-packages (from spacy>=2.2.2->en_core_web_sm==2.2.5) (1.0.0)\n",
      "Requirement already satisfied: setuptools in /home/abhishekbhatt/.local/share/virtualenvs/DP_weather_bot-ZMgfzOVO/lib/python3.6/site-packages (from spacy>=2.2.2->en_core_web_sm==2.2.5) (54.1.2)\n",
      "Requirement already satisfied: wasabi<1.1.0,>=0.4.0 in /home/abhishekbhatt/.local/share/virtualenvs/DP_weather_bot-ZMgfzOVO/lib/python3.6/site-packages (from spacy>=2.2.2->en_core_web_sm==2.2.5) (0.8.2)\n",
      "Requirement already satisfied: murmurhash<1.1.0,>=0.28.0 in /home/abhishekbhatt/.local/share/virtualenvs/DP_weather_bot-ZMgfzOVO/lib/python3.6/site-packages (from spacy>=2.2.2->en_core_web_sm==2.2.5) (1.0.5)\n",
      "Requirement already satisfied: thinc<7.4.0,>=7.3.0 in /home/abhishekbhatt/.local/share/virtualenvs/DP_weather_bot-ZMgfzOVO/lib/python3.6/site-packages (from spacy>=2.2.2->en_core_web_sm==2.2.5) (7.3.1)\n",
      "Requirement already satisfied: importlib-metadata>=0.20 in /home/abhishekbhatt/.local/share/virtualenvs/DP_weather_bot-ZMgfzOVO/lib/python3.6/site-packages (from catalogue<1.1.0,>=0.0.7->spacy>=2.2.2->en_core_web_sm==2.2.5) (3.9.0)\n",
      "Requirement already satisfied: zipp>=0.5 in /home/abhishekbhatt/.local/share/virtualenvs/DP_weather_bot-ZMgfzOVO/lib/python3.6/site-packages (from importlib-metadata>=0.20->catalogue<1.1.0,>=0.0.7->spacy>=2.2.2->en_core_web_sm==2.2.5) (3.4.1)\n",
      "Requirement already satisfied: typing-extensions>=3.6.4 in /home/abhishekbhatt/.local/share/virtualenvs/DP_weather_bot-ZMgfzOVO/lib/python3.6/site-packages (from importlib-metadata>=0.20->catalogue<1.1.0,>=0.0.7->spacy>=2.2.2->en_core_web_sm==2.2.5) (3.7.4.3)\n",
      "Requirement already satisfied: urllib3!=1.25.0,!=1.25.1,<1.26,>=1.21.1 in /home/abhishekbhatt/.local/share/virtualenvs/DP_weather_bot-ZMgfzOVO/lib/python3.6/site-packages (from requests<3.0.0,>=2.13.0->spacy>=2.2.2->en_core_web_sm==2.2.5) (1.25.11)\n",
      "Requirement already satisfied: idna<2.9,>=2.5 in /home/abhishekbhatt/.local/share/virtualenvs/DP_weather_bot-ZMgfzOVO/lib/python3.6/site-packages (from requests<3.0.0,>=2.13.0->spacy>=2.2.2->en_core_web_sm==2.2.5) (2.8)\n",
      "Requirement already satisfied: certifi>=2017.4.17 in /home/abhishekbhatt/.local/share/virtualenvs/DP_weather_bot-ZMgfzOVO/lib/python3.6/site-packages (from requests<3.0.0,>=2.13.0->spacy>=2.2.2->en_core_web_sm==2.2.5) (2020.12.5)\n",
      "Requirement already satisfied: chardet<3.1.0,>=3.0.2 in /home/abhishekbhatt/.local/share/virtualenvs/DP_weather_bot-ZMgfzOVO/lib/python3.6/site-packages (from requests<3.0.0,>=2.13.0->spacy>=2.2.2->en_core_web_sm==2.2.5) (3.0.4)\n",
      "Requirement already satisfied: tqdm<5.0.0,>=4.10.0 in /home/abhishekbhatt/.local/share/virtualenvs/DP_weather_bot-ZMgfzOVO/lib/python3.6/site-packages (from thinc<7.4.0,>=7.3.0->spacy>=2.2.2->en_core_web_sm==2.2.5) (4.41.1)\n",
      "Building wheels for collected packages: en-core-web-sm\n",
      "  Building wheel for en-core-web-sm (setup.py) ... \u001b[?25ldone\n",
      "\u001b[?25h  Created wheel for en-core-web-sm: filename=en_core_web_sm-2.2.5-py3-none-any.whl size=12011738 sha256=8ef6e3df1abb8076baba0909986007eb9549494cae4ed84033659a0263e871a4\n",
      "  Stored in directory: /home/abhishekbhatt/.cache/pip/wheels/b5/94/56/596daa677d7e91038cbddfcf32b591d0c915a1b3a3e3d3c79d\n",
      "Successfully built en-core-web-sm\n",
      "Installing collected packages: en-core-web-sm\n",
      "Successfully installed en-core-web-sm-2.2.5\n",
      "Collecting tensorflow==1.15.2\n",
      "  Downloading tensorflow-1.15.2-cp36-cp36m-manylinux2010_x86_64.whl (110.5 MB)\n",
      "\u001b[K     |████████████████████████████████| 110.5 MB 42 kB/s  eta 0:00:01\n",
      "\u001b[?25hCollecting keras-preprocessing>=1.0.5\n",
      "  Using cached Keras_Preprocessing-1.1.2-py2.py3-none-any.whl (42 kB)\n",
      "Requirement already satisfied: six>=1.10.0 in /home/abhishekbhatt/.local/share/virtualenvs/DP_weather_bot-ZMgfzOVO/lib/python3.6/site-packages (from tensorflow==1.15.2) (1.15.0)\n",
      "Collecting opt-einsum>=2.3.2\n",
      "  Using cached opt_einsum-3.3.0-py3-none-any.whl (65 kB)\n",
      "Collecting grpcio>=1.8.6\n",
      "  Using cached grpcio-1.36.1-cp36-cp36m-manylinux2014_x86_64.whl (4.1 MB)\n",
      "Requirement already satisfied: wheel>=0.26 in /home/abhishekbhatt/.local/share/virtualenvs/DP_weather_bot-ZMgfzOVO/lib/python3.6/site-packages (from tensorflow==1.15.2) (0.36.2)\n"
     ]
    },
    {
     "name": "stdout",
     "output_type": "stream",
     "text": [
      "Collecting keras-applications>=1.0.8\n",
      "  Using cached Keras_Applications-1.0.8-py3-none-any.whl (50 kB)\n",
      "Collecting wrapt>=1.11.1\n",
      "  Using cached wrapt-1.12.1-cp36-cp36m-linux_x86_64.whl\n",
      "Collecting astor>=0.6.0\n",
      "  Using cached astor-0.8.1-py2.py3-none-any.whl (27 kB)\n",
      "Collecting google-pasta>=0.1.6\n",
      "  Using cached google_pasta-0.2.0-py3-none-any.whl (57 kB)\n",
      "Collecting absl-py>=0.7.0\n",
      "  Using cached absl_py-0.12.0-py3-none-any.whl (129 kB)\n",
      "Collecting protobuf>=3.6.1\n",
      "  Using cached protobuf-3.15.6-cp36-cp36m-manylinux1_x86_64.whl (1.0 MB)\n",
      "Collecting tensorflow-estimator==1.15.1\n",
      "  Using cached tensorflow_estimator-1.15.1-py2.py3-none-any.whl (503 kB)\n",
      "Collecting termcolor>=1.1.0\n",
      "  Using cached termcolor-1.1.0-py3-none-any.whl\n",
      "Requirement already satisfied: numpy<2.0,>=1.16.0 in /home/abhishekbhatt/.local/share/virtualenvs/DP_weather_bot-ZMgfzOVO/lib/python3.6/site-packages (from tensorflow==1.15.2) (1.18.0)\n",
      "Collecting gast==0.2.2\n",
      "  Using cached gast-0.2.2.tar.gz (10 kB)\n",
      "Collecting tensorboard<1.16.0,>=1.15.0\n",
      "  Using cached tensorboard-1.15.0-py3-none-any.whl (3.8 MB)\n",
      "Requirement already satisfied: h5py in /home/abhishekbhatt/.local/share/virtualenvs/DP_weather_bot-ZMgfzOVO/lib/python3.6/site-packages (from keras-applications>=1.0.8->tensorflow==1.15.2) (2.10.0)\n",
      "Collecting markdown>=2.6.8\n",
      "  Using cached Markdown-3.3.4-py3-none-any.whl (97 kB)\n",
      "Collecting werkzeug>=0.11.15\n",
      "  Using cached Werkzeug-1.0.1-py2.py3-none-any.whl (298 kB)\n",
      "Requirement already satisfied: setuptools>=41.0.0 in /home/abhishekbhatt/.local/share/virtualenvs/DP_weather_bot-ZMgfzOVO/lib/python3.6/site-packages (from tensorboard<1.16.0,>=1.15.0->tensorflow==1.15.2) (54.1.2)\n",
      "Requirement already satisfied: importlib-metadata in /home/abhishekbhatt/.local/share/virtualenvs/DP_weather_bot-ZMgfzOVO/lib/python3.6/site-packages (from markdown>=2.6.8->tensorboard<1.16.0,>=1.15.0->tensorflow==1.15.2) (3.9.0)\n",
      "Requirement already satisfied: zipp>=0.5 in /home/abhishekbhatt/.local/share/virtualenvs/DP_weather_bot-ZMgfzOVO/lib/python3.6/site-packages (from importlib-metadata->markdown>=2.6.8->tensorboard<1.16.0,>=1.15.0->tensorflow==1.15.2) (3.4.1)\n",
      "Requirement already satisfied: typing-extensions>=3.6.4 in /home/abhishekbhatt/.local/share/virtualenvs/DP_weather_bot-ZMgfzOVO/lib/python3.6/site-packages (from importlib-metadata->markdown>=2.6.8->tensorboard<1.16.0,>=1.15.0->tensorflow==1.15.2) (3.7.4.3)\n",
      "Building wheels for collected packages: gast\n",
      "  Building wheel for gast (setup.py) ... \u001b[?25ldone\n",
      "\u001b[?25h  Created wheel for gast: filename=gast-0.2.2-py3-none-any.whl size=7538 sha256=ad8682ab8bdc35aa6784fcca67544fd172417c000f36bbc9bf35b98ad9990b8a\n",
      "  Stored in directory: /home/abhishekbhatt/.cache/pip/wheels/19/a7/b9/0740c7a3a7d1d348f04823339274b90de25fbcd217b2ee1fbe\n",
      "Successfully built gast\n",
      "Installing collected packages: werkzeug, protobuf, markdown, grpcio, absl-py, wrapt, termcolor, tensorflow-estimator, tensorboard, opt-einsum, keras-preprocessing, keras-applications, google-pasta, gast, astor, tensorflow\n",
      "Successfully installed absl-py-0.12.0 astor-0.8.1 gast-0.2.2 google-pasta-0.2.0 grpcio-1.36.1 keras-applications-1.0.8 keras-preprocessing-1.1.2 markdown-3.3.4 opt-einsum-3.3.0 protobuf-3.15.6 tensorboard-1.15.0 tensorflow-1.15.2 tensorflow-estimator-1.15.1 termcolor-1.1.0 werkzeug-1.0.1 wrapt-1.12.1\n"
     ]
    }
   ],
   "source": [
    "!pip install git+https://github.com/deepmipt/DeepPavlov.git@feature/gobot-md-yaml-config\n",
    "!python -m deeppavlov install gobot_simple_dstc2"
   ]
  },
  {
   "cell_type": "code",
   "execution_count": 20,
   "id": "alleged-concept",
   "metadata": {},
   "outputs": [],
   "source": [
    "from deeppavlov import configs\n",
    "from deeppavlov.core.common.file import read_json\n",
    "\n",
    "\n",
    "gobot_config = read_json(configs.go_bot.gobot_md_yaml_minimal)\n",
    "\n",
    "gobot_config['metadata']['variables']['DATA_PATH'] = '.'\n",
    "gobot_config['metadata']['variables']['MODEL_PATH'] = '.'"
   ]
  },
  {
   "cell_type": "code",
   "execution_count": 21,
   "id": "round-bibliography",
   "metadata": {},
   "outputs": [],
   "source": [
    "!cp stories.md stories-trn.md\n",
    "!cp stories.md stories-tst.md \n",
    "!cp stories.md stories-val.md"
   ]
  },
  {
   "cell_type": "code",
   "execution_count": 22,
   "id": "champion-rotation",
   "metadata": {
    "scrolled": true
   },
   "outputs": [
    {
     "name": "stderr",
     "output_type": "stream",
     "text": [
      "2021-03-29 13:27:59.671 DEBUG in 'deeppavlov.dataset_readers.md_yaml_dialogs_reader'['md_yaml_dialogs_reader'] at line 217: BEFORE MLU_MD_DialogsDatasetReader._read_story(): story_fpath=/home/abhishekbhatt/Documents/DeepPavlov_Chatbots/DP_weather_bot/stories-trn.md, dialogs=False, domain_knowledge=<deeppavlov.dataset_readers.md_yaml_dialogs_reader.DomainKnowledge object at 0x7f8b702e0198>, intent2slots2text={'greet': {(): [{'text': 'Hi', 'slots': []}, {'text': 'Hey', 'slots': []}, {'text': 'Hi bot', 'slots': []}, {'text': 'Hey bot', 'slots': []}, {'text': 'Hello', 'slots': []}, {'text': 'Good morning', 'slots': []}, {'text': 'hi again', 'slots': []}, {'text': 'hi folks', 'slots': []}, {'text': 'hola', 'slots': []}, {'text': 'hello, how are you today?', 'slots': []}, {'text': 'yo', 'slots': []}, {'text': 'hiya', 'slots': []}, {'text': 'Hello there', 'slots': []}, {'text': 'Umm, hey!', 'slots': []}]}, 'goodbye': {(): [{'text': 'goodbye', 'slots': []}, {'text': 'goodnight', 'slots': []}, {'text': 'good bye', 'slots': []}, {'text': 'good night', 'slots': []}, {'text': 'see ya', 'slots': []}, {'text': 'toodle-oo', 'slots': []}, {'text': 'bye bye', 'slots': []}, {'text': 'gotta go', 'slots': []}, {'text': 'farewell', 'slots': []}, {'text': 'bye then!', 'slots': []}, {'text': 'Ok then, see ya!', 'slots': []}]}, 'ask_weather_location': {(('location', 'Berlin'),): [{'text': 'How is the weather today in Berlin?', 'slots': [{'slot_value': 'Berlin', 'slot_text': 'Berlin', 'slot_name': 'location', 'span': (28, 34)}]}, {'text': \"What's going on Berlin today?\", 'slots': [{'slot_value': 'Berlin', 'slot_text': 'Berlin', 'slot_name': 'location', 'span': (16, 22)}]}], (('location', 'Stuttgart'),): [{'text': \"How's weather in Stuttgart today?\", 'slots': [{'slot_value': 'Stuttgart', 'slot_text': 'Stuttgart', 'slot_name': 'location', 'span': (17, 26)}]}], (('location', 'Prague'),): [{'text': 'In Prague', 'slots': [{'slot_value': 'Prague', 'slot_text': 'Prague', 'slot_name': 'location', 'span': (3, 9)}]}], (('location', 'Budapest'),): [{'text': 'at Budapest', 'slots': [{'slot_value': 'Budapest', 'slot_text': 'Budapest', 'slot_name': 'location', 'span': (3, 11)}]}], (('location', 'Nancy'),): [{'text': 'Nancy', 'slots': [{'slot_value': 'Nancy', 'slot_text': 'Nancy', 'slot_name': 'location', 'span': (0, 5)}]}], (('location', 'Dresden'),): [{'text': 'Tell me weather of Dresden.', 'slots': [{'slot_value': 'Dresden', 'slot_text': 'Dresden', 'slot_name': 'location', 'span': (19, 26)}]}], (('location', 'Rome'),): [{'text': 'What about in Rome today?', 'slots': [{'slot_value': 'Rome', 'slot_text': 'Rome', 'slot_name': 'location', 'span': (14, 18)}]}], (('location', 'Venice'),): [{'text': 'Show me weather of Venice', 'slots': [{'slot_value': 'Venice', 'slot_text': 'Venice', 'slot_name': 'location', 'span': (19, 25)}]}], (('location', 'Italy'),): [{'text': 'How about weather in Italy', 'slots': [{'slot_value': 'Italy', 'slot_text': 'Italy', 'slot_name': 'location', 'span': (21, 26)}]}], (('location', 'Vatican'),): [{'text': 'Sorry, in Vatican', 'slots': [{'slot_value': 'Vatican', 'slot_text': 'Vatican', 'slot_name': 'location', 'span': (10, 17)}]}], (('location', 'Bulgaria'),): [{'text': 'Uhh, how about in Bulgaria?', 'slots': [{'slot_value': 'Bulgaria', 'slot_text': 'Bulgaria', 'slot_name': 'location', 'span': (18, 26)}]}]}, 'ask_weather': {(): [{'text': \"How's the weather today?\", 'slots': []}, {'text': \"What's today's weather?\", 'slots': []}, {'text': 'How is it out there today?', 'slots': []}, {'text': \"What's overall weather today?\", 'slots': []}]}}, slot_name2text2value={'location': {'Berlin': 'Berlin', 'Stuttgart': 'Stuttgart', 'Prague': 'Prague', 'Budapest': 'Budapest', 'Nancy': 'Nancy', 'Dresden': 'Dresden', 'Rome': 'Rome', 'Venice': 'Venice', 'Italy': 'Italy', 'Vatican': 'Vatican', 'Bulgaria': 'Bulgaria'}}\n",
      "2021-03-29 13:27:59.682 INFO in 'deeppavlov.dataset_readers.dstc2_reader'['dstc2_reader'] at line 112: [loading dialogs from /tmp/tmp2kaosixo]\n",
      "2021-03-29 13:27:59.686 DEBUG in 'deeppavlov.dataset_readers.md_yaml_dialogs_reader'['md_yaml_dialogs_reader'] at line 306: AFTER MLU_MD_DialogsDatasetReader._read_story(): story_fpath=/home/abhishekbhatt/Documents/DeepPavlov_Chatbots/DP_weather_bot/stories-trn.md, dialogs=False, domain_knowledge=<deeppavlov.dataset_readers.md_yaml_dialogs_reader.DomainKnowledge object at 0x7f8b702e0198>, intent2slots2text={'greet': {(): [{'text': 'Hi', 'slots': []}, {'text': 'Hey', 'slots': []}, {'text': 'Hi bot', 'slots': []}, {'text': 'Hey bot', 'slots': []}, {'text': 'Hello', 'slots': []}, {'text': 'Good morning', 'slots': []}, {'text': 'hi again', 'slots': []}, {'text': 'hi folks', 'slots': []}, {'text': 'hola', 'slots': []}, {'text': 'hello, how are you today?', 'slots': []}, {'text': 'yo', 'slots': []}, {'text': 'hiya', 'slots': []}, {'text': 'Hello there', 'slots': []}, {'text': 'Umm, hey!', 'slots': []}]}, 'goodbye': {(): [{'text': 'goodbye', 'slots': []}, {'text': 'goodnight', 'slots': []}, {'text': 'good bye', 'slots': []}, {'text': 'good night', 'slots': []}, {'text': 'see ya', 'slots': []}, {'text': 'toodle-oo', 'slots': []}, {'text': 'bye bye', 'slots': []}, {'text': 'gotta go', 'slots': []}, {'text': 'farewell', 'slots': []}, {'text': 'bye then!', 'slots': []}, {'text': 'Ok then, see ya!', 'slots': []}]}, 'ask_weather_location': {(('location', 'Berlin'),): [{'text': 'How is the weather today in Berlin?', 'slots': [{'slot_value': 'Berlin', 'slot_text': 'Berlin', 'slot_name': 'location', 'span': (28, 34)}]}, {'text': \"What's going on Berlin today?\", 'slots': [{'slot_value': 'Berlin', 'slot_text': 'Berlin', 'slot_name': 'location', 'span': (16, 22)}]}], (('location', 'Stuttgart'),): [{'text': \"How's weather in Stuttgart today?\", 'slots': [{'slot_value': 'Stuttgart', 'slot_text': 'Stuttgart', 'slot_name': 'location', 'span': (17, 26)}]}], (('location', 'Prague'),): [{'text': 'In Prague', 'slots': [{'slot_value': 'Prague', 'slot_text': 'Prague', 'slot_name': 'location', 'span': (3, 9)}]}], (('location', 'Budapest'),): [{'text': 'at Budapest', 'slots': [{'slot_value': 'Budapest', 'slot_text': 'Budapest', 'slot_name': 'location', 'span': (3, 11)}]}], (('location', 'Nancy'),): [{'text': 'Nancy', 'slots': [{'slot_value': 'Nancy', 'slot_text': 'Nancy', 'slot_name': 'location', 'span': (0, 5)}]}], (('location', 'Dresden'),): [{'text': 'Tell me weather of Dresden.', 'slots': [{'slot_value': 'Dresden', 'slot_text': 'Dresden', 'slot_name': 'location', 'span': (19, 26)}]}], (('location', 'Rome'),): [{'text': 'What about in Rome today?', 'slots': [{'slot_value': 'Rome', 'slot_text': 'Rome', 'slot_name': 'location', 'span': (14, 18)}]}], (('location', 'Venice'),): [{'text': 'Show me weather of Venice', 'slots': [{'slot_value': 'Venice', 'slot_text': 'Venice', 'slot_name': 'location', 'span': (19, 25)}]}], (('location', 'Italy'),): [{'text': 'How about weather in Italy', 'slots': [{'slot_value': 'Italy', 'slot_text': 'Italy', 'slot_name': 'location', 'span': (21, 26)}]}], (('location', 'Vatican'),): [{'text': 'Sorry, in Vatican', 'slots': [{'slot_value': 'Vatican', 'slot_text': 'Vatican', 'slot_name': 'location', 'span': (10, 17)}]}], (('location', 'Bulgaria'),): [{'text': 'Uhh, how about in Bulgaria?', 'slots': [{'slot_value': 'Bulgaria', 'slot_text': 'Bulgaria', 'slot_name': 'location', 'span': (18, 26)}]}]}, 'ask_weather': {(): [{'text': \"How's the weather today?\", 'slots': []}, {'text': \"What's today's weather?\", 'slots': []}, {'text': 'How is it out there today?', 'slots': []}, {'text': \"What's overall weather today?\", 'slots': []}]}}, slot_name2text2value={'location': {'Berlin': 'Berlin', 'Stuttgart': 'Stuttgart', 'Prague': 'Prague', 'Budapest': 'Budapest', 'Nancy': 'Nancy', 'Dresden': 'Dresden', 'Rome': 'Rome', 'Venice': 'Venice', 'Italy': 'Italy', 'Vatican': 'Vatican', 'Bulgaria': 'Bulgaria'}}\n",
      "2021-03-29 13:27:59.689 DEBUG in 'deeppavlov.dataset_readers.md_yaml_dialogs_reader'['md_yaml_dialogs_reader'] at line 217: BEFORE MLU_MD_DialogsDatasetReader._read_story(): story_fpath=/home/abhishekbhatt/Documents/DeepPavlov_Chatbots/DP_weather_bot/stories-val.md, dialogs=False, domain_knowledge=<deeppavlov.dataset_readers.md_yaml_dialogs_reader.DomainKnowledge object at 0x7f8b702e0198>, intent2slots2text={'greet': {(): [{'text': 'Hi', 'slots': []}, {'text': 'Hey', 'slots': []}, {'text': 'Hi bot', 'slots': []}, {'text': 'Hey bot', 'slots': []}, {'text': 'Hello', 'slots': []}, {'text': 'Good morning', 'slots': []}, {'text': 'hi again', 'slots': []}, {'text': 'hi folks', 'slots': []}, {'text': 'hola', 'slots': []}, {'text': 'hello, how are you today?', 'slots': []}, {'text': 'yo', 'slots': []}, {'text': 'hiya', 'slots': []}, {'text': 'Hello there', 'slots': []}, {'text': 'Umm, hey!', 'slots': []}]}, 'goodbye': {(): [{'text': 'goodbye', 'slots': []}, {'text': 'goodnight', 'slots': []}, {'text': 'good bye', 'slots': []}, {'text': 'good night', 'slots': []}, {'text': 'see ya', 'slots': []}, {'text': 'toodle-oo', 'slots': []}, {'text': 'bye bye', 'slots': []}, {'text': 'gotta go', 'slots': []}, {'text': 'farewell', 'slots': []}, {'text': 'bye then!', 'slots': []}, {'text': 'Ok then, see ya!', 'slots': []}]}, 'ask_weather_location': {(('location', 'Berlin'),): [{'text': 'How is the weather today in Berlin?', 'slots': [{'slot_value': 'Berlin', 'slot_text': 'Berlin', 'slot_name': 'location', 'span': (28, 34)}]}, {'text': \"What's going on Berlin today?\", 'slots': [{'slot_value': 'Berlin', 'slot_text': 'Berlin', 'slot_name': 'location', 'span': (16, 22)}]}], (('location', 'Stuttgart'),): [{'text': \"How's weather in Stuttgart today?\", 'slots': [{'slot_value': 'Stuttgart', 'slot_text': 'Stuttgart', 'slot_name': 'location', 'span': (17, 26)}]}], (('location', 'Prague'),): [{'text': 'In Prague', 'slots': [{'slot_value': 'Prague', 'slot_text': 'Prague', 'slot_name': 'location', 'span': (3, 9)}]}], (('location', 'Budapest'),): [{'text': 'at Budapest', 'slots': [{'slot_value': 'Budapest', 'slot_text': 'Budapest', 'slot_name': 'location', 'span': (3, 11)}]}], (('location', 'Nancy'),): [{'text': 'Nancy', 'slots': [{'slot_value': 'Nancy', 'slot_text': 'Nancy', 'slot_name': 'location', 'span': (0, 5)}]}], (('location', 'Dresden'),): [{'text': 'Tell me weather of Dresden.', 'slots': [{'slot_value': 'Dresden', 'slot_text': 'Dresden', 'slot_name': 'location', 'span': (19, 26)}]}], (('location', 'Rome'),): [{'text': 'What about in Rome today?', 'slots': [{'slot_value': 'Rome', 'slot_text': 'Rome', 'slot_name': 'location', 'span': (14, 18)}]}], (('location', 'Venice'),): [{'text': 'Show me weather of Venice', 'slots': [{'slot_value': 'Venice', 'slot_text': 'Venice', 'slot_name': 'location', 'span': (19, 25)}]}], (('location', 'Italy'),): [{'text': 'How about weather in Italy', 'slots': [{'slot_value': 'Italy', 'slot_text': 'Italy', 'slot_name': 'location', 'span': (21, 26)}]}], (('location', 'Vatican'),): [{'text': 'Sorry, in Vatican', 'slots': [{'slot_value': 'Vatican', 'slot_text': 'Vatican', 'slot_name': 'location', 'span': (10, 17)}]}], (('location', 'Bulgaria'),): [{'text': 'Uhh, how about in Bulgaria?', 'slots': [{'slot_value': 'Bulgaria', 'slot_text': 'Bulgaria', 'slot_name': 'location', 'span': (18, 26)}]}]}, 'ask_weather': {(): [{'text': \"How's the weather today?\", 'slots': []}, {'text': \"What's today's weather?\", 'slots': []}, {'text': 'How is it out there today?', 'slots': []}, {'text': \"What's overall weather today?\", 'slots': []}]}}, slot_name2text2value={'location': {'Berlin': 'Berlin', 'Stuttgart': 'Stuttgart', 'Prague': 'Prague', 'Budapest': 'Budapest', 'Nancy': 'Nancy', 'Dresden': 'Dresden', 'Rome': 'Rome', 'Venice': 'Venice', 'Italy': 'Italy', 'Vatican': 'Vatican', 'Bulgaria': 'Bulgaria'}}\n"
     ]
    },
    {
     "name": "stderr",
     "output_type": "stream",
     "text": [
      "2021-03-29 13:27:59.696 INFO in 'deeppavlov.dataset_readers.dstc2_reader'['dstc2_reader'] at line 112: [loading dialogs from /tmp/tmpa35f_8hw]\n",
      "2021-03-29 13:27:59.701 DEBUG in 'deeppavlov.dataset_readers.md_yaml_dialogs_reader'['md_yaml_dialogs_reader'] at line 306: AFTER MLU_MD_DialogsDatasetReader._read_story(): story_fpath=/home/abhishekbhatt/Documents/DeepPavlov_Chatbots/DP_weather_bot/stories-val.md, dialogs=False, domain_knowledge=<deeppavlov.dataset_readers.md_yaml_dialogs_reader.DomainKnowledge object at 0x7f8b702e0198>, intent2slots2text={'greet': {(): [{'text': 'Hi', 'slots': []}, {'text': 'Hey', 'slots': []}, {'text': 'Hi bot', 'slots': []}, {'text': 'Hey bot', 'slots': []}, {'text': 'Hello', 'slots': []}, {'text': 'Good morning', 'slots': []}, {'text': 'hi again', 'slots': []}, {'text': 'hi folks', 'slots': []}, {'text': 'hola', 'slots': []}, {'text': 'hello, how are you today?', 'slots': []}, {'text': 'yo', 'slots': []}, {'text': 'hiya', 'slots': []}, {'text': 'Hello there', 'slots': []}, {'text': 'Umm, hey!', 'slots': []}]}, 'goodbye': {(): [{'text': 'goodbye', 'slots': []}, {'text': 'goodnight', 'slots': []}, {'text': 'good bye', 'slots': []}, {'text': 'good night', 'slots': []}, {'text': 'see ya', 'slots': []}, {'text': 'toodle-oo', 'slots': []}, {'text': 'bye bye', 'slots': []}, {'text': 'gotta go', 'slots': []}, {'text': 'farewell', 'slots': []}, {'text': 'bye then!', 'slots': []}, {'text': 'Ok then, see ya!', 'slots': []}]}, 'ask_weather_location': {(('location', 'Berlin'),): [{'text': 'How is the weather today in Berlin?', 'slots': [{'slot_value': 'Berlin', 'slot_text': 'Berlin', 'slot_name': 'location', 'span': (28, 34)}]}, {'text': \"What's going on Berlin today?\", 'slots': [{'slot_value': 'Berlin', 'slot_text': 'Berlin', 'slot_name': 'location', 'span': (16, 22)}]}], (('location', 'Stuttgart'),): [{'text': \"How's weather in Stuttgart today?\", 'slots': [{'slot_value': 'Stuttgart', 'slot_text': 'Stuttgart', 'slot_name': 'location', 'span': (17, 26)}]}], (('location', 'Prague'),): [{'text': 'In Prague', 'slots': [{'slot_value': 'Prague', 'slot_text': 'Prague', 'slot_name': 'location', 'span': (3, 9)}]}], (('location', 'Budapest'),): [{'text': 'at Budapest', 'slots': [{'slot_value': 'Budapest', 'slot_text': 'Budapest', 'slot_name': 'location', 'span': (3, 11)}]}], (('location', 'Nancy'),): [{'text': 'Nancy', 'slots': [{'slot_value': 'Nancy', 'slot_text': 'Nancy', 'slot_name': 'location', 'span': (0, 5)}]}], (('location', 'Dresden'),): [{'text': 'Tell me weather of Dresden.', 'slots': [{'slot_value': 'Dresden', 'slot_text': 'Dresden', 'slot_name': 'location', 'span': (19, 26)}]}], (('location', 'Rome'),): [{'text': 'What about in Rome today?', 'slots': [{'slot_value': 'Rome', 'slot_text': 'Rome', 'slot_name': 'location', 'span': (14, 18)}]}], (('location', 'Venice'),): [{'text': 'Show me weather of Venice', 'slots': [{'slot_value': 'Venice', 'slot_text': 'Venice', 'slot_name': 'location', 'span': (19, 25)}]}], (('location', 'Italy'),): [{'text': 'How about weather in Italy', 'slots': [{'slot_value': 'Italy', 'slot_text': 'Italy', 'slot_name': 'location', 'span': (21, 26)}]}], (('location', 'Vatican'),): [{'text': 'Sorry, in Vatican', 'slots': [{'slot_value': 'Vatican', 'slot_text': 'Vatican', 'slot_name': 'location', 'span': (10, 17)}]}], (('location', 'Bulgaria'),): [{'text': 'Uhh, how about in Bulgaria?', 'slots': [{'slot_value': 'Bulgaria', 'slot_text': 'Bulgaria', 'slot_name': 'location', 'span': (18, 26)}]}]}, 'ask_weather': {(): [{'text': \"How's the weather today?\", 'slots': []}, {'text': \"What's today's weather?\", 'slots': []}, {'text': 'How is it out there today?', 'slots': []}, {'text': \"What's overall weather today?\", 'slots': []}]}}, slot_name2text2value={'location': {'Berlin': 'Berlin', 'Stuttgart': 'Stuttgart', 'Prague': 'Prague', 'Budapest': 'Budapest', 'Nancy': 'Nancy', 'Dresden': 'Dresden', 'Rome': 'Rome', 'Venice': 'Venice', 'Italy': 'Italy', 'Vatican': 'Vatican', 'Bulgaria': 'Bulgaria'}}\n",
      "2021-03-29 13:27:59.704 DEBUG in 'deeppavlov.dataset_readers.md_yaml_dialogs_reader'['md_yaml_dialogs_reader'] at line 217: BEFORE MLU_MD_DialogsDatasetReader._read_story(): story_fpath=/home/abhishekbhatt/Documents/DeepPavlov_Chatbots/DP_weather_bot/stories-tst.md, dialogs=False, domain_knowledge=<deeppavlov.dataset_readers.md_yaml_dialogs_reader.DomainKnowledge object at 0x7f8b702e0198>, intent2slots2text={'greet': {(): [{'text': 'Hi', 'slots': []}, {'text': 'Hey', 'slots': []}, {'text': 'Hi bot', 'slots': []}, {'text': 'Hey bot', 'slots': []}, {'text': 'Hello', 'slots': []}, {'text': 'Good morning', 'slots': []}, {'text': 'hi again', 'slots': []}, {'text': 'hi folks', 'slots': []}, {'text': 'hola', 'slots': []}, {'text': 'hello, how are you today?', 'slots': []}, {'text': 'yo', 'slots': []}, {'text': 'hiya', 'slots': []}, {'text': 'Hello there', 'slots': []}, {'text': 'Umm, hey!', 'slots': []}]}, 'goodbye': {(): [{'text': 'goodbye', 'slots': []}, {'text': 'goodnight', 'slots': []}, {'text': 'good bye', 'slots': []}, {'text': 'good night', 'slots': []}, {'text': 'see ya', 'slots': []}, {'text': 'toodle-oo', 'slots': []}, {'text': 'bye bye', 'slots': []}, {'text': 'gotta go', 'slots': []}, {'text': 'farewell', 'slots': []}, {'text': 'bye then!', 'slots': []}, {'text': 'Ok then, see ya!', 'slots': []}]}, 'ask_weather_location': {(('location', 'Berlin'),): [{'text': 'How is the weather today in Berlin?', 'slots': [{'slot_value': 'Berlin', 'slot_text': 'Berlin', 'slot_name': 'location', 'span': (28, 34)}]}, {'text': \"What's going on Berlin today?\", 'slots': [{'slot_value': 'Berlin', 'slot_text': 'Berlin', 'slot_name': 'location', 'span': (16, 22)}]}], (('location', 'Stuttgart'),): [{'text': \"How's weather in Stuttgart today?\", 'slots': [{'slot_value': 'Stuttgart', 'slot_text': 'Stuttgart', 'slot_name': 'location', 'span': (17, 26)}]}], (('location', 'Prague'),): [{'text': 'In Prague', 'slots': [{'slot_value': 'Prague', 'slot_text': 'Prague', 'slot_name': 'location', 'span': (3, 9)}]}], (('location', 'Budapest'),): [{'text': 'at Budapest', 'slots': [{'slot_value': 'Budapest', 'slot_text': 'Budapest', 'slot_name': 'location', 'span': (3, 11)}]}], (('location', 'Nancy'),): [{'text': 'Nancy', 'slots': [{'slot_value': 'Nancy', 'slot_text': 'Nancy', 'slot_name': 'location', 'span': (0, 5)}]}], (('location', 'Dresden'),): [{'text': 'Tell me weather of Dresden.', 'slots': [{'slot_value': 'Dresden', 'slot_text': 'Dresden', 'slot_name': 'location', 'span': (19, 26)}]}], (('location', 'Rome'),): [{'text': 'What about in Rome today?', 'slots': [{'slot_value': 'Rome', 'slot_text': 'Rome', 'slot_name': 'location', 'span': (14, 18)}]}], (('location', 'Venice'),): [{'text': 'Show me weather of Venice', 'slots': [{'slot_value': 'Venice', 'slot_text': 'Venice', 'slot_name': 'location', 'span': (19, 25)}]}], (('location', 'Italy'),): [{'text': 'How about weather in Italy', 'slots': [{'slot_value': 'Italy', 'slot_text': 'Italy', 'slot_name': 'location', 'span': (21, 26)}]}], (('location', 'Vatican'),): [{'text': 'Sorry, in Vatican', 'slots': [{'slot_value': 'Vatican', 'slot_text': 'Vatican', 'slot_name': 'location', 'span': (10, 17)}]}], (('location', 'Bulgaria'),): [{'text': 'Uhh, how about in Bulgaria?', 'slots': [{'slot_value': 'Bulgaria', 'slot_text': 'Bulgaria', 'slot_name': 'location', 'span': (18, 26)}]}]}, 'ask_weather': {(): [{'text': \"How's the weather today?\", 'slots': []}, {'text': \"What's today's weather?\", 'slots': []}, {'text': 'How is it out there today?', 'slots': []}, {'text': \"What's overall weather today?\", 'slots': []}]}}, slot_name2text2value={'location': {'Berlin': 'Berlin', 'Stuttgart': 'Stuttgart', 'Prague': 'Prague', 'Budapest': 'Budapest', 'Nancy': 'Nancy', 'Dresden': 'Dresden', 'Rome': 'Rome', 'Venice': 'Venice', 'Italy': 'Italy', 'Vatican': 'Vatican', 'Bulgaria': 'Bulgaria'}}\n",
      "2021-03-29 13:27:59.712 INFO in 'deeppavlov.dataset_readers.dstc2_reader'['dstc2_reader'] at line 112: [loading dialogs from /tmp/tmp2xk3md_f]\n",
      "2021-03-29 13:27:59.716 DEBUG in 'deeppavlov.dataset_readers.md_yaml_dialogs_reader'['md_yaml_dialogs_reader'] at line 306: AFTER MLU_MD_DialogsDatasetReader._read_story(): story_fpath=/home/abhishekbhatt/Documents/DeepPavlov_Chatbots/DP_weather_bot/stories-tst.md, dialogs=False, domain_knowledge=<deeppavlov.dataset_readers.md_yaml_dialogs_reader.DomainKnowledge object at 0x7f8b702e0198>, intent2slots2text={'greet': {(): [{'text': 'Hi', 'slots': []}, {'text': 'Hey', 'slots': []}, {'text': 'Hi bot', 'slots': []}, {'text': 'Hey bot', 'slots': []}, {'text': 'Hello', 'slots': []}, {'text': 'Good morning', 'slots': []}, {'text': 'hi again', 'slots': []}, {'text': 'hi folks', 'slots': []}, {'text': 'hola', 'slots': []}, {'text': 'hello, how are you today?', 'slots': []}, {'text': 'yo', 'slots': []}, {'text': 'hiya', 'slots': []}, {'text': 'Hello there', 'slots': []}, {'text': 'Umm, hey!', 'slots': []}]}, 'goodbye': {(): [{'text': 'goodbye', 'slots': []}, {'text': 'goodnight', 'slots': []}, {'text': 'good bye', 'slots': []}, {'text': 'good night', 'slots': []}, {'text': 'see ya', 'slots': []}, {'text': 'toodle-oo', 'slots': []}, {'text': 'bye bye', 'slots': []}, {'text': 'gotta go', 'slots': []}, {'text': 'farewell', 'slots': []}, {'text': 'bye then!', 'slots': []}, {'text': 'Ok then, see ya!', 'slots': []}]}, 'ask_weather_location': {(('location', 'Berlin'),): [{'text': 'How is the weather today in Berlin?', 'slots': [{'slot_value': 'Berlin', 'slot_text': 'Berlin', 'slot_name': 'location', 'span': (28, 34)}]}, {'text': \"What's going on Berlin today?\", 'slots': [{'slot_value': 'Berlin', 'slot_text': 'Berlin', 'slot_name': 'location', 'span': (16, 22)}]}], (('location', 'Stuttgart'),): [{'text': \"How's weather in Stuttgart today?\", 'slots': [{'slot_value': 'Stuttgart', 'slot_text': 'Stuttgart', 'slot_name': 'location', 'span': (17, 26)}]}], (('location', 'Prague'),): [{'text': 'In Prague', 'slots': [{'slot_value': 'Prague', 'slot_text': 'Prague', 'slot_name': 'location', 'span': (3, 9)}]}], (('location', 'Budapest'),): [{'text': 'at Budapest', 'slots': [{'slot_value': 'Budapest', 'slot_text': 'Budapest', 'slot_name': 'location', 'span': (3, 11)}]}], (('location', 'Nancy'),): [{'text': 'Nancy', 'slots': [{'slot_value': 'Nancy', 'slot_text': 'Nancy', 'slot_name': 'location', 'span': (0, 5)}]}], (('location', 'Dresden'),): [{'text': 'Tell me weather of Dresden.', 'slots': [{'slot_value': 'Dresden', 'slot_text': 'Dresden', 'slot_name': 'location', 'span': (19, 26)}]}], (('location', 'Rome'),): [{'text': 'What about in Rome today?', 'slots': [{'slot_value': 'Rome', 'slot_text': 'Rome', 'slot_name': 'location', 'span': (14, 18)}]}], (('location', 'Venice'),): [{'text': 'Show me weather of Venice', 'slots': [{'slot_value': 'Venice', 'slot_text': 'Venice', 'slot_name': 'location', 'span': (19, 25)}]}], (('location', 'Italy'),): [{'text': 'How about weather in Italy', 'slots': [{'slot_value': 'Italy', 'slot_text': 'Italy', 'slot_name': 'location', 'span': (21, 26)}]}], (('location', 'Vatican'),): [{'text': 'Sorry, in Vatican', 'slots': [{'slot_value': 'Vatican', 'slot_text': 'Vatican', 'slot_name': 'location', 'span': (10, 17)}]}], (('location', 'Bulgaria'),): [{'text': 'Uhh, how about in Bulgaria?', 'slots': [{'slot_value': 'Bulgaria', 'slot_text': 'Bulgaria', 'slot_name': 'location', 'span': (18, 26)}]}]}, 'ask_weather': {(): [{'text': \"How's the weather today?\", 'slots': []}, {'text': \"What's today's weather?\", 'slots': []}, {'text': 'How is it out there today?', 'slots': []}, {'text': \"What's overall weather today?\", 'slots': []}]}}, slot_name2text2value={'location': {'Berlin': 'Berlin', 'Stuttgart': 'Stuttgart', 'Prague': 'Prague', 'Budapest': 'Budapest', 'Nancy': 'Nancy', 'Dresden': 'Dresden', 'Rome': 'Rome', 'Venice': 'Venice', 'Italy': 'Italy', 'Vatican': 'Vatican', 'Bulgaria': 'Bulgaria'}}\n"
     ]
    },
    {
     "name": "stderr",
     "output_type": "stream",
     "text": [
      "2021-03-29 13:27:59.720 INFO in 'deeppavlov.core.data.simple_vocab'['simple_vocab'] at line 115: [loading vocabulary from /home/abhishekbhatt/Documents/DeepPavlov_Chatbots/DP_weather_bot/word.dict]\n",
      "2021-03-29 13:27:59.722 INFO in 'deeppavlov.core.data.simple_vocab'['simple_vocab'] at line 101: [saving vocabulary to /home/abhishekbhatt/Documents/DeepPavlov_Chatbots/DP_weather_bot/word.dict]\n",
      "2021-03-29 13:27:59.725 INFO in 'deeppavlov.models.go_bot.nlg.nlg_manager'['mock_json_nlg_manager'] at line 94: INSIDE MockJSONNLGManager _load_actions2slots_mapping(): actions2slots_json_path=/home/abhishekbhatt/Documents/DeepPavlov_Chatbots/DP_weather_bot/dstc2-actions2slots.json DOES NOT EXIST. initialized actions2slots mapping with an empty one: {}\n",
      "2021-03-29 13:27:59.732 DEBUG in 'deeppavlov.dataset_readers.md_yaml_dialogs_reader'['md_yaml_dialogs_reader'] at line 217: BEFORE MLU_MD_DialogsDatasetReader._read_story(): story_fpath=/home/abhishekbhatt/Documents/DeepPavlov_Chatbots/DP_weather_bot/stories-trn.md, dialogs=True, domain_knowledge=<deeppavlov.dataset_readers.md_yaml_dialogs_reader.DomainKnowledge object at 0x7f8b8adc8128>, intent2slots2text={'greet': {(): [{'text': 'Hi', 'slots': []}, {'text': 'Hey', 'slots': []}, {'text': 'Hi bot', 'slots': []}, {'text': 'Hey bot', 'slots': []}, {'text': 'Hello', 'slots': []}, {'text': 'Good morning', 'slots': []}, {'text': 'hi again', 'slots': []}, {'text': 'hi folks', 'slots': []}, {'text': 'hola', 'slots': []}, {'text': 'hello, how are you today?', 'slots': []}, {'text': 'yo', 'slots': []}, {'text': 'hiya', 'slots': []}, {'text': 'Hello there', 'slots': []}, {'text': 'Umm, hey!', 'slots': []}]}, 'goodbye': {(): [{'text': 'goodbye', 'slots': []}, {'text': 'goodnight', 'slots': []}, {'text': 'good bye', 'slots': []}, {'text': 'good night', 'slots': []}, {'text': 'see ya', 'slots': []}, {'text': 'toodle-oo', 'slots': []}, {'text': 'bye bye', 'slots': []}, {'text': 'gotta go', 'slots': []}, {'text': 'farewell', 'slots': []}, {'text': 'bye then!', 'slots': []}, {'text': 'Ok then, see ya!', 'slots': []}]}, 'ask_weather_location': {(('location', 'Berlin'),): [{'text': 'How is the weather today in Berlin?', 'slots': [{'slot_value': 'Berlin', 'slot_text': 'Berlin', 'slot_name': 'location', 'span': (28, 34)}]}, {'text': \"What's going on Berlin today?\", 'slots': [{'slot_value': 'Berlin', 'slot_text': 'Berlin', 'slot_name': 'location', 'span': (16, 22)}]}], (('location', 'Stuttgart'),): [{'text': \"How's weather in Stuttgart today?\", 'slots': [{'slot_value': 'Stuttgart', 'slot_text': 'Stuttgart', 'slot_name': 'location', 'span': (17, 26)}]}], (('location', 'Prague'),): [{'text': 'In Prague', 'slots': [{'slot_value': 'Prague', 'slot_text': 'Prague', 'slot_name': 'location', 'span': (3, 9)}]}], (('location', 'Budapest'),): [{'text': 'at Budapest', 'slots': [{'slot_value': 'Budapest', 'slot_text': 'Budapest', 'slot_name': 'location', 'span': (3, 11)}]}], (('location', 'Nancy'),): [{'text': 'Nancy', 'slots': [{'slot_value': 'Nancy', 'slot_text': 'Nancy', 'slot_name': 'location', 'span': (0, 5)}]}], (('location', 'Dresden'),): [{'text': 'Tell me weather of Dresden.', 'slots': [{'slot_value': 'Dresden', 'slot_text': 'Dresden', 'slot_name': 'location', 'span': (19, 26)}]}], (('location', 'Rome'),): [{'text': 'What about in Rome today?', 'slots': [{'slot_value': 'Rome', 'slot_text': 'Rome', 'slot_name': 'location', 'span': (14, 18)}]}], (('location', 'Venice'),): [{'text': 'Show me weather of Venice', 'slots': [{'slot_value': 'Venice', 'slot_text': 'Venice', 'slot_name': 'location', 'span': (19, 25)}]}], (('location', 'Italy'),): [{'text': 'How about weather in Italy', 'slots': [{'slot_value': 'Italy', 'slot_text': 'Italy', 'slot_name': 'location', 'span': (21, 26)}]}], (('location', 'Vatican'),): [{'text': 'Sorry, in Vatican', 'slots': [{'slot_value': 'Vatican', 'slot_text': 'Vatican', 'slot_name': 'location', 'span': (10, 17)}]}], (('location', 'Bulgaria'),): [{'text': 'Uhh, how about in Bulgaria?', 'slots': [{'slot_value': 'Bulgaria', 'slot_text': 'Bulgaria', 'slot_name': 'location', 'span': (18, 26)}]}]}, 'ask_weather': {(): [{'text': \"How's the weather today?\", 'slots': []}, {'text': \"What's today's weather?\", 'slots': []}, {'text': 'How is it out there today?', 'slots': []}, {'text': \"What's overall weather today?\", 'slots': []}]}}, slot_name2text2value={'location': {'Berlin': 'Berlin', 'Stuttgart': 'Stuttgart', 'Prague': 'Prague', 'Budapest': 'Budapest', 'Nancy': 'Nancy', 'Dresden': 'Dresden', 'Rome': 'Rome', 'Venice': 'Venice', 'Italy': 'Italy', 'Vatican': 'Vatican', 'Bulgaria': 'Bulgaria'}}\n",
      "2021-03-29 13:27:59.740 INFO in 'deeppavlov.dataset_readers.dstc2_reader'['dstc2_reader'] at line 112: [loading dialogs from /tmp/tmphoilxmsy]\n",
      "2021-03-29 13:27:59.744 DEBUG in 'deeppavlov.dataset_readers.md_yaml_dialogs_reader'['md_yaml_dialogs_reader'] at line 306: AFTER MLU_MD_DialogsDatasetReader._read_story(): story_fpath=/home/abhishekbhatt/Documents/DeepPavlov_Chatbots/DP_weather_bot/stories-trn.md, dialogs=True, domain_knowledge=<deeppavlov.dataset_readers.md_yaml_dialogs_reader.DomainKnowledge object at 0x7f8b8adc8128>, intent2slots2text={'greet': {(): [{'text': 'Hi', 'slots': []}, {'text': 'Hey', 'slots': []}, {'text': 'Hi bot', 'slots': []}, {'text': 'Hey bot', 'slots': []}, {'text': 'Hello', 'slots': []}, {'text': 'Good morning', 'slots': []}, {'text': 'hi again', 'slots': []}, {'text': 'hi folks', 'slots': []}, {'text': 'hola', 'slots': []}, {'text': 'hello, how are you today?', 'slots': []}, {'text': 'yo', 'slots': []}, {'text': 'hiya', 'slots': []}, {'text': 'Hello there', 'slots': []}, {'text': 'Umm, hey!', 'slots': []}]}, 'goodbye': {(): [{'text': 'goodbye', 'slots': []}, {'text': 'goodnight', 'slots': []}, {'text': 'good bye', 'slots': []}, {'text': 'good night', 'slots': []}, {'text': 'see ya', 'slots': []}, {'text': 'toodle-oo', 'slots': []}, {'text': 'bye bye', 'slots': []}, {'text': 'gotta go', 'slots': []}, {'text': 'farewell', 'slots': []}, {'text': 'bye then!', 'slots': []}, {'text': 'Ok then, see ya!', 'slots': []}]}, 'ask_weather_location': {(('location', 'Berlin'),): [{'text': 'How is the weather today in Berlin?', 'slots': [{'slot_value': 'Berlin', 'slot_text': 'Berlin', 'slot_name': 'location', 'span': (28, 34)}]}, {'text': \"What's going on Berlin today?\", 'slots': [{'slot_value': 'Berlin', 'slot_text': 'Berlin', 'slot_name': 'location', 'span': (16, 22)}]}], (('location', 'Stuttgart'),): [{'text': \"How's weather in Stuttgart today?\", 'slots': [{'slot_value': 'Stuttgart', 'slot_text': 'Stuttgart', 'slot_name': 'location', 'span': (17, 26)}]}], (('location', 'Prague'),): [{'text': 'In Prague', 'slots': [{'slot_value': 'Prague', 'slot_text': 'Prague', 'slot_name': 'location', 'span': (3, 9)}]}], (('location', 'Budapest'),): [{'text': 'at Budapest', 'slots': [{'slot_value': 'Budapest', 'slot_text': 'Budapest', 'slot_name': 'location', 'span': (3, 11)}]}], (('location', 'Nancy'),): [{'text': 'Nancy', 'slots': [{'slot_value': 'Nancy', 'slot_text': 'Nancy', 'slot_name': 'location', 'span': (0, 5)}]}], (('location', 'Dresden'),): [{'text': 'Tell me weather of Dresden.', 'slots': [{'slot_value': 'Dresden', 'slot_text': 'Dresden', 'slot_name': 'location', 'span': (19, 26)}]}], (('location', 'Rome'),): [{'text': 'What about in Rome today?', 'slots': [{'slot_value': 'Rome', 'slot_text': 'Rome', 'slot_name': 'location', 'span': (14, 18)}]}], (('location', 'Venice'),): [{'text': 'Show me weather of Venice', 'slots': [{'slot_value': 'Venice', 'slot_text': 'Venice', 'slot_name': 'location', 'span': (19, 25)}]}], (('location', 'Italy'),): [{'text': 'How about weather in Italy', 'slots': [{'slot_value': 'Italy', 'slot_text': 'Italy', 'slot_name': 'location', 'span': (21, 26)}]}], (('location', 'Vatican'),): [{'text': 'Sorry, in Vatican', 'slots': [{'slot_value': 'Vatican', 'slot_text': 'Vatican', 'slot_name': 'location', 'span': (10, 17)}]}], (('location', 'Bulgaria'),): [{'text': 'Uhh, how about in Bulgaria?', 'slots': [{'slot_value': 'Bulgaria', 'slot_text': 'Bulgaria', 'slot_name': 'location', 'span': (18, 26)}]}]}, 'ask_weather': {(): [{'text': \"How's the weather today?\", 'slots': []}, {'text': \"What's today's weather?\", 'slots': []}, {'text': 'How is it out there today?', 'slots': []}, {'text': \"What's overall weather today?\", 'slots': []}]}}, slot_name2text2value={'location': {'Berlin': 'Berlin', 'Stuttgart': 'Stuttgart', 'Prague': 'Prague', 'Budapest': 'Budapest', 'Nancy': 'Nancy', 'Dresden': 'Dresden', 'Rome': 'Rome', 'Venice': 'Venice', 'Italy': 'Italy', 'Vatican': 'Vatican', 'Bulgaria': 'Bulgaria'}}\n"
     ]
    },
    {
     "name": "stderr",
     "output_type": "stream",
     "text": [
      "2021-03-29 13:27:59.748 DEBUG in 'deeppavlov.dataset_readers.md_yaml_dialogs_reader'['md_yaml_dialogs_reader'] at line 217: BEFORE MLU_MD_DialogsDatasetReader._read_story(): story_fpath=/home/abhishekbhatt/Documents/DeepPavlov_Chatbots/DP_weather_bot/stories-val.md, dialogs=True, domain_knowledge=<deeppavlov.dataset_readers.md_yaml_dialogs_reader.DomainKnowledge object at 0x7f8b8adc8128>, intent2slots2text={'greet': {(): [{'text': 'Hi', 'slots': []}, {'text': 'Hey', 'slots': []}, {'text': 'Hi bot', 'slots': []}, {'text': 'Hey bot', 'slots': []}, {'text': 'Hello', 'slots': []}, {'text': 'Good morning', 'slots': []}, {'text': 'hi again', 'slots': []}, {'text': 'hi folks', 'slots': []}, {'text': 'hola', 'slots': []}, {'text': 'hello, how are you today?', 'slots': []}, {'text': 'yo', 'slots': []}, {'text': 'hiya', 'slots': []}, {'text': 'Hello there', 'slots': []}, {'text': 'Umm, hey!', 'slots': []}]}, 'goodbye': {(): [{'text': 'goodbye', 'slots': []}, {'text': 'goodnight', 'slots': []}, {'text': 'good bye', 'slots': []}, {'text': 'good night', 'slots': []}, {'text': 'see ya', 'slots': []}, {'text': 'toodle-oo', 'slots': []}, {'text': 'bye bye', 'slots': []}, {'text': 'gotta go', 'slots': []}, {'text': 'farewell', 'slots': []}, {'text': 'bye then!', 'slots': []}, {'text': 'Ok then, see ya!', 'slots': []}]}, 'ask_weather_location': {(('location', 'Berlin'),): [{'text': 'How is the weather today in Berlin?', 'slots': [{'slot_value': 'Berlin', 'slot_text': 'Berlin', 'slot_name': 'location', 'span': (28, 34)}]}, {'text': \"What's going on Berlin today?\", 'slots': [{'slot_value': 'Berlin', 'slot_text': 'Berlin', 'slot_name': 'location', 'span': (16, 22)}]}], (('location', 'Stuttgart'),): [{'text': \"How's weather in Stuttgart today?\", 'slots': [{'slot_value': 'Stuttgart', 'slot_text': 'Stuttgart', 'slot_name': 'location', 'span': (17, 26)}]}], (('location', 'Prague'),): [{'text': 'In Prague', 'slots': [{'slot_value': 'Prague', 'slot_text': 'Prague', 'slot_name': 'location', 'span': (3, 9)}]}], (('location', 'Budapest'),): [{'text': 'at Budapest', 'slots': [{'slot_value': 'Budapest', 'slot_text': 'Budapest', 'slot_name': 'location', 'span': (3, 11)}]}], (('location', 'Nancy'),): [{'text': 'Nancy', 'slots': [{'slot_value': 'Nancy', 'slot_text': 'Nancy', 'slot_name': 'location', 'span': (0, 5)}]}], (('location', 'Dresden'),): [{'text': 'Tell me weather of Dresden.', 'slots': [{'slot_value': 'Dresden', 'slot_text': 'Dresden', 'slot_name': 'location', 'span': (19, 26)}]}], (('location', 'Rome'),): [{'text': 'What about in Rome today?', 'slots': [{'slot_value': 'Rome', 'slot_text': 'Rome', 'slot_name': 'location', 'span': (14, 18)}]}], (('location', 'Venice'),): [{'text': 'Show me weather of Venice', 'slots': [{'slot_value': 'Venice', 'slot_text': 'Venice', 'slot_name': 'location', 'span': (19, 25)}]}], (('location', 'Italy'),): [{'text': 'How about weather in Italy', 'slots': [{'slot_value': 'Italy', 'slot_text': 'Italy', 'slot_name': 'location', 'span': (21, 26)}]}], (('location', 'Vatican'),): [{'text': 'Sorry, in Vatican', 'slots': [{'slot_value': 'Vatican', 'slot_text': 'Vatican', 'slot_name': 'location', 'span': (10, 17)}]}], (('location', 'Bulgaria'),): [{'text': 'Uhh, how about in Bulgaria?', 'slots': [{'slot_value': 'Bulgaria', 'slot_text': 'Bulgaria', 'slot_name': 'location', 'span': (18, 26)}]}]}, 'ask_weather': {(): [{'text': \"How's the weather today?\", 'slots': []}, {'text': \"What's today's weather?\", 'slots': []}, {'text': 'How is it out there today?', 'slots': []}, {'text': \"What's overall weather today?\", 'slots': []}]}}, slot_name2text2value={'location': {'Berlin': 'Berlin', 'Stuttgart': 'Stuttgart', 'Prague': 'Prague', 'Budapest': 'Budapest', 'Nancy': 'Nancy', 'Dresden': 'Dresden', 'Rome': 'Rome', 'Venice': 'Venice', 'Italy': 'Italy', 'Vatican': 'Vatican', 'Bulgaria': 'Bulgaria'}}\n",
      "2021-03-29 13:27:59.762 INFO in 'deeppavlov.dataset_readers.dstc2_reader'['dstc2_reader'] at line 112: [loading dialogs from /tmp/tmpjqf2hwte]\n",
      "2021-03-29 13:27:59.767 DEBUG in 'deeppavlov.dataset_readers.md_yaml_dialogs_reader'['md_yaml_dialogs_reader'] at line 306: AFTER MLU_MD_DialogsDatasetReader._read_story(): story_fpath=/home/abhishekbhatt/Documents/DeepPavlov_Chatbots/DP_weather_bot/stories-val.md, dialogs=True, domain_knowledge=<deeppavlov.dataset_readers.md_yaml_dialogs_reader.DomainKnowledge object at 0x7f8b8adc8128>, intent2slots2text={'greet': {(): [{'text': 'Hi', 'slots': []}, {'text': 'Hey', 'slots': []}, {'text': 'Hi bot', 'slots': []}, {'text': 'Hey bot', 'slots': []}, {'text': 'Hello', 'slots': []}, {'text': 'Good morning', 'slots': []}, {'text': 'hi again', 'slots': []}, {'text': 'hi folks', 'slots': []}, {'text': 'hola', 'slots': []}, {'text': 'hello, how are you today?', 'slots': []}, {'text': 'yo', 'slots': []}, {'text': 'hiya', 'slots': []}, {'text': 'Hello there', 'slots': []}, {'text': 'Umm, hey!', 'slots': []}]}, 'goodbye': {(): [{'text': 'goodbye', 'slots': []}, {'text': 'goodnight', 'slots': []}, {'text': 'good bye', 'slots': []}, {'text': 'good night', 'slots': []}, {'text': 'see ya', 'slots': []}, {'text': 'toodle-oo', 'slots': []}, {'text': 'bye bye', 'slots': []}, {'text': 'gotta go', 'slots': []}, {'text': 'farewell', 'slots': []}, {'text': 'bye then!', 'slots': []}, {'text': 'Ok then, see ya!', 'slots': []}]}, 'ask_weather_location': {(('location', 'Berlin'),): [{'text': 'How is the weather today in Berlin?', 'slots': [{'slot_value': 'Berlin', 'slot_text': 'Berlin', 'slot_name': 'location', 'span': (28, 34)}]}, {'text': \"What's going on Berlin today?\", 'slots': [{'slot_value': 'Berlin', 'slot_text': 'Berlin', 'slot_name': 'location', 'span': (16, 22)}]}], (('location', 'Stuttgart'),): [{'text': \"How's weather in Stuttgart today?\", 'slots': [{'slot_value': 'Stuttgart', 'slot_text': 'Stuttgart', 'slot_name': 'location', 'span': (17, 26)}]}], (('location', 'Prague'),): [{'text': 'In Prague', 'slots': [{'slot_value': 'Prague', 'slot_text': 'Prague', 'slot_name': 'location', 'span': (3, 9)}]}], (('location', 'Budapest'),): [{'text': 'at Budapest', 'slots': [{'slot_value': 'Budapest', 'slot_text': 'Budapest', 'slot_name': 'location', 'span': (3, 11)}]}], (('location', 'Nancy'),): [{'text': 'Nancy', 'slots': [{'slot_value': 'Nancy', 'slot_text': 'Nancy', 'slot_name': 'location', 'span': (0, 5)}]}], (('location', 'Dresden'),): [{'text': 'Tell me weather of Dresden.', 'slots': [{'slot_value': 'Dresden', 'slot_text': 'Dresden', 'slot_name': 'location', 'span': (19, 26)}]}], (('location', 'Rome'),): [{'text': 'What about in Rome today?', 'slots': [{'slot_value': 'Rome', 'slot_text': 'Rome', 'slot_name': 'location', 'span': (14, 18)}]}], (('location', 'Venice'),): [{'text': 'Show me weather of Venice', 'slots': [{'slot_value': 'Venice', 'slot_text': 'Venice', 'slot_name': 'location', 'span': (19, 25)}]}], (('location', 'Italy'),): [{'text': 'How about weather in Italy', 'slots': [{'slot_value': 'Italy', 'slot_text': 'Italy', 'slot_name': 'location', 'span': (21, 26)}]}], (('location', 'Vatican'),): [{'text': 'Sorry, in Vatican', 'slots': [{'slot_value': 'Vatican', 'slot_text': 'Vatican', 'slot_name': 'location', 'span': (10, 17)}]}], (('location', 'Bulgaria'),): [{'text': 'Uhh, how about in Bulgaria?', 'slots': [{'slot_value': 'Bulgaria', 'slot_text': 'Bulgaria', 'slot_name': 'location', 'span': (18, 26)}]}]}, 'ask_weather': {(): [{'text': \"How's the weather today?\", 'slots': []}, {'text': \"What's today's weather?\", 'slots': []}, {'text': 'How is it out there today?', 'slots': []}, {'text': \"What's overall weather today?\", 'slots': []}]}}, slot_name2text2value={'location': {'Berlin': 'Berlin', 'Stuttgart': 'Stuttgart', 'Prague': 'Prague', 'Budapest': 'Budapest', 'Nancy': 'Nancy', 'Dresden': 'Dresden', 'Rome': 'Rome', 'Venice': 'Venice', 'Italy': 'Italy', 'Vatican': 'Vatican', 'Bulgaria': 'Bulgaria'}}\n",
      "2021-03-29 13:27:59.768 DEBUG in 'deeppavlov.dataset_readers.md_yaml_dialogs_reader'['md_yaml_dialogs_reader'] at line 217: BEFORE MLU_MD_DialogsDatasetReader._read_story(): story_fpath=/home/abhishekbhatt/Documents/DeepPavlov_Chatbots/DP_weather_bot/stories-tst.md, dialogs=True, domain_knowledge=<deeppavlov.dataset_readers.md_yaml_dialogs_reader.DomainKnowledge object at 0x7f8b8adc8128>, intent2slots2text={'greet': {(): [{'text': 'Hi', 'slots': []}, {'text': 'Hey', 'slots': []}, {'text': 'Hi bot', 'slots': []}, {'text': 'Hey bot', 'slots': []}, {'text': 'Hello', 'slots': []}, {'text': 'Good morning', 'slots': []}, {'text': 'hi again', 'slots': []}, {'text': 'hi folks', 'slots': []}, {'text': 'hola', 'slots': []}, {'text': 'hello, how are you today?', 'slots': []}, {'text': 'yo', 'slots': []}, {'text': 'hiya', 'slots': []}, {'text': 'Hello there', 'slots': []}, {'text': 'Umm, hey!', 'slots': []}]}, 'goodbye': {(): [{'text': 'goodbye', 'slots': []}, {'text': 'goodnight', 'slots': []}, {'text': 'good bye', 'slots': []}, {'text': 'good night', 'slots': []}, {'text': 'see ya', 'slots': []}, {'text': 'toodle-oo', 'slots': []}, {'text': 'bye bye', 'slots': []}, {'text': 'gotta go', 'slots': []}, {'text': 'farewell', 'slots': []}, {'text': 'bye then!', 'slots': []}, {'text': 'Ok then, see ya!', 'slots': []}]}, 'ask_weather_location': {(('location', 'Berlin'),): [{'text': 'How is the weather today in Berlin?', 'slots': [{'slot_value': 'Berlin', 'slot_text': 'Berlin', 'slot_name': 'location', 'span': (28, 34)}]}, {'text': \"What's going on Berlin today?\", 'slots': [{'slot_value': 'Berlin', 'slot_text': 'Berlin', 'slot_name': 'location', 'span': (16, 22)}]}], (('location', 'Stuttgart'),): [{'text': \"How's weather in Stuttgart today?\", 'slots': [{'slot_value': 'Stuttgart', 'slot_text': 'Stuttgart', 'slot_name': 'location', 'span': (17, 26)}]}], (('location', 'Prague'),): [{'text': 'In Prague', 'slots': [{'slot_value': 'Prague', 'slot_text': 'Prague', 'slot_name': 'location', 'span': (3, 9)}]}], (('location', 'Budapest'),): [{'text': 'at Budapest', 'slots': [{'slot_value': 'Budapest', 'slot_text': 'Budapest', 'slot_name': 'location', 'span': (3, 11)}]}], (('location', 'Nancy'),): [{'text': 'Nancy', 'slots': [{'slot_value': 'Nancy', 'slot_text': 'Nancy', 'slot_name': 'location', 'span': (0, 5)}]}], (('location', 'Dresden'),): [{'text': 'Tell me weather of Dresden.', 'slots': [{'slot_value': 'Dresden', 'slot_text': 'Dresden', 'slot_name': 'location', 'span': (19, 26)}]}], (('location', 'Rome'),): [{'text': 'What about in Rome today?', 'slots': [{'slot_value': 'Rome', 'slot_text': 'Rome', 'slot_name': 'location', 'span': (14, 18)}]}], (('location', 'Venice'),): [{'text': 'Show me weather of Venice', 'slots': [{'slot_value': 'Venice', 'slot_text': 'Venice', 'slot_name': 'location', 'span': (19, 25)}]}], (('location', 'Italy'),): [{'text': 'How about weather in Italy', 'slots': [{'slot_value': 'Italy', 'slot_text': 'Italy', 'slot_name': 'location', 'span': (21, 26)}]}], (('location', 'Vatican'),): [{'text': 'Sorry, in Vatican', 'slots': [{'slot_value': 'Vatican', 'slot_text': 'Vatican', 'slot_name': 'location', 'span': (10, 17)}]}], (('location', 'Bulgaria'),): [{'text': 'Uhh, how about in Bulgaria?', 'slots': [{'slot_value': 'Bulgaria', 'slot_text': 'Bulgaria', 'slot_name': 'location', 'span': (18, 26)}]}]}, 'ask_weather': {(): [{'text': \"How's the weather today?\", 'slots': []}, {'text': \"What's today's weather?\", 'slots': []}, {'text': 'How is it out there today?', 'slots': []}, {'text': \"What's overall weather today?\", 'slots': []}]}}, slot_name2text2value={'location': {'Berlin': 'Berlin', 'Stuttgart': 'Stuttgart', 'Prague': 'Prague', 'Budapest': 'Budapest', 'Nancy': 'Nancy', 'Dresden': 'Dresden', 'Rome': 'Rome', 'Venice': 'Venice', 'Italy': 'Italy', 'Vatican': 'Vatican', 'Bulgaria': 'Bulgaria'}}\n"
     ]
    },
    {
     "name": "stderr",
     "output_type": "stream",
     "text": [
      "2021-03-29 13:27:59.775 INFO in 'deeppavlov.dataset_readers.dstc2_reader'['dstc2_reader'] at line 112: [loading dialogs from /tmp/tmpowja9j26]\n",
      "2021-03-29 13:27:59.782 DEBUG in 'deeppavlov.dataset_readers.md_yaml_dialogs_reader'['md_yaml_dialogs_reader'] at line 306: AFTER MLU_MD_DialogsDatasetReader._read_story(): story_fpath=/home/abhishekbhatt/Documents/DeepPavlov_Chatbots/DP_weather_bot/stories-tst.md, dialogs=True, domain_knowledge=<deeppavlov.dataset_readers.md_yaml_dialogs_reader.DomainKnowledge object at 0x7f8b8adc8128>, intent2slots2text={'greet': {(): [{'text': 'Hi', 'slots': []}, {'text': 'Hey', 'slots': []}, {'text': 'Hi bot', 'slots': []}, {'text': 'Hey bot', 'slots': []}, {'text': 'Hello', 'slots': []}, {'text': 'Good morning', 'slots': []}, {'text': 'hi again', 'slots': []}, {'text': 'hi folks', 'slots': []}, {'text': 'hola', 'slots': []}, {'text': 'hello, how are you today?', 'slots': []}, {'text': 'yo', 'slots': []}, {'text': 'hiya', 'slots': []}, {'text': 'Hello there', 'slots': []}, {'text': 'Umm, hey!', 'slots': []}]}, 'goodbye': {(): [{'text': 'goodbye', 'slots': []}, {'text': 'goodnight', 'slots': []}, {'text': 'good bye', 'slots': []}, {'text': 'good night', 'slots': []}, {'text': 'see ya', 'slots': []}, {'text': 'toodle-oo', 'slots': []}, {'text': 'bye bye', 'slots': []}, {'text': 'gotta go', 'slots': []}, {'text': 'farewell', 'slots': []}, {'text': 'bye then!', 'slots': []}, {'text': 'Ok then, see ya!', 'slots': []}]}, 'ask_weather_location': {(('location', 'Berlin'),): [{'text': 'How is the weather today in Berlin?', 'slots': [{'slot_value': 'Berlin', 'slot_text': 'Berlin', 'slot_name': 'location', 'span': (28, 34)}]}, {'text': \"What's going on Berlin today?\", 'slots': [{'slot_value': 'Berlin', 'slot_text': 'Berlin', 'slot_name': 'location', 'span': (16, 22)}]}], (('location', 'Stuttgart'),): [{'text': \"How's weather in Stuttgart today?\", 'slots': [{'slot_value': 'Stuttgart', 'slot_text': 'Stuttgart', 'slot_name': 'location', 'span': (17, 26)}]}], (('location', 'Prague'),): [{'text': 'In Prague', 'slots': [{'slot_value': 'Prague', 'slot_text': 'Prague', 'slot_name': 'location', 'span': (3, 9)}]}], (('location', 'Budapest'),): [{'text': 'at Budapest', 'slots': [{'slot_value': 'Budapest', 'slot_text': 'Budapest', 'slot_name': 'location', 'span': (3, 11)}]}], (('location', 'Nancy'),): [{'text': 'Nancy', 'slots': [{'slot_value': 'Nancy', 'slot_text': 'Nancy', 'slot_name': 'location', 'span': (0, 5)}]}], (('location', 'Dresden'),): [{'text': 'Tell me weather of Dresden.', 'slots': [{'slot_value': 'Dresden', 'slot_text': 'Dresden', 'slot_name': 'location', 'span': (19, 26)}]}], (('location', 'Rome'),): [{'text': 'What about in Rome today?', 'slots': [{'slot_value': 'Rome', 'slot_text': 'Rome', 'slot_name': 'location', 'span': (14, 18)}]}], (('location', 'Venice'),): [{'text': 'Show me weather of Venice', 'slots': [{'slot_value': 'Venice', 'slot_text': 'Venice', 'slot_name': 'location', 'span': (19, 25)}]}], (('location', 'Italy'),): [{'text': 'How about weather in Italy', 'slots': [{'slot_value': 'Italy', 'slot_text': 'Italy', 'slot_name': 'location', 'span': (21, 26)}]}], (('location', 'Vatican'),): [{'text': 'Sorry, in Vatican', 'slots': [{'slot_value': 'Vatican', 'slot_text': 'Vatican', 'slot_name': 'location', 'span': (10, 17)}]}], (('location', 'Bulgaria'),): [{'text': 'Uhh, how about in Bulgaria?', 'slots': [{'slot_value': 'Bulgaria', 'slot_text': 'Bulgaria', 'slot_name': 'location', 'span': (18, 26)}]}]}, 'ask_weather': {(): [{'text': \"How's the weather today?\", 'slots': []}, {'text': \"What's today's weather?\", 'slots': []}, {'text': 'How is it out there today?', 'slots': []}, {'text': \"What's overall weather today?\", 'slots': []}]}}, slot_name2text2value={'location': {'Berlin': 'Berlin', 'Stuttgart': 'Stuttgart', 'Prague': 'Prague', 'Budapest': 'Budapest', 'Nancy': 'Nancy', 'Dresden': 'Dresden', 'Rome': 'Rome', 'Venice': 'Venice', 'Italy': 'Italy', 'Vatican': 'Vatican', 'Bulgaria': 'Bulgaria'}}\n",
      "2021-03-29 13:27:59.786 INFO in 'deeppavlov.models.embedders.glove_embedder'['glove_embedder'] at line 52: [loading GloVe embeddings from `/home/abhishekbhatt/.deeppavlov/downloads/embeddings/glove.6B.100d.txt`]\n",
      "2021-03-29 13:29:24.117 INFO in 'deeppavlov.models.go_bot.policy.policy_network'['policy_network'] at line 89: INSIDE PolicyNetwork init(). Initializing PolicyNetwork from scratch.\n",
      "2021-03-29 13:29:33.401 INFO in 'deeppavlov.core.trainers.nn_trainer'['nn_trainer'] at line 198: Initial best per_item_action_accuracy of 0.1707\n"
     ]
    },
    {
     "name": "stdout",
     "output_type": "stream",
     "text": [
      "{\"valid\": {\"eval_examples_count\": 11, \"metrics\": {\"per_item_action_accuracy\": 0.1707}, \"time_spent\": \"0:00:09\", \"epochs_done\": 0, \"batches_seen\": 0, \"train_examples_seen\": 0, \"impatience\": 0, \"patience_limit\": 10}}\n",
      "{\"train\": {\"eval_examples_count\": 11, \"metrics\": {\"per_item_action_accuracy\": 0.9268}, \"time_spent\": \"0:00:25\", \"epochs_done\": 4, \"batches_seen\": 15, \"train_examples_seen\": 55, \"learning_rate\": 0.003, \"momentum\": 0.95, \"loss\": 0.5316226641337077}}\n"
     ]
    },
    {
     "name": "stderr",
     "output_type": "stream",
     "text": [
      "2021-03-29 13:29:51.962 INFO in 'deeppavlov.core.trainers.nn_trainer'['nn_trainer'] at line 206: Improved best per_item_action_accuracy of 0.9268\n",
      "2021-03-29 13:29:51.963 INFO in 'deeppavlov.core.trainers.nn_trainer'['nn_trainer'] at line 208: Saving model\n",
      "2021-03-29 13:29:51.964 INFO in 'deeppavlov.core.models.tf_model'['tf_model'] at line 75: [saving model to /home/abhishekbhatt/Documents/DeepPavlov_Chatbots/DP_weather_bot/model/policy]\n"
     ]
    },
    {
     "name": "stdout",
     "output_type": "stream",
     "text": [
      "{\"valid\": {\"eval_examples_count\": 11, \"metrics\": {\"per_item_action_accuracy\": 0.9268}, \"time_spent\": \"0:00:28\", \"epochs_done\": 4, \"batches_seen\": 15, \"train_examples_seen\": 55, \"impatience\": 0, \"patience_limit\": 10}}\n",
      "{\"train\": {\"eval_examples_count\": 11, \"metrics\": {\"per_item_action_accuracy\": 0.8537}, \"time_spent\": \"0:00:45\", \"epochs_done\": 9, \"batches_seen\": 30, \"train_examples_seen\": 110, \"learning_rate\": 0.003, \"momentum\": 0.95, \"loss\": 0.20743364095687866}}\n"
     ]
    },
    {
     "name": "stderr",
     "output_type": "stream",
     "text": [
      "2021-03-29 13:30:13.12 INFO in 'deeppavlov.core.trainers.nn_trainer'['nn_trainer'] at line 211: Did not improve on the per_item_action_accuracy of 0.9268\n"
     ]
    },
    {
     "name": "stdout",
     "output_type": "stream",
     "text": [
      "{\"valid\": {\"eval_examples_count\": 11, \"metrics\": {\"per_item_action_accuracy\": 0.8537}, \"time_spent\": \"0:00:49\", \"epochs_done\": 9, \"batches_seen\": 30, \"train_examples_seen\": 110, \"impatience\": 1, \"patience_limit\": 10}}\n",
      "{\"train\": {\"eval_examples_count\": 11, \"metrics\": {\"per_item_action_accuracy\": 0.9268}, \"time_spent\": \"0:01:06\", \"epochs_done\": 14, \"batches_seen\": 45, \"train_examples_seen\": 165, \"learning_rate\": 0.003, \"momentum\": 0.95, \"loss\": 0.1340988757709662}}\n"
     ]
    },
    {
     "name": "stderr",
     "output_type": "stream",
     "text": [
      "2021-03-29 13:30:33.553 INFO in 'deeppavlov.core.trainers.nn_trainer'['nn_trainer'] at line 211: Did not improve on the per_item_action_accuracy of 0.9268\n"
     ]
    },
    {
     "name": "stdout",
     "output_type": "stream",
     "text": [
      "{\"valid\": {\"eval_examples_count\": 11, \"metrics\": {\"per_item_action_accuracy\": 0.9268}, \"time_spent\": \"0:01:09\", \"epochs_done\": 14, \"batches_seen\": 45, \"train_examples_seen\": 165, \"impatience\": 2, \"patience_limit\": 10}}\n",
      "{\"train\": {\"eval_examples_count\": 11, \"metrics\": {\"per_item_action_accuracy\": 0.9268}, \"time_spent\": \"0:01:24\", \"epochs_done\": 19, \"batches_seen\": 60, \"train_examples_seen\": 220, \"learning_rate\": 0.003, \"momentum\": 0.95, \"loss\": 0.12873054693142574}}\n"
     ]
    },
    {
     "name": "stderr",
     "output_type": "stream",
     "text": [
      "2021-03-29 13:30:51.318 INFO in 'deeppavlov.core.trainers.nn_trainer'['nn_trainer'] at line 211: Did not improve on the per_item_action_accuracy of 0.9268\n"
     ]
    },
    {
     "name": "stdout",
     "output_type": "stream",
     "text": [
      "{\"valid\": {\"eval_examples_count\": 11, \"metrics\": {\"per_item_action_accuracy\": 0.9268}, \"time_spent\": \"0:01:27\", \"epochs_done\": 19, \"batches_seen\": 60, \"train_examples_seen\": 220, \"impatience\": 3, \"patience_limit\": 10}}\n",
      "{\"train\": {\"eval_examples_count\": 11, \"metrics\": {\"per_item_action_accuracy\": 0.9268}, \"time_spent\": \"0:01:42\", \"epochs_done\": 24, \"batches_seen\": 75, \"train_examples_seen\": 275, \"learning_rate\": 0.003, \"momentum\": 0.95, \"loss\": 0.12443069567282995}}\n"
     ]
    },
    {
     "name": "stderr",
     "output_type": "stream",
     "text": [
      "2021-03-29 13:31:08.831 INFO in 'deeppavlov.core.trainers.nn_trainer'['nn_trainer'] at line 211: Did not improve on the per_item_action_accuracy of 0.9268\n"
     ]
    },
    {
     "name": "stdout",
     "output_type": "stream",
     "text": [
      "{\"valid\": {\"eval_examples_count\": 11, \"metrics\": {\"per_item_action_accuracy\": 0.9268}, \"time_spent\": \"0:01:45\", \"epochs_done\": 24, \"batches_seen\": 75, \"train_examples_seen\": 275, \"impatience\": 4, \"patience_limit\": 10}}\n",
      "{\"train\": {\"eval_examples_count\": 11, \"metrics\": {\"per_item_action_accuracy\": 0.9268}, \"time_spent\": \"0:02:00\", \"epochs_done\": 29, \"batches_seen\": 90, \"train_examples_seen\": 330, \"learning_rate\": 0.003, \"momentum\": 0.95, \"loss\": 0.12437241524457932}}\n"
     ]
    },
    {
     "name": "stderr",
     "output_type": "stream",
     "text": [
      "2021-03-29 13:31:27.67 INFO in 'deeppavlov.core.trainers.nn_trainer'['nn_trainer'] at line 211: Did not improve on the per_item_action_accuracy of 0.9268\n"
     ]
    },
    {
     "name": "stdout",
     "output_type": "stream",
     "text": [
      "{\"valid\": {\"eval_examples_count\": 11, \"metrics\": {\"per_item_action_accuracy\": 0.9268}, \"time_spent\": \"0:02:03\", \"epochs_done\": 29, \"batches_seen\": 90, \"train_examples_seen\": 330, \"impatience\": 5, \"patience_limit\": 10}}\n",
      "{\"train\": {\"eval_examples_count\": 11, \"metrics\": {\"per_item_action_accuracy\": 0.9268}, \"time_spent\": \"0:02:18\", \"epochs_done\": 34, \"batches_seen\": 105, \"train_examples_seen\": 385, \"learning_rate\": 0.003, \"momentum\": 0.95, \"loss\": 0.12364178970456123}}\n"
     ]
    },
    {
     "name": "stderr",
     "output_type": "stream",
     "text": [
      "2021-03-29 13:31:44.631 INFO in 'deeppavlov.core.trainers.nn_trainer'['nn_trainer'] at line 211: Did not improve on the per_item_action_accuracy of 0.9268\n"
     ]
    },
    {
     "name": "stdout",
     "output_type": "stream",
     "text": [
      "{\"valid\": {\"eval_examples_count\": 11, \"metrics\": {\"per_item_action_accuracy\": 0.9268}, \"time_spent\": \"0:02:21\", \"epochs_done\": 34, \"batches_seen\": 105, \"train_examples_seen\": 385, \"impatience\": 6, \"patience_limit\": 10}}\n",
      "{\"train\": {\"eval_examples_count\": 11, \"metrics\": {\"per_item_action_accuracy\": 0.9268}, \"time_spent\": \"0:02:37\", \"epochs_done\": 39, \"batches_seen\": 120, \"train_examples_seen\": 440, \"learning_rate\": 0.003, \"momentum\": 0.95, \"loss\": 0.11899167199929556}}\n"
     ]
    },
    {
     "name": "stderr",
     "output_type": "stream",
     "text": [
      "2021-03-29 13:32:03.819 INFO in 'deeppavlov.core.trainers.nn_trainer'['nn_trainer'] at line 211: Did not improve on the per_item_action_accuracy of 0.9268\n"
     ]
    },
    {
     "name": "stdout",
     "output_type": "stream",
     "text": [
      "{\"valid\": {\"eval_examples_count\": 11, \"metrics\": {\"per_item_action_accuracy\": 0.9268}, \"time_spent\": \"0:02:40\", \"epochs_done\": 39, \"batches_seen\": 120, \"train_examples_seen\": 440, \"impatience\": 7, \"patience_limit\": 10}}\n",
      "{\"train\": {\"eval_examples_count\": 11, \"metrics\": {\"per_item_action_accuracy\": 0.9268}, \"time_spent\": \"0:02:55\", \"epochs_done\": 44, \"batches_seen\": 135, \"train_examples_seen\": 495, \"learning_rate\": 0.003, \"momentum\": 0.95, \"loss\": 0.11710328906774521}}\n"
     ]
    },
    {
     "name": "stderr",
     "output_type": "stream",
     "text": [
      "2021-03-29 13:32:21.365 INFO in 'deeppavlov.core.trainers.nn_trainer'['nn_trainer'] at line 211: Did not improve on the per_item_action_accuracy of 0.9268\n"
     ]
    },
    {
     "name": "stdout",
     "output_type": "stream",
     "text": [
      "{\"valid\": {\"eval_examples_count\": 11, \"metrics\": {\"per_item_action_accuracy\": 0.9268}, \"time_spent\": \"0:02:57\", \"epochs_done\": 44, \"batches_seen\": 135, \"train_examples_seen\": 495, \"impatience\": 8, \"patience_limit\": 10}}\n",
      "{\"train\": {\"eval_examples_count\": 11, \"metrics\": {\"per_item_action_accuracy\": 0.9268}, \"time_spent\": \"0:03:13\", \"epochs_done\": 49, \"batches_seen\": 150, \"train_examples_seen\": 550, \"learning_rate\": 0.003, \"momentum\": 0.95, \"loss\": 0.11552907923857371}}\n"
     ]
    },
    {
     "name": "stderr",
     "output_type": "stream",
     "text": [
      "2021-03-29 13:32:40.102 INFO in 'deeppavlov.core.trainers.nn_trainer'['nn_trainer'] at line 211: Did not improve on the per_item_action_accuracy of 0.9268\n"
     ]
    },
    {
     "name": "stdout",
     "output_type": "stream",
     "text": [
      "{\"valid\": {\"eval_examples_count\": 11, \"metrics\": {\"per_item_action_accuracy\": 0.9268}, \"time_spent\": \"0:03:16\", \"epochs_done\": 49, \"batches_seen\": 150, \"train_examples_seen\": 550, \"impatience\": 9, \"patience_limit\": 10}}\n",
      "{\"train\": {\"eval_examples_count\": 11, \"metrics\": {\"per_item_action_accuracy\": 0.9268}, \"time_spent\": \"0:03:32\", \"epochs_done\": 54, \"batches_seen\": 165, \"train_examples_seen\": 605, \"learning_rate\": 0.003, \"momentum\": 0.95, \"loss\": 0.11916809529066086}}\n"
     ]
    },
    {
     "name": "stderr",
     "output_type": "stream",
     "text": [
      "2021-03-29 13:32:58.444 INFO in 'deeppavlov.core.trainers.nn_trainer'['nn_trainer'] at line 211: Did not improve on the per_item_action_accuracy of 0.9268\n",
      "2021-03-29 13:32:58.445 INFO in 'deeppavlov.core.trainers.nn_trainer'['nn_trainer'] at line 307: Ran out of patience\n"
     ]
    },
    {
     "name": "stdout",
     "output_type": "stream",
     "text": [
      "{\"valid\": {\"eval_examples_count\": 11, \"metrics\": {\"per_item_action_accuracy\": 0.9268}, \"time_spent\": \"0:03:34\", \"epochs_done\": 54, \"batches_seen\": 165, \"train_examples_seen\": 605, \"impatience\": 10, \"patience_limit\": 10}}\n"
     ]
    },
    {
     "name": "stderr",
     "output_type": "stream",
     "text": [
      "2021-03-29 13:32:58.757 INFO in 'deeppavlov.core.data.simple_vocab'['simple_vocab'] at line 115: [loading vocabulary from /home/abhishekbhatt/Documents/DeepPavlov_Chatbots/DP_weather_bot/word.dict]\n",
      "2021-03-29 13:32:58.829 INFO in 'deeppavlov.models.go_bot.nlg.nlg_manager'['mock_json_nlg_manager'] at line 94: INSIDE MockJSONNLGManager _load_actions2slots_mapping(): actions2slots_json_path=/home/abhishekbhatt/Documents/DeepPavlov_Chatbots/DP_weather_bot/dstc2-actions2slots.json DOES NOT EXIST. initialized actions2slots mapping with an empty one: {}\n",
      "2021-03-29 13:32:58.926 DEBUG in 'deeppavlov.dataset_readers.md_yaml_dialogs_reader'['md_yaml_dialogs_reader'] at line 217: BEFORE MLU_MD_DialogsDatasetReader._read_story(): story_fpath=/home/abhishekbhatt/Documents/DeepPavlov_Chatbots/DP_weather_bot/stories-trn.md, dialogs=True, domain_knowledge=<deeppavlov.dataset_readers.md_yaml_dialogs_reader.DomainKnowledge object at 0x7f8b8ad81240>, intent2slots2text={'greet': {(): [{'text': 'Hi', 'slots': []}, {'text': 'Hey', 'slots': []}, {'text': 'Hi bot', 'slots': []}, {'text': 'Hey bot', 'slots': []}, {'text': 'Hello', 'slots': []}, {'text': 'Good morning', 'slots': []}, {'text': 'hi again', 'slots': []}, {'text': 'hi folks', 'slots': []}, {'text': 'hola', 'slots': []}, {'text': 'hello, how are you today?', 'slots': []}, {'text': 'yo', 'slots': []}, {'text': 'hiya', 'slots': []}, {'text': 'Hello there', 'slots': []}, {'text': 'Umm, hey!', 'slots': []}]}, 'goodbye': {(): [{'text': 'goodbye', 'slots': []}, {'text': 'goodnight', 'slots': []}, {'text': 'good bye', 'slots': []}, {'text': 'good night', 'slots': []}, {'text': 'see ya', 'slots': []}, {'text': 'toodle-oo', 'slots': []}, {'text': 'bye bye', 'slots': []}, {'text': 'gotta go', 'slots': []}, {'text': 'farewell', 'slots': []}, {'text': 'bye then!', 'slots': []}, {'text': 'Ok then, see ya!', 'slots': []}]}, 'ask_weather_location': {(('location', 'Berlin'),): [{'text': 'How is the weather today in Berlin?', 'slots': [{'slot_value': 'Berlin', 'slot_text': 'Berlin', 'slot_name': 'location', 'span': (28, 34)}]}, {'text': \"What's going on Berlin today?\", 'slots': [{'slot_value': 'Berlin', 'slot_text': 'Berlin', 'slot_name': 'location', 'span': (16, 22)}]}], (('location', 'Stuttgart'),): [{'text': \"How's weather in Stuttgart today?\", 'slots': [{'slot_value': 'Stuttgart', 'slot_text': 'Stuttgart', 'slot_name': 'location', 'span': (17, 26)}]}], (('location', 'Prague'),): [{'text': 'In Prague', 'slots': [{'slot_value': 'Prague', 'slot_text': 'Prague', 'slot_name': 'location', 'span': (3, 9)}]}], (('location', 'Budapest'),): [{'text': 'at Budapest', 'slots': [{'slot_value': 'Budapest', 'slot_text': 'Budapest', 'slot_name': 'location', 'span': (3, 11)}]}], (('location', 'Nancy'),): [{'text': 'Nancy', 'slots': [{'slot_value': 'Nancy', 'slot_text': 'Nancy', 'slot_name': 'location', 'span': (0, 5)}]}], (('location', 'Dresden'),): [{'text': 'Tell me weather of Dresden.', 'slots': [{'slot_value': 'Dresden', 'slot_text': 'Dresden', 'slot_name': 'location', 'span': (19, 26)}]}], (('location', 'Rome'),): [{'text': 'What about in Rome today?', 'slots': [{'slot_value': 'Rome', 'slot_text': 'Rome', 'slot_name': 'location', 'span': (14, 18)}]}], (('location', 'Venice'),): [{'text': 'Show me weather of Venice', 'slots': [{'slot_value': 'Venice', 'slot_text': 'Venice', 'slot_name': 'location', 'span': (19, 25)}]}], (('location', 'Italy'),): [{'text': 'How about weather in Italy', 'slots': [{'slot_value': 'Italy', 'slot_text': 'Italy', 'slot_name': 'location', 'span': (21, 26)}]}], (('location', 'Vatican'),): [{'text': 'Sorry, in Vatican', 'slots': [{'slot_value': 'Vatican', 'slot_text': 'Vatican', 'slot_name': 'location', 'span': (10, 17)}]}], (('location', 'Bulgaria'),): [{'text': 'Uhh, how about in Bulgaria?', 'slots': [{'slot_value': 'Bulgaria', 'slot_text': 'Bulgaria', 'slot_name': 'location', 'span': (18, 26)}]}]}, 'ask_weather': {(): [{'text': \"How's the weather today?\", 'slots': []}, {'text': \"What's today's weather?\", 'slots': []}, {'text': 'How is it out there today?', 'slots': []}, {'text': \"What's overall weather today?\", 'slots': []}]}}, slot_name2text2value={'location': {'Berlin': 'Berlin', 'Stuttgart': 'Stuttgart', 'Prague': 'Prague', 'Budapest': 'Budapest', 'Nancy': 'Nancy', 'Dresden': 'Dresden', 'Rome': 'Rome', 'Venice': 'Venice', 'Italy': 'Italy', 'Vatican': 'Vatican', 'Bulgaria': 'Bulgaria'}}\n",
      "2021-03-29 13:32:58.965 INFO in 'deeppavlov.dataset_readers.dstc2_reader'['dstc2_reader'] at line 112: [loading dialogs from /tmp/tmplt_7xeop]\n",
      "2021-03-29 13:32:58.969 DEBUG in 'deeppavlov.dataset_readers.md_yaml_dialogs_reader'['md_yaml_dialogs_reader'] at line 306: AFTER MLU_MD_DialogsDatasetReader._read_story(): story_fpath=/home/abhishekbhatt/Documents/DeepPavlov_Chatbots/DP_weather_bot/stories-trn.md, dialogs=True, domain_knowledge=<deeppavlov.dataset_readers.md_yaml_dialogs_reader.DomainKnowledge object at 0x7f8b8ad81240>, intent2slots2text={'greet': {(): [{'text': 'Hi', 'slots': []}, {'text': 'Hey', 'slots': []}, {'text': 'Hi bot', 'slots': []}, {'text': 'Hey bot', 'slots': []}, {'text': 'Hello', 'slots': []}, {'text': 'Good morning', 'slots': []}, {'text': 'hi again', 'slots': []}, {'text': 'hi folks', 'slots': []}, {'text': 'hola', 'slots': []}, {'text': 'hello, how are you today?', 'slots': []}, {'text': 'yo', 'slots': []}, {'text': 'hiya', 'slots': []}, {'text': 'Hello there', 'slots': []}, {'text': 'Umm, hey!', 'slots': []}]}, 'goodbye': {(): [{'text': 'goodbye', 'slots': []}, {'text': 'goodnight', 'slots': []}, {'text': 'good bye', 'slots': []}, {'text': 'good night', 'slots': []}, {'text': 'see ya', 'slots': []}, {'text': 'toodle-oo', 'slots': []}, {'text': 'bye bye', 'slots': []}, {'text': 'gotta go', 'slots': []}, {'text': 'farewell', 'slots': []}, {'text': 'bye then!', 'slots': []}, {'text': 'Ok then, see ya!', 'slots': []}]}, 'ask_weather_location': {(('location', 'Berlin'),): [{'text': 'How is the weather today in Berlin?', 'slots': [{'slot_value': 'Berlin', 'slot_text': 'Berlin', 'slot_name': 'location', 'span': (28, 34)}]}, {'text': \"What's going on Berlin today?\", 'slots': [{'slot_value': 'Berlin', 'slot_text': 'Berlin', 'slot_name': 'location', 'span': (16, 22)}]}], (('location', 'Stuttgart'),): [{'text': \"How's weather in Stuttgart today?\", 'slots': [{'slot_value': 'Stuttgart', 'slot_text': 'Stuttgart', 'slot_name': 'location', 'span': (17, 26)}]}], (('location', 'Prague'),): [{'text': 'In Prague', 'slots': [{'slot_value': 'Prague', 'slot_text': 'Prague', 'slot_name': 'location', 'span': (3, 9)}]}], (('location', 'Budapest'),): [{'text': 'at Budapest', 'slots': [{'slot_value': 'Budapest', 'slot_text': 'Budapest', 'slot_name': 'location', 'span': (3, 11)}]}], (('location', 'Nancy'),): [{'text': 'Nancy', 'slots': [{'slot_value': 'Nancy', 'slot_text': 'Nancy', 'slot_name': 'location', 'span': (0, 5)}]}], (('location', 'Dresden'),): [{'text': 'Tell me weather of Dresden.', 'slots': [{'slot_value': 'Dresden', 'slot_text': 'Dresden', 'slot_name': 'location', 'span': (19, 26)}]}], (('location', 'Rome'),): [{'text': 'What about in Rome today?', 'slots': [{'slot_value': 'Rome', 'slot_text': 'Rome', 'slot_name': 'location', 'span': (14, 18)}]}], (('location', 'Venice'),): [{'text': 'Show me weather of Venice', 'slots': [{'slot_value': 'Venice', 'slot_text': 'Venice', 'slot_name': 'location', 'span': (19, 25)}]}], (('location', 'Italy'),): [{'text': 'How about weather in Italy', 'slots': [{'slot_value': 'Italy', 'slot_text': 'Italy', 'slot_name': 'location', 'span': (21, 26)}]}], (('location', 'Vatican'),): [{'text': 'Sorry, in Vatican', 'slots': [{'slot_value': 'Vatican', 'slot_text': 'Vatican', 'slot_name': 'location', 'span': (10, 17)}]}], (('location', 'Bulgaria'),): [{'text': 'Uhh, how about in Bulgaria?', 'slots': [{'slot_value': 'Bulgaria', 'slot_text': 'Bulgaria', 'slot_name': 'location', 'span': (18, 26)}]}]}, 'ask_weather': {(): [{'text': \"How's the weather today?\", 'slots': []}, {'text': \"What's today's weather?\", 'slots': []}, {'text': 'How is it out there today?', 'slots': []}, {'text': \"What's overall weather today?\", 'slots': []}]}}, slot_name2text2value={'location': {'Berlin': 'Berlin', 'Stuttgart': 'Stuttgart', 'Prague': 'Prague', 'Budapest': 'Budapest', 'Nancy': 'Nancy', 'Dresden': 'Dresden', 'Rome': 'Rome', 'Venice': 'Venice', 'Italy': 'Italy', 'Vatican': 'Vatican', 'Bulgaria': 'Bulgaria'}}\n"
     ]
    },
    {
     "name": "stderr",
     "output_type": "stream",
     "text": [
      "2021-03-29 13:32:58.972 DEBUG in 'deeppavlov.dataset_readers.md_yaml_dialogs_reader'['md_yaml_dialogs_reader'] at line 217: BEFORE MLU_MD_DialogsDatasetReader._read_story(): story_fpath=/home/abhishekbhatt/Documents/DeepPavlov_Chatbots/DP_weather_bot/stories-val.md, dialogs=True, domain_knowledge=<deeppavlov.dataset_readers.md_yaml_dialogs_reader.DomainKnowledge object at 0x7f8b8ad81240>, intent2slots2text={'greet': {(): [{'text': 'Hi', 'slots': []}, {'text': 'Hey', 'slots': []}, {'text': 'Hi bot', 'slots': []}, {'text': 'Hey bot', 'slots': []}, {'text': 'Hello', 'slots': []}, {'text': 'Good morning', 'slots': []}, {'text': 'hi again', 'slots': []}, {'text': 'hi folks', 'slots': []}, {'text': 'hola', 'slots': []}, {'text': 'hello, how are you today?', 'slots': []}, {'text': 'yo', 'slots': []}, {'text': 'hiya', 'slots': []}, {'text': 'Hello there', 'slots': []}, {'text': 'Umm, hey!', 'slots': []}]}, 'goodbye': {(): [{'text': 'goodbye', 'slots': []}, {'text': 'goodnight', 'slots': []}, {'text': 'good bye', 'slots': []}, {'text': 'good night', 'slots': []}, {'text': 'see ya', 'slots': []}, {'text': 'toodle-oo', 'slots': []}, {'text': 'bye bye', 'slots': []}, {'text': 'gotta go', 'slots': []}, {'text': 'farewell', 'slots': []}, {'text': 'bye then!', 'slots': []}, {'text': 'Ok then, see ya!', 'slots': []}]}, 'ask_weather_location': {(('location', 'Berlin'),): [{'text': 'How is the weather today in Berlin?', 'slots': [{'slot_value': 'Berlin', 'slot_text': 'Berlin', 'slot_name': 'location', 'span': (28, 34)}]}, {'text': \"What's going on Berlin today?\", 'slots': [{'slot_value': 'Berlin', 'slot_text': 'Berlin', 'slot_name': 'location', 'span': (16, 22)}]}], (('location', 'Stuttgart'),): [{'text': \"How's weather in Stuttgart today?\", 'slots': [{'slot_value': 'Stuttgart', 'slot_text': 'Stuttgart', 'slot_name': 'location', 'span': (17, 26)}]}], (('location', 'Prague'),): [{'text': 'In Prague', 'slots': [{'slot_value': 'Prague', 'slot_text': 'Prague', 'slot_name': 'location', 'span': (3, 9)}]}], (('location', 'Budapest'),): [{'text': 'at Budapest', 'slots': [{'slot_value': 'Budapest', 'slot_text': 'Budapest', 'slot_name': 'location', 'span': (3, 11)}]}], (('location', 'Nancy'),): [{'text': 'Nancy', 'slots': [{'slot_value': 'Nancy', 'slot_text': 'Nancy', 'slot_name': 'location', 'span': (0, 5)}]}], (('location', 'Dresden'),): [{'text': 'Tell me weather of Dresden.', 'slots': [{'slot_value': 'Dresden', 'slot_text': 'Dresden', 'slot_name': 'location', 'span': (19, 26)}]}], (('location', 'Rome'),): [{'text': 'What about in Rome today?', 'slots': [{'slot_value': 'Rome', 'slot_text': 'Rome', 'slot_name': 'location', 'span': (14, 18)}]}], (('location', 'Venice'),): [{'text': 'Show me weather of Venice', 'slots': [{'slot_value': 'Venice', 'slot_text': 'Venice', 'slot_name': 'location', 'span': (19, 25)}]}], (('location', 'Italy'),): [{'text': 'How about weather in Italy', 'slots': [{'slot_value': 'Italy', 'slot_text': 'Italy', 'slot_name': 'location', 'span': (21, 26)}]}], (('location', 'Vatican'),): [{'text': 'Sorry, in Vatican', 'slots': [{'slot_value': 'Vatican', 'slot_text': 'Vatican', 'slot_name': 'location', 'span': (10, 17)}]}], (('location', 'Bulgaria'),): [{'text': 'Uhh, how about in Bulgaria?', 'slots': [{'slot_value': 'Bulgaria', 'slot_text': 'Bulgaria', 'slot_name': 'location', 'span': (18, 26)}]}]}, 'ask_weather': {(): [{'text': \"How's the weather today?\", 'slots': []}, {'text': \"What's today's weather?\", 'slots': []}, {'text': 'How is it out there today?', 'slots': []}, {'text': \"What's overall weather today?\", 'slots': []}]}}, slot_name2text2value={'location': {'Berlin': 'Berlin', 'Stuttgart': 'Stuttgart', 'Prague': 'Prague', 'Budapest': 'Budapest', 'Nancy': 'Nancy', 'Dresden': 'Dresden', 'Rome': 'Rome', 'Venice': 'Venice', 'Italy': 'Italy', 'Vatican': 'Vatican', 'Bulgaria': 'Bulgaria'}}\n",
      "2021-03-29 13:32:58.978 INFO in 'deeppavlov.dataset_readers.dstc2_reader'['dstc2_reader'] at line 112: [loading dialogs from /tmp/tmpg_rc6v8n]\n",
      "2021-03-29 13:32:58.981 DEBUG in 'deeppavlov.dataset_readers.md_yaml_dialogs_reader'['md_yaml_dialogs_reader'] at line 306: AFTER MLU_MD_DialogsDatasetReader._read_story(): story_fpath=/home/abhishekbhatt/Documents/DeepPavlov_Chatbots/DP_weather_bot/stories-val.md, dialogs=True, domain_knowledge=<deeppavlov.dataset_readers.md_yaml_dialogs_reader.DomainKnowledge object at 0x7f8b8ad81240>, intent2slots2text={'greet': {(): [{'text': 'Hi', 'slots': []}, {'text': 'Hey', 'slots': []}, {'text': 'Hi bot', 'slots': []}, {'text': 'Hey bot', 'slots': []}, {'text': 'Hello', 'slots': []}, {'text': 'Good morning', 'slots': []}, {'text': 'hi again', 'slots': []}, {'text': 'hi folks', 'slots': []}, {'text': 'hola', 'slots': []}, {'text': 'hello, how are you today?', 'slots': []}, {'text': 'yo', 'slots': []}, {'text': 'hiya', 'slots': []}, {'text': 'Hello there', 'slots': []}, {'text': 'Umm, hey!', 'slots': []}]}, 'goodbye': {(): [{'text': 'goodbye', 'slots': []}, {'text': 'goodnight', 'slots': []}, {'text': 'good bye', 'slots': []}, {'text': 'good night', 'slots': []}, {'text': 'see ya', 'slots': []}, {'text': 'toodle-oo', 'slots': []}, {'text': 'bye bye', 'slots': []}, {'text': 'gotta go', 'slots': []}, {'text': 'farewell', 'slots': []}, {'text': 'bye then!', 'slots': []}, {'text': 'Ok then, see ya!', 'slots': []}]}, 'ask_weather_location': {(('location', 'Berlin'),): [{'text': 'How is the weather today in Berlin?', 'slots': [{'slot_value': 'Berlin', 'slot_text': 'Berlin', 'slot_name': 'location', 'span': (28, 34)}]}, {'text': \"What's going on Berlin today?\", 'slots': [{'slot_value': 'Berlin', 'slot_text': 'Berlin', 'slot_name': 'location', 'span': (16, 22)}]}], (('location', 'Stuttgart'),): [{'text': \"How's weather in Stuttgart today?\", 'slots': [{'slot_value': 'Stuttgart', 'slot_text': 'Stuttgart', 'slot_name': 'location', 'span': (17, 26)}]}], (('location', 'Prague'),): [{'text': 'In Prague', 'slots': [{'slot_value': 'Prague', 'slot_text': 'Prague', 'slot_name': 'location', 'span': (3, 9)}]}], (('location', 'Budapest'),): [{'text': 'at Budapest', 'slots': [{'slot_value': 'Budapest', 'slot_text': 'Budapest', 'slot_name': 'location', 'span': (3, 11)}]}], (('location', 'Nancy'),): [{'text': 'Nancy', 'slots': [{'slot_value': 'Nancy', 'slot_text': 'Nancy', 'slot_name': 'location', 'span': (0, 5)}]}], (('location', 'Dresden'),): [{'text': 'Tell me weather of Dresden.', 'slots': [{'slot_value': 'Dresden', 'slot_text': 'Dresden', 'slot_name': 'location', 'span': (19, 26)}]}], (('location', 'Rome'),): [{'text': 'What about in Rome today?', 'slots': [{'slot_value': 'Rome', 'slot_text': 'Rome', 'slot_name': 'location', 'span': (14, 18)}]}], (('location', 'Venice'),): [{'text': 'Show me weather of Venice', 'slots': [{'slot_value': 'Venice', 'slot_text': 'Venice', 'slot_name': 'location', 'span': (19, 25)}]}], (('location', 'Italy'),): [{'text': 'How about weather in Italy', 'slots': [{'slot_value': 'Italy', 'slot_text': 'Italy', 'slot_name': 'location', 'span': (21, 26)}]}], (('location', 'Vatican'),): [{'text': 'Sorry, in Vatican', 'slots': [{'slot_value': 'Vatican', 'slot_text': 'Vatican', 'slot_name': 'location', 'span': (10, 17)}]}], (('location', 'Bulgaria'),): [{'text': 'Uhh, how about in Bulgaria?', 'slots': [{'slot_value': 'Bulgaria', 'slot_text': 'Bulgaria', 'slot_name': 'location', 'span': (18, 26)}]}]}, 'ask_weather': {(): [{'text': \"How's the weather today?\", 'slots': []}, {'text': \"What's today's weather?\", 'slots': []}, {'text': 'How is it out there today?', 'slots': []}, {'text': \"What's overall weather today?\", 'slots': []}]}}, slot_name2text2value={'location': {'Berlin': 'Berlin', 'Stuttgart': 'Stuttgart', 'Prague': 'Prague', 'Budapest': 'Budapest', 'Nancy': 'Nancy', 'Dresden': 'Dresden', 'Rome': 'Rome', 'Venice': 'Venice', 'Italy': 'Italy', 'Vatican': 'Vatican', 'Bulgaria': 'Bulgaria'}}\n",
      "2021-03-29 13:32:58.982 DEBUG in 'deeppavlov.dataset_readers.md_yaml_dialogs_reader'['md_yaml_dialogs_reader'] at line 217: BEFORE MLU_MD_DialogsDatasetReader._read_story(): story_fpath=/home/abhishekbhatt/Documents/DeepPavlov_Chatbots/DP_weather_bot/stories-tst.md, dialogs=True, domain_knowledge=<deeppavlov.dataset_readers.md_yaml_dialogs_reader.DomainKnowledge object at 0x7f8b8ad81240>, intent2slots2text={'greet': {(): [{'text': 'Hi', 'slots': []}, {'text': 'Hey', 'slots': []}, {'text': 'Hi bot', 'slots': []}, {'text': 'Hey bot', 'slots': []}, {'text': 'Hello', 'slots': []}, {'text': 'Good morning', 'slots': []}, {'text': 'hi again', 'slots': []}, {'text': 'hi folks', 'slots': []}, {'text': 'hola', 'slots': []}, {'text': 'hello, how are you today?', 'slots': []}, {'text': 'yo', 'slots': []}, {'text': 'hiya', 'slots': []}, {'text': 'Hello there', 'slots': []}, {'text': 'Umm, hey!', 'slots': []}]}, 'goodbye': {(): [{'text': 'goodbye', 'slots': []}, {'text': 'goodnight', 'slots': []}, {'text': 'good bye', 'slots': []}, {'text': 'good night', 'slots': []}, {'text': 'see ya', 'slots': []}, {'text': 'toodle-oo', 'slots': []}, {'text': 'bye bye', 'slots': []}, {'text': 'gotta go', 'slots': []}, {'text': 'farewell', 'slots': []}, {'text': 'bye then!', 'slots': []}, {'text': 'Ok then, see ya!', 'slots': []}]}, 'ask_weather_location': {(('location', 'Berlin'),): [{'text': 'How is the weather today in Berlin?', 'slots': [{'slot_value': 'Berlin', 'slot_text': 'Berlin', 'slot_name': 'location', 'span': (28, 34)}]}, {'text': \"What's going on Berlin today?\", 'slots': [{'slot_value': 'Berlin', 'slot_text': 'Berlin', 'slot_name': 'location', 'span': (16, 22)}]}], (('location', 'Stuttgart'),): [{'text': \"How's weather in Stuttgart today?\", 'slots': [{'slot_value': 'Stuttgart', 'slot_text': 'Stuttgart', 'slot_name': 'location', 'span': (17, 26)}]}], (('location', 'Prague'),): [{'text': 'In Prague', 'slots': [{'slot_value': 'Prague', 'slot_text': 'Prague', 'slot_name': 'location', 'span': (3, 9)}]}], (('location', 'Budapest'),): [{'text': 'at Budapest', 'slots': [{'slot_value': 'Budapest', 'slot_text': 'Budapest', 'slot_name': 'location', 'span': (3, 11)}]}], (('location', 'Nancy'),): [{'text': 'Nancy', 'slots': [{'slot_value': 'Nancy', 'slot_text': 'Nancy', 'slot_name': 'location', 'span': (0, 5)}]}], (('location', 'Dresden'),): [{'text': 'Tell me weather of Dresden.', 'slots': [{'slot_value': 'Dresden', 'slot_text': 'Dresden', 'slot_name': 'location', 'span': (19, 26)}]}], (('location', 'Rome'),): [{'text': 'What about in Rome today?', 'slots': [{'slot_value': 'Rome', 'slot_text': 'Rome', 'slot_name': 'location', 'span': (14, 18)}]}], (('location', 'Venice'),): [{'text': 'Show me weather of Venice', 'slots': [{'slot_value': 'Venice', 'slot_text': 'Venice', 'slot_name': 'location', 'span': (19, 25)}]}], (('location', 'Italy'),): [{'text': 'How about weather in Italy', 'slots': [{'slot_value': 'Italy', 'slot_text': 'Italy', 'slot_name': 'location', 'span': (21, 26)}]}], (('location', 'Vatican'),): [{'text': 'Sorry, in Vatican', 'slots': [{'slot_value': 'Vatican', 'slot_text': 'Vatican', 'slot_name': 'location', 'span': (10, 17)}]}], (('location', 'Bulgaria'),): [{'text': 'Uhh, how about in Bulgaria?', 'slots': [{'slot_value': 'Bulgaria', 'slot_text': 'Bulgaria', 'slot_name': 'location', 'span': (18, 26)}]}]}, 'ask_weather': {(): [{'text': \"How's the weather today?\", 'slots': []}, {'text': \"What's today's weather?\", 'slots': []}, {'text': 'How is it out there today?', 'slots': []}, {'text': \"What's overall weather today?\", 'slots': []}]}}, slot_name2text2value={'location': {'Berlin': 'Berlin', 'Stuttgart': 'Stuttgart', 'Prague': 'Prague', 'Budapest': 'Budapest', 'Nancy': 'Nancy', 'Dresden': 'Dresden', 'Rome': 'Rome', 'Venice': 'Venice', 'Italy': 'Italy', 'Vatican': 'Vatican', 'Bulgaria': 'Bulgaria'}}\n"
     ]
    },
    {
     "name": "stderr",
     "output_type": "stream",
     "text": [
      "2021-03-29 13:32:58.996 INFO in 'deeppavlov.dataset_readers.dstc2_reader'['dstc2_reader'] at line 112: [loading dialogs from /tmp/tmpaoadeg1x]\n",
      "2021-03-29 13:32:59.6 DEBUG in 'deeppavlov.dataset_readers.md_yaml_dialogs_reader'['md_yaml_dialogs_reader'] at line 306: AFTER MLU_MD_DialogsDatasetReader._read_story(): story_fpath=/home/abhishekbhatt/Documents/DeepPavlov_Chatbots/DP_weather_bot/stories-tst.md, dialogs=True, domain_knowledge=<deeppavlov.dataset_readers.md_yaml_dialogs_reader.DomainKnowledge object at 0x7f8b8ad81240>, intent2slots2text={'greet': {(): [{'text': 'Hi', 'slots': []}, {'text': 'Hey', 'slots': []}, {'text': 'Hi bot', 'slots': []}, {'text': 'Hey bot', 'slots': []}, {'text': 'Hello', 'slots': []}, {'text': 'Good morning', 'slots': []}, {'text': 'hi again', 'slots': []}, {'text': 'hi folks', 'slots': []}, {'text': 'hola', 'slots': []}, {'text': 'hello, how are you today?', 'slots': []}, {'text': 'yo', 'slots': []}, {'text': 'hiya', 'slots': []}, {'text': 'Hello there', 'slots': []}, {'text': 'Umm, hey!', 'slots': []}]}, 'goodbye': {(): [{'text': 'goodbye', 'slots': []}, {'text': 'goodnight', 'slots': []}, {'text': 'good bye', 'slots': []}, {'text': 'good night', 'slots': []}, {'text': 'see ya', 'slots': []}, {'text': 'toodle-oo', 'slots': []}, {'text': 'bye bye', 'slots': []}, {'text': 'gotta go', 'slots': []}, {'text': 'farewell', 'slots': []}, {'text': 'bye then!', 'slots': []}, {'text': 'Ok then, see ya!', 'slots': []}]}, 'ask_weather_location': {(('location', 'Berlin'),): [{'text': 'How is the weather today in Berlin?', 'slots': [{'slot_value': 'Berlin', 'slot_text': 'Berlin', 'slot_name': 'location', 'span': (28, 34)}]}, {'text': \"What's going on Berlin today?\", 'slots': [{'slot_value': 'Berlin', 'slot_text': 'Berlin', 'slot_name': 'location', 'span': (16, 22)}]}], (('location', 'Stuttgart'),): [{'text': \"How's weather in Stuttgart today?\", 'slots': [{'slot_value': 'Stuttgart', 'slot_text': 'Stuttgart', 'slot_name': 'location', 'span': (17, 26)}]}], (('location', 'Prague'),): [{'text': 'In Prague', 'slots': [{'slot_value': 'Prague', 'slot_text': 'Prague', 'slot_name': 'location', 'span': (3, 9)}]}], (('location', 'Budapest'),): [{'text': 'at Budapest', 'slots': [{'slot_value': 'Budapest', 'slot_text': 'Budapest', 'slot_name': 'location', 'span': (3, 11)}]}], (('location', 'Nancy'),): [{'text': 'Nancy', 'slots': [{'slot_value': 'Nancy', 'slot_text': 'Nancy', 'slot_name': 'location', 'span': (0, 5)}]}], (('location', 'Dresden'),): [{'text': 'Tell me weather of Dresden.', 'slots': [{'slot_value': 'Dresden', 'slot_text': 'Dresden', 'slot_name': 'location', 'span': (19, 26)}]}], (('location', 'Rome'),): [{'text': 'What about in Rome today?', 'slots': [{'slot_value': 'Rome', 'slot_text': 'Rome', 'slot_name': 'location', 'span': (14, 18)}]}], (('location', 'Venice'),): [{'text': 'Show me weather of Venice', 'slots': [{'slot_value': 'Venice', 'slot_text': 'Venice', 'slot_name': 'location', 'span': (19, 25)}]}], (('location', 'Italy'),): [{'text': 'How about weather in Italy', 'slots': [{'slot_value': 'Italy', 'slot_text': 'Italy', 'slot_name': 'location', 'span': (21, 26)}]}], (('location', 'Vatican'),): [{'text': 'Sorry, in Vatican', 'slots': [{'slot_value': 'Vatican', 'slot_text': 'Vatican', 'slot_name': 'location', 'span': (10, 17)}]}], (('location', 'Bulgaria'),): [{'text': 'Uhh, how about in Bulgaria?', 'slots': [{'slot_value': 'Bulgaria', 'slot_text': 'Bulgaria', 'slot_name': 'location', 'span': (18, 26)}]}]}, 'ask_weather': {(): [{'text': \"How's the weather today?\", 'slots': []}, {'text': \"What's today's weather?\", 'slots': []}, {'text': 'How is it out there today?', 'slots': []}, {'text': \"What's overall weather today?\", 'slots': []}]}}, slot_name2text2value={'location': {'Berlin': 'Berlin', 'Stuttgart': 'Stuttgart', 'Prague': 'Prague', 'Budapest': 'Budapest', 'Nancy': 'Nancy', 'Dresden': 'Dresden', 'Rome': 'Rome', 'Venice': 'Venice', 'Italy': 'Italy', 'Vatican': 'Vatican', 'Bulgaria': 'Bulgaria'}}\n",
      "2021-03-29 13:32:59.32 INFO in 'deeppavlov.models.embedders.glove_embedder'['glove_embedder'] at line 52: [loading GloVe embeddings from `/home/abhishekbhatt/.deeppavlov/downloads/embeddings/glove.6B.100d.txt`]\n",
      "2021-03-29 13:34:15.101 INFO in 'deeppavlov.models.go_bot.policy.policy_network'['policy_network'] at line 86: INSIDE PolicyNetwork init(). Initializing PolicyNetwork from checkpoint.\n",
      "2021-03-29 13:34:15.118 INFO in 'deeppavlov.core.models.tf_model'['tf_model'] at line 51: [loading model from /home/abhishekbhatt/Documents/DeepPavlov_Chatbots/DP_weather_bot/model/policy]\n"
     ]
    },
    {
     "name": "stdout",
     "output_type": "stream",
     "text": [
      "INFO:tensorflow:Restoring parameters from /home/abhishekbhatt/Documents/DeepPavlov_Chatbots/DP_weather_bot/model/policy\n",
      "{\"valid\": {\"eval_examples_count\": 11, \"metrics\": {\"per_item_action_accuracy\": 0.9268}, \"time_spent\": \"0:00:04\"}}\n"
     ]
    },
    {
     "name": "stderr",
     "output_type": "stream",
     "text": [
      "2021-03-29 13:34:20.946 INFO in 'deeppavlov.core.data.simple_vocab'['simple_vocab'] at line 115: [loading vocabulary from /home/abhishekbhatt/Documents/DeepPavlov_Chatbots/DP_weather_bot/word.dict]\n",
      "2021-03-29 13:34:20.997 INFO in 'deeppavlov.models.go_bot.nlg.nlg_manager'['mock_json_nlg_manager'] at line 94: INSIDE MockJSONNLGManager _load_actions2slots_mapping(): actions2slots_json_path=/home/abhishekbhatt/Documents/DeepPavlov_Chatbots/DP_weather_bot/dstc2-actions2slots.json DOES NOT EXIST. initialized actions2slots mapping with an empty one: {}\n",
      "2021-03-29 13:34:21.29 DEBUG in 'deeppavlov.dataset_readers.md_yaml_dialogs_reader'['md_yaml_dialogs_reader'] at line 217: BEFORE MLU_MD_DialogsDatasetReader._read_story(): story_fpath=/home/abhishekbhatt/Documents/DeepPavlov_Chatbots/DP_weather_bot/stories-trn.md, dialogs=True, domain_knowledge=<deeppavlov.dataset_readers.md_yaml_dialogs_reader.DomainKnowledge object at 0x7f8b713bccf8>, intent2slots2text={'greet': {(): [{'text': 'Hi', 'slots': []}, {'text': 'Hey', 'slots': []}, {'text': 'Hi bot', 'slots': []}, {'text': 'Hey bot', 'slots': []}, {'text': 'Hello', 'slots': []}, {'text': 'Good morning', 'slots': []}, {'text': 'hi again', 'slots': []}, {'text': 'hi folks', 'slots': []}, {'text': 'hola', 'slots': []}, {'text': 'hello, how are you today?', 'slots': []}, {'text': 'yo', 'slots': []}, {'text': 'hiya', 'slots': []}, {'text': 'Hello there', 'slots': []}, {'text': 'Umm, hey!', 'slots': []}]}, 'goodbye': {(): [{'text': 'goodbye', 'slots': []}, {'text': 'goodnight', 'slots': []}, {'text': 'good bye', 'slots': []}, {'text': 'good night', 'slots': []}, {'text': 'see ya', 'slots': []}, {'text': 'toodle-oo', 'slots': []}, {'text': 'bye bye', 'slots': []}, {'text': 'gotta go', 'slots': []}, {'text': 'farewell', 'slots': []}, {'text': 'bye then!', 'slots': []}, {'text': 'Ok then, see ya!', 'slots': []}]}, 'ask_weather_location': {(('location', 'Berlin'),): [{'text': 'How is the weather today in Berlin?', 'slots': [{'slot_value': 'Berlin', 'slot_text': 'Berlin', 'slot_name': 'location', 'span': (28, 34)}]}, {'text': \"What's going on Berlin today?\", 'slots': [{'slot_value': 'Berlin', 'slot_text': 'Berlin', 'slot_name': 'location', 'span': (16, 22)}]}], (('location', 'Stuttgart'),): [{'text': \"How's weather in Stuttgart today?\", 'slots': [{'slot_value': 'Stuttgart', 'slot_text': 'Stuttgart', 'slot_name': 'location', 'span': (17, 26)}]}], (('location', 'Prague'),): [{'text': 'In Prague', 'slots': [{'slot_value': 'Prague', 'slot_text': 'Prague', 'slot_name': 'location', 'span': (3, 9)}]}], (('location', 'Budapest'),): [{'text': 'at Budapest', 'slots': [{'slot_value': 'Budapest', 'slot_text': 'Budapest', 'slot_name': 'location', 'span': (3, 11)}]}], (('location', 'Nancy'),): [{'text': 'Nancy', 'slots': [{'slot_value': 'Nancy', 'slot_text': 'Nancy', 'slot_name': 'location', 'span': (0, 5)}]}], (('location', 'Dresden'),): [{'text': 'Tell me weather of Dresden.', 'slots': [{'slot_value': 'Dresden', 'slot_text': 'Dresden', 'slot_name': 'location', 'span': (19, 26)}]}], (('location', 'Rome'),): [{'text': 'What about in Rome today?', 'slots': [{'slot_value': 'Rome', 'slot_text': 'Rome', 'slot_name': 'location', 'span': (14, 18)}]}], (('location', 'Venice'),): [{'text': 'Show me weather of Venice', 'slots': [{'slot_value': 'Venice', 'slot_text': 'Venice', 'slot_name': 'location', 'span': (19, 25)}]}], (('location', 'Italy'),): [{'text': 'How about weather in Italy', 'slots': [{'slot_value': 'Italy', 'slot_text': 'Italy', 'slot_name': 'location', 'span': (21, 26)}]}], (('location', 'Vatican'),): [{'text': 'Sorry, in Vatican', 'slots': [{'slot_value': 'Vatican', 'slot_text': 'Vatican', 'slot_name': 'location', 'span': (10, 17)}]}], (('location', 'Bulgaria'),): [{'text': 'Uhh, how about in Bulgaria?', 'slots': [{'slot_value': 'Bulgaria', 'slot_text': 'Bulgaria', 'slot_name': 'location', 'span': (18, 26)}]}]}, 'ask_weather': {(): [{'text': \"How's the weather today?\", 'slots': []}, {'text': \"What's today's weather?\", 'slots': []}, {'text': 'How is it out there today?', 'slots': []}, {'text': \"What's overall weather today?\", 'slots': []}]}}, slot_name2text2value={'location': {'Berlin': 'Berlin', 'Stuttgart': 'Stuttgart', 'Prague': 'Prague', 'Budapest': 'Budapest', 'Nancy': 'Nancy', 'Dresden': 'Dresden', 'Rome': 'Rome', 'Venice': 'Venice', 'Italy': 'Italy', 'Vatican': 'Vatican', 'Bulgaria': 'Bulgaria'}}\n"
     ]
    },
    {
     "name": "stdout",
     "output_type": "stream",
     "text": [
      "{\"test\": {\"eval_examples_count\": 11, \"metrics\": {\"per_item_action_accuracy\": 0.9268}, \"time_spent\": \"0:00:03\"}}\n"
     ]
    },
    {
     "name": "stderr",
     "output_type": "stream",
     "text": [
      "2021-03-29 13:34:21.54 INFO in 'deeppavlov.dataset_readers.dstc2_reader'['dstc2_reader'] at line 112: [loading dialogs from /tmp/tmpfc526qlr]\n",
      "2021-03-29 13:34:21.61 DEBUG in 'deeppavlov.dataset_readers.md_yaml_dialogs_reader'['md_yaml_dialogs_reader'] at line 306: AFTER MLU_MD_DialogsDatasetReader._read_story(): story_fpath=/home/abhishekbhatt/Documents/DeepPavlov_Chatbots/DP_weather_bot/stories-trn.md, dialogs=True, domain_knowledge=<deeppavlov.dataset_readers.md_yaml_dialogs_reader.DomainKnowledge object at 0x7f8b713bccf8>, intent2slots2text={'greet': {(): [{'text': 'Hi', 'slots': []}, {'text': 'Hey', 'slots': []}, {'text': 'Hi bot', 'slots': []}, {'text': 'Hey bot', 'slots': []}, {'text': 'Hello', 'slots': []}, {'text': 'Good morning', 'slots': []}, {'text': 'hi again', 'slots': []}, {'text': 'hi folks', 'slots': []}, {'text': 'hola', 'slots': []}, {'text': 'hello, how are you today?', 'slots': []}, {'text': 'yo', 'slots': []}, {'text': 'hiya', 'slots': []}, {'text': 'Hello there', 'slots': []}, {'text': 'Umm, hey!', 'slots': []}]}, 'goodbye': {(): [{'text': 'goodbye', 'slots': []}, {'text': 'goodnight', 'slots': []}, {'text': 'good bye', 'slots': []}, {'text': 'good night', 'slots': []}, {'text': 'see ya', 'slots': []}, {'text': 'toodle-oo', 'slots': []}, {'text': 'bye bye', 'slots': []}, {'text': 'gotta go', 'slots': []}, {'text': 'farewell', 'slots': []}, {'text': 'bye then!', 'slots': []}, {'text': 'Ok then, see ya!', 'slots': []}]}, 'ask_weather_location': {(('location', 'Berlin'),): [{'text': 'How is the weather today in Berlin?', 'slots': [{'slot_value': 'Berlin', 'slot_text': 'Berlin', 'slot_name': 'location', 'span': (28, 34)}]}, {'text': \"What's going on Berlin today?\", 'slots': [{'slot_value': 'Berlin', 'slot_text': 'Berlin', 'slot_name': 'location', 'span': (16, 22)}]}], (('location', 'Stuttgart'),): [{'text': \"How's weather in Stuttgart today?\", 'slots': [{'slot_value': 'Stuttgart', 'slot_text': 'Stuttgart', 'slot_name': 'location', 'span': (17, 26)}]}], (('location', 'Prague'),): [{'text': 'In Prague', 'slots': [{'slot_value': 'Prague', 'slot_text': 'Prague', 'slot_name': 'location', 'span': (3, 9)}]}], (('location', 'Budapest'),): [{'text': 'at Budapest', 'slots': [{'slot_value': 'Budapest', 'slot_text': 'Budapest', 'slot_name': 'location', 'span': (3, 11)}]}], (('location', 'Nancy'),): [{'text': 'Nancy', 'slots': [{'slot_value': 'Nancy', 'slot_text': 'Nancy', 'slot_name': 'location', 'span': (0, 5)}]}], (('location', 'Dresden'),): [{'text': 'Tell me weather of Dresden.', 'slots': [{'slot_value': 'Dresden', 'slot_text': 'Dresden', 'slot_name': 'location', 'span': (19, 26)}]}], (('location', 'Rome'),): [{'text': 'What about in Rome today?', 'slots': [{'slot_value': 'Rome', 'slot_text': 'Rome', 'slot_name': 'location', 'span': (14, 18)}]}], (('location', 'Venice'),): [{'text': 'Show me weather of Venice', 'slots': [{'slot_value': 'Venice', 'slot_text': 'Venice', 'slot_name': 'location', 'span': (19, 25)}]}], (('location', 'Italy'),): [{'text': 'How about weather in Italy', 'slots': [{'slot_value': 'Italy', 'slot_text': 'Italy', 'slot_name': 'location', 'span': (21, 26)}]}], (('location', 'Vatican'),): [{'text': 'Sorry, in Vatican', 'slots': [{'slot_value': 'Vatican', 'slot_text': 'Vatican', 'slot_name': 'location', 'span': (10, 17)}]}], (('location', 'Bulgaria'),): [{'text': 'Uhh, how about in Bulgaria?', 'slots': [{'slot_value': 'Bulgaria', 'slot_text': 'Bulgaria', 'slot_name': 'location', 'span': (18, 26)}]}]}, 'ask_weather': {(): [{'text': \"How's the weather today?\", 'slots': []}, {'text': \"What's today's weather?\", 'slots': []}, {'text': 'How is it out there today?', 'slots': []}, {'text': \"What's overall weather today?\", 'slots': []}]}}, slot_name2text2value={'location': {'Berlin': 'Berlin', 'Stuttgart': 'Stuttgart', 'Prague': 'Prague', 'Budapest': 'Budapest', 'Nancy': 'Nancy', 'Dresden': 'Dresden', 'Rome': 'Rome', 'Venice': 'Venice', 'Italy': 'Italy', 'Vatican': 'Vatican', 'Bulgaria': 'Bulgaria'}}\n",
      "2021-03-29 13:34:21.63 DEBUG in 'deeppavlov.dataset_readers.md_yaml_dialogs_reader'['md_yaml_dialogs_reader'] at line 217: BEFORE MLU_MD_DialogsDatasetReader._read_story(): story_fpath=/home/abhishekbhatt/Documents/DeepPavlov_Chatbots/DP_weather_bot/stories-val.md, dialogs=True, domain_knowledge=<deeppavlov.dataset_readers.md_yaml_dialogs_reader.DomainKnowledge object at 0x7f8b713bccf8>, intent2slots2text={'greet': {(): [{'text': 'Hi', 'slots': []}, {'text': 'Hey', 'slots': []}, {'text': 'Hi bot', 'slots': []}, {'text': 'Hey bot', 'slots': []}, {'text': 'Hello', 'slots': []}, {'text': 'Good morning', 'slots': []}, {'text': 'hi again', 'slots': []}, {'text': 'hi folks', 'slots': []}, {'text': 'hola', 'slots': []}, {'text': 'hello, how are you today?', 'slots': []}, {'text': 'yo', 'slots': []}, {'text': 'hiya', 'slots': []}, {'text': 'Hello there', 'slots': []}, {'text': 'Umm, hey!', 'slots': []}]}, 'goodbye': {(): [{'text': 'goodbye', 'slots': []}, {'text': 'goodnight', 'slots': []}, {'text': 'good bye', 'slots': []}, {'text': 'good night', 'slots': []}, {'text': 'see ya', 'slots': []}, {'text': 'toodle-oo', 'slots': []}, {'text': 'bye bye', 'slots': []}, {'text': 'gotta go', 'slots': []}, {'text': 'farewell', 'slots': []}, {'text': 'bye then!', 'slots': []}, {'text': 'Ok then, see ya!', 'slots': []}]}, 'ask_weather_location': {(('location', 'Berlin'),): [{'text': 'How is the weather today in Berlin?', 'slots': [{'slot_value': 'Berlin', 'slot_text': 'Berlin', 'slot_name': 'location', 'span': (28, 34)}]}, {'text': \"What's going on Berlin today?\", 'slots': [{'slot_value': 'Berlin', 'slot_text': 'Berlin', 'slot_name': 'location', 'span': (16, 22)}]}], (('location', 'Stuttgart'),): [{'text': \"How's weather in Stuttgart today?\", 'slots': [{'slot_value': 'Stuttgart', 'slot_text': 'Stuttgart', 'slot_name': 'location', 'span': (17, 26)}]}], (('location', 'Prague'),): [{'text': 'In Prague', 'slots': [{'slot_value': 'Prague', 'slot_text': 'Prague', 'slot_name': 'location', 'span': (3, 9)}]}], (('location', 'Budapest'),): [{'text': 'at Budapest', 'slots': [{'slot_value': 'Budapest', 'slot_text': 'Budapest', 'slot_name': 'location', 'span': (3, 11)}]}], (('location', 'Nancy'),): [{'text': 'Nancy', 'slots': [{'slot_value': 'Nancy', 'slot_text': 'Nancy', 'slot_name': 'location', 'span': (0, 5)}]}], (('location', 'Dresden'),): [{'text': 'Tell me weather of Dresden.', 'slots': [{'slot_value': 'Dresden', 'slot_text': 'Dresden', 'slot_name': 'location', 'span': (19, 26)}]}], (('location', 'Rome'),): [{'text': 'What about in Rome today?', 'slots': [{'slot_value': 'Rome', 'slot_text': 'Rome', 'slot_name': 'location', 'span': (14, 18)}]}], (('location', 'Venice'),): [{'text': 'Show me weather of Venice', 'slots': [{'slot_value': 'Venice', 'slot_text': 'Venice', 'slot_name': 'location', 'span': (19, 25)}]}], (('location', 'Italy'),): [{'text': 'How about weather in Italy', 'slots': [{'slot_value': 'Italy', 'slot_text': 'Italy', 'slot_name': 'location', 'span': (21, 26)}]}], (('location', 'Vatican'),): [{'text': 'Sorry, in Vatican', 'slots': [{'slot_value': 'Vatican', 'slot_text': 'Vatican', 'slot_name': 'location', 'span': (10, 17)}]}], (('location', 'Bulgaria'),): [{'text': 'Uhh, how about in Bulgaria?', 'slots': [{'slot_value': 'Bulgaria', 'slot_text': 'Bulgaria', 'slot_name': 'location', 'span': (18, 26)}]}]}, 'ask_weather': {(): [{'text': \"How's the weather today?\", 'slots': []}, {'text': \"What's today's weather?\", 'slots': []}, {'text': 'How is it out there today?', 'slots': []}, {'text': \"What's overall weather today?\", 'slots': []}]}}, slot_name2text2value={'location': {'Berlin': 'Berlin', 'Stuttgart': 'Stuttgart', 'Prague': 'Prague', 'Budapest': 'Budapest', 'Nancy': 'Nancy', 'Dresden': 'Dresden', 'Rome': 'Rome', 'Venice': 'Venice', 'Italy': 'Italy', 'Vatican': 'Vatican', 'Bulgaria': 'Bulgaria'}}\n",
      "2021-03-29 13:34:21.70 INFO in 'deeppavlov.dataset_readers.dstc2_reader'['dstc2_reader'] at line 112: [loading dialogs from /tmp/tmp26sb112k]\n",
      "2021-03-29 13:34:21.74 DEBUG in 'deeppavlov.dataset_readers.md_yaml_dialogs_reader'['md_yaml_dialogs_reader'] at line 306: AFTER MLU_MD_DialogsDatasetReader._read_story(): story_fpath=/home/abhishekbhatt/Documents/DeepPavlov_Chatbots/DP_weather_bot/stories-val.md, dialogs=True, domain_knowledge=<deeppavlov.dataset_readers.md_yaml_dialogs_reader.DomainKnowledge object at 0x7f8b713bccf8>, intent2slots2text={'greet': {(): [{'text': 'Hi', 'slots': []}, {'text': 'Hey', 'slots': []}, {'text': 'Hi bot', 'slots': []}, {'text': 'Hey bot', 'slots': []}, {'text': 'Hello', 'slots': []}, {'text': 'Good morning', 'slots': []}, {'text': 'hi again', 'slots': []}, {'text': 'hi folks', 'slots': []}, {'text': 'hola', 'slots': []}, {'text': 'hello, how are you today?', 'slots': []}, {'text': 'yo', 'slots': []}, {'text': 'hiya', 'slots': []}, {'text': 'Hello there', 'slots': []}, {'text': 'Umm, hey!', 'slots': []}]}, 'goodbye': {(): [{'text': 'goodbye', 'slots': []}, {'text': 'goodnight', 'slots': []}, {'text': 'good bye', 'slots': []}, {'text': 'good night', 'slots': []}, {'text': 'see ya', 'slots': []}, {'text': 'toodle-oo', 'slots': []}, {'text': 'bye bye', 'slots': []}, {'text': 'gotta go', 'slots': []}, {'text': 'farewell', 'slots': []}, {'text': 'bye then!', 'slots': []}, {'text': 'Ok then, see ya!', 'slots': []}]}, 'ask_weather_location': {(('location', 'Berlin'),): [{'text': 'How is the weather today in Berlin?', 'slots': [{'slot_value': 'Berlin', 'slot_text': 'Berlin', 'slot_name': 'location', 'span': (28, 34)}]}, {'text': \"What's going on Berlin today?\", 'slots': [{'slot_value': 'Berlin', 'slot_text': 'Berlin', 'slot_name': 'location', 'span': (16, 22)}]}], (('location', 'Stuttgart'),): [{'text': \"How's weather in Stuttgart today?\", 'slots': [{'slot_value': 'Stuttgart', 'slot_text': 'Stuttgart', 'slot_name': 'location', 'span': (17, 26)}]}], (('location', 'Prague'),): [{'text': 'In Prague', 'slots': [{'slot_value': 'Prague', 'slot_text': 'Prague', 'slot_name': 'location', 'span': (3, 9)}]}], (('location', 'Budapest'),): [{'text': 'at Budapest', 'slots': [{'slot_value': 'Budapest', 'slot_text': 'Budapest', 'slot_name': 'location', 'span': (3, 11)}]}], (('location', 'Nancy'),): [{'text': 'Nancy', 'slots': [{'slot_value': 'Nancy', 'slot_text': 'Nancy', 'slot_name': 'location', 'span': (0, 5)}]}], (('location', 'Dresden'),): [{'text': 'Tell me weather of Dresden.', 'slots': [{'slot_value': 'Dresden', 'slot_text': 'Dresden', 'slot_name': 'location', 'span': (19, 26)}]}], (('location', 'Rome'),): [{'text': 'What about in Rome today?', 'slots': [{'slot_value': 'Rome', 'slot_text': 'Rome', 'slot_name': 'location', 'span': (14, 18)}]}], (('location', 'Venice'),): [{'text': 'Show me weather of Venice', 'slots': [{'slot_value': 'Venice', 'slot_text': 'Venice', 'slot_name': 'location', 'span': (19, 25)}]}], (('location', 'Italy'),): [{'text': 'How about weather in Italy', 'slots': [{'slot_value': 'Italy', 'slot_text': 'Italy', 'slot_name': 'location', 'span': (21, 26)}]}], (('location', 'Vatican'),): [{'text': 'Sorry, in Vatican', 'slots': [{'slot_value': 'Vatican', 'slot_text': 'Vatican', 'slot_name': 'location', 'span': (10, 17)}]}], (('location', 'Bulgaria'),): [{'text': 'Uhh, how about in Bulgaria?', 'slots': [{'slot_value': 'Bulgaria', 'slot_text': 'Bulgaria', 'slot_name': 'location', 'span': (18, 26)}]}]}, 'ask_weather': {(): [{'text': \"How's the weather today?\", 'slots': []}, {'text': \"What's today's weather?\", 'slots': []}, {'text': 'How is it out there today?', 'slots': []}, {'text': \"What's overall weather today?\", 'slots': []}]}}, slot_name2text2value={'location': {'Berlin': 'Berlin', 'Stuttgart': 'Stuttgart', 'Prague': 'Prague', 'Budapest': 'Budapest', 'Nancy': 'Nancy', 'Dresden': 'Dresden', 'Rome': 'Rome', 'Venice': 'Venice', 'Italy': 'Italy', 'Vatican': 'Vatican', 'Bulgaria': 'Bulgaria'}}\n"
     ]
    },
    {
     "name": "stderr",
     "output_type": "stream",
     "text": [
      "2021-03-29 13:34:21.75 DEBUG in 'deeppavlov.dataset_readers.md_yaml_dialogs_reader'['md_yaml_dialogs_reader'] at line 217: BEFORE MLU_MD_DialogsDatasetReader._read_story(): story_fpath=/home/abhishekbhatt/Documents/DeepPavlov_Chatbots/DP_weather_bot/stories-tst.md, dialogs=True, domain_knowledge=<deeppavlov.dataset_readers.md_yaml_dialogs_reader.DomainKnowledge object at 0x7f8b713bccf8>, intent2slots2text={'greet': {(): [{'text': 'Hi', 'slots': []}, {'text': 'Hey', 'slots': []}, {'text': 'Hi bot', 'slots': []}, {'text': 'Hey bot', 'slots': []}, {'text': 'Hello', 'slots': []}, {'text': 'Good morning', 'slots': []}, {'text': 'hi again', 'slots': []}, {'text': 'hi folks', 'slots': []}, {'text': 'hola', 'slots': []}, {'text': 'hello, how are you today?', 'slots': []}, {'text': 'yo', 'slots': []}, {'text': 'hiya', 'slots': []}, {'text': 'Hello there', 'slots': []}, {'text': 'Umm, hey!', 'slots': []}]}, 'goodbye': {(): [{'text': 'goodbye', 'slots': []}, {'text': 'goodnight', 'slots': []}, {'text': 'good bye', 'slots': []}, {'text': 'good night', 'slots': []}, {'text': 'see ya', 'slots': []}, {'text': 'toodle-oo', 'slots': []}, {'text': 'bye bye', 'slots': []}, {'text': 'gotta go', 'slots': []}, {'text': 'farewell', 'slots': []}, {'text': 'bye then!', 'slots': []}, {'text': 'Ok then, see ya!', 'slots': []}]}, 'ask_weather_location': {(('location', 'Berlin'),): [{'text': 'How is the weather today in Berlin?', 'slots': [{'slot_value': 'Berlin', 'slot_text': 'Berlin', 'slot_name': 'location', 'span': (28, 34)}]}, {'text': \"What's going on Berlin today?\", 'slots': [{'slot_value': 'Berlin', 'slot_text': 'Berlin', 'slot_name': 'location', 'span': (16, 22)}]}], (('location', 'Stuttgart'),): [{'text': \"How's weather in Stuttgart today?\", 'slots': [{'slot_value': 'Stuttgart', 'slot_text': 'Stuttgart', 'slot_name': 'location', 'span': (17, 26)}]}], (('location', 'Prague'),): [{'text': 'In Prague', 'slots': [{'slot_value': 'Prague', 'slot_text': 'Prague', 'slot_name': 'location', 'span': (3, 9)}]}], (('location', 'Budapest'),): [{'text': 'at Budapest', 'slots': [{'slot_value': 'Budapest', 'slot_text': 'Budapest', 'slot_name': 'location', 'span': (3, 11)}]}], (('location', 'Nancy'),): [{'text': 'Nancy', 'slots': [{'slot_value': 'Nancy', 'slot_text': 'Nancy', 'slot_name': 'location', 'span': (0, 5)}]}], (('location', 'Dresden'),): [{'text': 'Tell me weather of Dresden.', 'slots': [{'slot_value': 'Dresden', 'slot_text': 'Dresden', 'slot_name': 'location', 'span': (19, 26)}]}], (('location', 'Rome'),): [{'text': 'What about in Rome today?', 'slots': [{'slot_value': 'Rome', 'slot_text': 'Rome', 'slot_name': 'location', 'span': (14, 18)}]}], (('location', 'Venice'),): [{'text': 'Show me weather of Venice', 'slots': [{'slot_value': 'Venice', 'slot_text': 'Venice', 'slot_name': 'location', 'span': (19, 25)}]}], (('location', 'Italy'),): [{'text': 'How about weather in Italy', 'slots': [{'slot_value': 'Italy', 'slot_text': 'Italy', 'slot_name': 'location', 'span': (21, 26)}]}], (('location', 'Vatican'),): [{'text': 'Sorry, in Vatican', 'slots': [{'slot_value': 'Vatican', 'slot_text': 'Vatican', 'slot_name': 'location', 'span': (10, 17)}]}], (('location', 'Bulgaria'),): [{'text': 'Uhh, how about in Bulgaria?', 'slots': [{'slot_value': 'Bulgaria', 'slot_text': 'Bulgaria', 'slot_name': 'location', 'span': (18, 26)}]}]}, 'ask_weather': {(): [{'text': \"How's the weather today?\", 'slots': []}, {'text': \"What's today's weather?\", 'slots': []}, {'text': 'How is it out there today?', 'slots': []}, {'text': \"What's overall weather today?\", 'slots': []}]}}, slot_name2text2value={'location': {'Berlin': 'Berlin', 'Stuttgart': 'Stuttgart', 'Prague': 'Prague', 'Budapest': 'Budapest', 'Nancy': 'Nancy', 'Dresden': 'Dresden', 'Rome': 'Rome', 'Venice': 'Venice', 'Italy': 'Italy', 'Vatican': 'Vatican', 'Bulgaria': 'Bulgaria'}}\n",
      "2021-03-29 13:34:21.83 INFO in 'deeppavlov.dataset_readers.dstc2_reader'['dstc2_reader'] at line 112: [loading dialogs from /tmp/tmpa5jxgl95]\n",
      "2021-03-29 13:34:21.87 DEBUG in 'deeppavlov.dataset_readers.md_yaml_dialogs_reader'['md_yaml_dialogs_reader'] at line 306: AFTER MLU_MD_DialogsDatasetReader._read_story(): story_fpath=/home/abhishekbhatt/Documents/DeepPavlov_Chatbots/DP_weather_bot/stories-tst.md, dialogs=True, domain_knowledge=<deeppavlov.dataset_readers.md_yaml_dialogs_reader.DomainKnowledge object at 0x7f8b713bccf8>, intent2slots2text={'greet': {(): [{'text': 'Hi', 'slots': []}, {'text': 'Hey', 'slots': []}, {'text': 'Hi bot', 'slots': []}, {'text': 'Hey bot', 'slots': []}, {'text': 'Hello', 'slots': []}, {'text': 'Good morning', 'slots': []}, {'text': 'hi again', 'slots': []}, {'text': 'hi folks', 'slots': []}, {'text': 'hola', 'slots': []}, {'text': 'hello, how are you today?', 'slots': []}, {'text': 'yo', 'slots': []}, {'text': 'hiya', 'slots': []}, {'text': 'Hello there', 'slots': []}, {'text': 'Umm, hey!', 'slots': []}]}, 'goodbye': {(): [{'text': 'goodbye', 'slots': []}, {'text': 'goodnight', 'slots': []}, {'text': 'good bye', 'slots': []}, {'text': 'good night', 'slots': []}, {'text': 'see ya', 'slots': []}, {'text': 'toodle-oo', 'slots': []}, {'text': 'bye bye', 'slots': []}, {'text': 'gotta go', 'slots': []}, {'text': 'farewell', 'slots': []}, {'text': 'bye then!', 'slots': []}, {'text': 'Ok then, see ya!', 'slots': []}]}, 'ask_weather_location': {(('location', 'Berlin'),): [{'text': 'How is the weather today in Berlin?', 'slots': [{'slot_value': 'Berlin', 'slot_text': 'Berlin', 'slot_name': 'location', 'span': (28, 34)}]}, {'text': \"What's going on Berlin today?\", 'slots': [{'slot_value': 'Berlin', 'slot_text': 'Berlin', 'slot_name': 'location', 'span': (16, 22)}]}], (('location', 'Stuttgart'),): [{'text': \"How's weather in Stuttgart today?\", 'slots': [{'slot_value': 'Stuttgart', 'slot_text': 'Stuttgart', 'slot_name': 'location', 'span': (17, 26)}]}], (('location', 'Prague'),): [{'text': 'In Prague', 'slots': [{'slot_value': 'Prague', 'slot_text': 'Prague', 'slot_name': 'location', 'span': (3, 9)}]}], (('location', 'Budapest'),): [{'text': 'at Budapest', 'slots': [{'slot_value': 'Budapest', 'slot_text': 'Budapest', 'slot_name': 'location', 'span': (3, 11)}]}], (('location', 'Nancy'),): [{'text': 'Nancy', 'slots': [{'slot_value': 'Nancy', 'slot_text': 'Nancy', 'slot_name': 'location', 'span': (0, 5)}]}], (('location', 'Dresden'),): [{'text': 'Tell me weather of Dresden.', 'slots': [{'slot_value': 'Dresden', 'slot_text': 'Dresden', 'slot_name': 'location', 'span': (19, 26)}]}], (('location', 'Rome'),): [{'text': 'What about in Rome today?', 'slots': [{'slot_value': 'Rome', 'slot_text': 'Rome', 'slot_name': 'location', 'span': (14, 18)}]}], (('location', 'Venice'),): [{'text': 'Show me weather of Venice', 'slots': [{'slot_value': 'Venice', 'slot_text': 'Venice', 'slot_name': 'location', 'span': (19, 25)}]}], (('location', 'Italy'),): [{'text': 'How about weather in Italy', 'slots': [{'slot_value': 'Italy', 'slot_text': 'Italy', 'slot_name': 'location', 'span': (21, 26)}]}], (('location', 'Vatican'),): [{'text': 'Sorry, in Vatican', 'slots': [{'slot_value': 'Vatican', 'slot_text': 'Vatican', 'slot_name': 'location', 'span': (10, 17)}]}], (('location', 'Bulgaria'),): [{'text': 'Uhh, how about in Bulgaria?', 'slots': [{'slot_value': 'Bulgaria', 'slot_text': 'Bulgaria', 'slot_name': 'location', 'span': (18, 26)}]}]}, 'ask_weather': {(): [{'text': \"How's the weather today?\", 'slots': []}, {'text': \"What's today's weather?\", 'slots': []}, {'text': 'How is it out there today?', 'slots': []}, {'text': \"What's overall weather today?\", 'slots': []}]}}, slot_name2text2value={'location': {'Berlin': 'Berlin', 'Stuttgart': 'Stuttgart', 'Prague': 'Prague', 'Budapest': 'Budapest', 'Nancy': 'Nancy', 'Dresden': 'Dresden', 'Rome': 'Rome', 'Venice': 'Venice', 'Italy': 'Italy', 'Vatican': 'Vatican', 'Bulgaria': 'Bulgaria'}}\n",
      "2021-03-29 13:34:21.93 INFO in 'deeppavlov.models.embedders.glove_embedder'['glove_embedder'] at line 52: [loading GloVe embeddings from `/home/abhishekbhatt/.deeppavlov/downloads/embeddings/glove.6B.100d.txt`]\n",
      "2021-03-29 13:35:34.274 INFO in 'deeppavlov.models.go_bot.policy.policy_network'['policy_network'] at line 86: INSIDE PolicyNetwork init(). Initializing PolicyNetwork from checkpoint.\n"
     ]
    },
    {
     "name": "stderr",
     "output_type": "stream",
     "text": [
      "2021-03-29 13:35:34.323 INFO in 'deeppavlov.core.models.tf_model'['tf_model'] at line 51: [loading model from /home/abhishekbhatt/Documents/DeepPavlov_Chatbots/DP_weather_bot/model/policy]\n"
     ]
    },
    {
     "name": "stdout",
     "output_type": "stream",
     "text": [
      "INFO:tensorflow:Restoring parameters from /home/abhishekbhatt/Documents/DeepPavlov_Chatbots/DP_weather_bot/model/policy\n"
     ]
    },
    {
     "data": {
      "text/plain": [
       "Chainer[<deeppavlov.models.go_bot.wrapper.DialogComponentWrapper at 0x7f8b89da6ac8>,\n",
       "        <deeppavlov.models.go_bot.go_bot.GoalOrientedBot at 0x7f8b49970438>]"
      ]
     },
     "execution_count": 22,
     "metadata": {},
     "output_type": "execute_result"
    }
   ],
   "source": [
    "from deeppavlov import train_model\n",
    "\n",
    "train_model(gobot_config, download=False)"
   ]
  },
  {
   "cell_type": "code",
   "execution_count": 23,
   "id": "accredited-public",
   "metadata": {
    "scrolled": true
   },
   "outputs": [
    {
     "name": "stderr",
     "output_type": "stream",
     "text": [
      "2021-03-29 13:35:44.16 INFO in 'deeppavlov.core.data.simple_vocab'['simple_vocab'] at line 115: [loading vocabulary from /home/abhishekbhatt/Documents/DeepPavlov_Chatbots/DP_weather_bot/word.dict]\n",
      "2021-03-29 13:35:44.55 INFO in 'deeppavlov.models.go_bot.nlg.nlg_manager'['mock_json_nlg_manager'] at line 94: INSIDE MockJSONNLGManager _load_actions2slots_mapping(): actions2slots_json_path=/home/abhishekbhatt/Documents/DeepPavlov_Chatbots/DP_weather_bot/dstc2-actions2slots.json DOES NOT EXIST. initialized actions2slots mapping with an empty one: {}\n",
      "2021-03-29 13:35:44.131 DEBUG in 'deeppavlov.dataset_readers.md_yaml_dialogs_reader'['md_yaml_dialogs_reader'] at line 217: BEFORE MLU_MD_DialogsDatasetReader._read_story(): story_fpath=/home/abhishekbhatt/Documents/DeepPavlov_Chatbots/DP_weather_bot/stories-trn.md, dialogs=True, domain_knowledge=<deeppavlov.dataset_readers.md_yaml_dialogs_reader.DomainKnowledge object at 0x7f8b480b3f98>, intent2slots2text={'greet': {(): [{'text': 'Hi', 'slots': []}, {'text': 'Hey', 'slots': []}, {'text': 'Hi bot', 'slots': []}, {'text': 'Hey bot', 'slots': []}, {'text': 'Hello', 'slots': []}, {'text': 'Good morning', 'slots': []}, {'text': 'hi again', 'slots': []}, {'text': 'hi folks', 'slots': []}, {'text': 'hola', 'slots': []}, {'text': 'hello, how are you today?', 'slots': []}, {'text': 'yo', 'slots': []}, {'text': 'hiya', 'slots': []}, {'text': 'Hello there', 'slots': []}, {'text': 'Umm, hey!', 'slots': []}]}, 'goodbye': {(): [{'text': 'goodbye', 'slots': []}, {'text': 'goodnight', 'slots': []}, {'text': 'good bye', 'slots': []}, {'text': 'good night', 'slots': []}, {'text': 'see ya', 'slots': []}, {'text': 'toodle-oo', 'slots': []}, {'text': 'bye bye', 'slots': []}, {'text': 'gotta go', 'slots': []}, {'text': 'farewell', 'slots': []}, {'text': 'bye then!', 'slots': []}, {'text': 'Ok then, see ya!', 'slots': []}]}, 'ask_weather_location': {(('location', 'Berlin'),): [{'text': 'How is the weather today in Berlin?', 'slots': [{'slot_value': 'Berlin', 'slot_text': 'Berlin', 'slot_name': 'location', 'span': (28, 34)}]}, {'text': \"What's going on Berlin today?\", 'slots': [{'slot_value': 'Berlin', 'slot_text': 'Berlin', 'slot_name': 'location', 'span': (16, 22)}]}], (('location', 'Stuttgart'),): [{'text': \"How's weather in Stuttgart today?\", 'slots': [{'slot_value': 'Stuttgart', 'slot_text': 'Stuttgart', 'slot_name': 'location', 'span': (17, 26)}]}], (('location', 'Prague'),): [{'text': 'In Prague', 'slots': [{'slot_value': 'Prague', 'slot_text': 'Prague', 'slot_name': 'location', 'span': (3, 9)}]}], (('location', 'Budapest'),): [{'text': 'at Budapest', 'slots': [{'slot_value': 'Budapest', 'slot_text': 'Budapest', 'slot_name': 'location', 'span': (3, 11)}]}], (('location', 'Nancy'),): [{'text': 'Nancy', 'slots': [{'slot_value': 'Nancy', 'slot_text': 'Nancy', 'slot_name': 'location', 'span': (0, 5)}]}], (('location', 'Dresden'),): [{'text': 'Tell me weather of Dresden.', 'slots': [{'slot_value': 'Dresden', 'slot_text': 'Dresden', 'slot_name': 'location', 'span': (19, 26)}]}], (('location', 'Rome'),): [{'text': 'What about in Rome today?', 'slots': [{'slot_value': 'Rome', 'slot_text': 'Rome', 'slot_name': 'location', 'span': (14, 18)}]}], (('location', 'Venice'),): [{'text': 'Show me weather of Venice', 'slots': [{'slot_value': 'Venice', 'slot_text': 'Venice', 'slot_name': 'location', 'span': (19, 25)}]}], (('location', 'Italy'),): [{'text': 'How about weather in Italy', 'slots': [{'slot_value': 'Italy', 'slot_text': 'Italy', 'slot_name': 'location', 'span': (21, 26)}]}], (('location', 'Vatican'),): [{'text': 'Sorry, in Vatican', 'slots': [{'slot_value': 'Vatican', 'slot_text': 'Vatican', 'slot_name': 'location', 'span': (10, 17)}]}], (('location', 'Bulgaria'),): [{'text': 'Uhh, how about in Bulgaria?', 'slots': [{'slot_value': 'Bulgaria', 'slot_text': 'Bulgaria', 'slot_name': 'location', 'span': (18, 26)}]}]}, 'ask_weather': {(): [{'text': \"How's the weather today?\", 'slots': []}, {'text': \"What's today's weather?\", 'slots': []}, {'text': 'How is it out there today?', 'slots': []}, {'text': \"What's overall weather today?\", 'slots': []}]}}, slot_name2text2value={'location': {'Berlin': 'Berlin', 'Stuttgart': 'Stuttgart', 'Prague': 'Prague', 'Budapest': 'Budapest', 'Nancy': 'Nancy', 'Dresden': 'Dresden', 'Rome': 'Rome', 'Venice': 'Venice', 'Italy': 'Italy', 'Vatican': 'Vatican', 'Bulgaria': 'Bulgaria'}}\n",
      "2021-03-29 13:35:44.180 INFO in 'deeppavlov.dataset_readers.dstc2_reader'['dstc2_reader'] at line 112: [loading dialogs from /tmp/tmpkr3fmhls]\n",
      "2021-03-29 13:35:44.187 DEBUG in 'deeppavlov.dataset_readers.md_yaml_dialogs_reader'['md_yaml_dialogs_reader'] at line 306: AFTER MLU_MD_DialogsDatasetReader._read_story(): story_fpath=/home/abhishekbhatt/Documents/DeepPavlov_Chatbots/DP_weather_bot/stories-trn.md, dialogs=True, domain_knowledge=<deeppavlov.dataset_readers.md_yaml_dialogs_reader.DomainKnowledge object at 0x7f8b480b3f98>, intent2slots2text={'greet': {(): [{'text': 'Hi', 'slots': []}, {'text': 'Hey', 'slots': []}, {'text': 'Hi bot', 'slots': []}, {'text': 'Hey bot', 'slots': []}, {'text': 'Hello', 'slots': []}, {'text': 'Good morning', 'slots': []}, {'text': 'hi again', 'slots': []}, {'text': 'hi folks', 'slots': []}, {'text': 'hola', 'slots': []}, {'text': 'hello, how are you today?', 'slots': []}, {'text': 'yo', 'slots': []}, {'text': 'hiya', 'slots': []}, {'text': 'Hello there', 'slots': []}, {'text': 'Umm, hey!', 'slots': []}]}, 'goodbye': {(): [{'text': 'goodbye', 'slots': []}, {'text': 'goodnight', 'slots': []}, {'text': 'good bye', 'slots': []}, {'text': 'good night', 'slots': []}, {'text': 'see ya', 'slots': []}, {'text': 'toodle-oo', 'slots': []}, {'text': 'bye bye', 'slots': []}, {'text': 'gotta go', 'slots': []}, {'text': 'farewell', 'slots': []}, {'text': 'bye then!', 'slots': []}, {'text': 'Ok then, see ya!', 'slots': []}]}, 'ask_weather_location': {(('location', 'Berlin'),): [{'text': 'How is the weather today in Berlin?', 'slots': [{'slot_value': 'Berlin', 'slot_text': 'Berlin', 'slot_name': 'location', 'span': (28, 34)}]}, {'text': \"What's going on Berlin today?\", 'slots': [{'slot_value': 'Berlin', 'slot_text': 'Berlin', 'slot_name': 'location', 'span': (16, 22)}]}], (('location', 'Stuttgart'),): [{'text': \"How's weather in Stuttgart today?\", 'slots': [{'slot_value': 'Stuttgart', 'slot_text': 'Stuttgart', 'slot_name': 'location', 'span': (17, 26)}]}], (('location', 'Prague'),): [{'text': 'In Prague', 'slots': [{'slot_value': 'Prague', 'slot_text': 'Prague', 'slot_name': 'location', 'span': (3, 9)}]}], (('location', 'Budapest'),): [{'text': 'at Budapest', 'slots': [{'slot_value': 'Budapest', 'slot_text': 'Budapest', 'slot_name': 'location', 'span': (3, 11)}]}], (('location', 'Nancy'),): [{'text': 'Nancy', 'slots': [{'slot_value': 'Nancy', 'slot_text': 'Nancy', 'slot_name': 'location', 'span': (0, 5)}]}], (('location', 'Dresden'),): [{'text': 'Tell me weather of Dresden.', 'slots': [{'slot_value': 'Dresden', 'slot_text': 'Dresden', 'slot_name': 'location', 'span': (19, 26)}]}], (('location', 'Rome'),): [{'text': 'What about in Rome today?', 'slots': [{'slot_value': 'Rome', 'slot_text': 'Rome', 'slot_name': 'location', 'span': (14, 18)}]}], (('location', 'Venice'),): [{'text': 'Show me weather of Venice', 'slots': [{'slot_value': 'Venice', 'slot_text': 'Venice', 'slot_name': 'location', 'span': (19, 25)}]}], (('location', 'Italy'),): [{'text': 'How about weather in Italy', 'slots': [{'slot_value': 'Italy', 'slot_text': 'Italy', 'slot_name': 'location', 'span': (21, 26)}]}], (('location', 'Vatican'),): [{'text': 'Sorry, in Vatican', 'slots': [{'slot_value': 'Vatican', 'slot_text': 'Vatican', 'slot_name': 'location', 'span': (10, 17)}]}], (('location', 'Bulgaria'),): [{'text': 'Uhh, how about in Bulgaria?', 'slots': [{'slot_value': 'Bulgaria', 'slot_text': 'Bulgaria', 'slot_name': 'location', 'span': (18, 26)}]}]}, 'ask_weather': {(): [{'text': \"How's the weather today?\", 'slots': []}, {'text': \"What's today's weather?\", 'slots': []}, {'text': 'How is it out there today?', 'slots': []}, {'text': \"What's overall weather today?\", 'slots': []}]}}, slot_name2text2value={'location': {'Berlin': 'Berlin', 'Stuttgart': 'Stuttgart', 'Prague': 'Prague', 'Budapest': 'Budapest', 'Nancy': 'Nancy', 'Dresden': 'Dresden', 'Rome': 'Rome', 'Venice': 'Venice', 'Italy': 'Italy', 'Vatican': 'Vatican', 'Bulgaria': 'Bulgaria'}}\n"
     ]
    },
    {
     "name": "stderr",
     "output_type": "stream",
     "text": [
      "2021-03-29 13:35:44.190 DEBUG in 'deeppavlov.dataset_readers.md_yaml_dialogs_reader'['md_yaml_dialogs_reader'] at line 217: BEFORE MLU_MD_DialogsDatasetReader._read_story(): story_fpath=/home/abhishekbhatt/Documents/DeepPavlov_Chatbots/DP_weather_bot/stories-val.md, dialogs=True, domain_knowledge=<deeppavlov.dataset_readers.md_yaml_dialogs_reader.DomainKnowledge object at 0x7f8b480b3f98>, intent2slots2text={'greet': {(): [{'text': 'Hi', 'slots': []}, {'text': 'Hey', 'slots': []}, {'text': 'Hi bot', 'slots': []}, {'text': 'Hey bot', 'slots': []}, {'text': 'Hello', 'slots': []}, {'text': 'Good morning', 'slots': []}, {'text': 'hi again', 'slots': []}, {'text': 'hi folks', 'slots': []}, {'text': 'hola', 'slots': []}, {'text': 'hello, how are you today?', 'slots': []}, {'text': 'yo', 'slots': []}, {'text': 'hiya', 'slots': []}, {'text': 'Hello there', 'slots': []}, {'text': 'Umm, hey!', 'slots': []}]}, 'goodbye': {(): [{'text': 'goodbye', 'slots': []}, {'text': 'goodnight', 'slots': []}, {'text': 'good bye', 'slots': []}, {'text': 'good night', 'slots': []}, {'text': 'see ya', 'slots': []}, {'text': 'toodle-oo', 'slots': []}, {'text': 'bye bye', 'slots': []}, {'text': 'gotta go', 'slots': []}, {'text': 'farewell', 'slots': []}, {'text': 'bye then!', 'slots': []}, {'text': 'Ok then, see ya!', 'slots': []}]}, 'ask_weather_location': {(('location', 'Berlin'),): [{'text': 'How is the weather today in Berlin?', 'slots': [{'slot_value': 'Berlin', 'slot_text': 'Berlin', 'slot_name': 'location', 'span': (28, 34)}]}, {'text': \"What's going on Berlin today?\", 'slots': [{'slot_value': 'Berlin', 'slot_text': 'Berlin', 'slot_name': 'location', 'span': (16, 22)}]}], (('location', 'Stuttgart'),): [{'text': \"How's weather in Stuttgart today?\", 'slots': [{'slot_value': 'Stuttgart', 'slot_text': 'Stuttgart', 'slot_name': 'location', 'span': (17, 26)}]}], (('location', 'Prague'),): [{'text': 'In Prague', 'slots': [{'slot_value': 'Prague', 'slot_text': 'Prague', 'slot_name': 'location', 'span': (3, 9)}]}], (('location', 'Budapest'),): [{'text': 'at Budapest', 'slots': [{'slot_value': 'Budapest', 'slot_text': 'Budapest', 'slot_name': 'location', 'span': (3, 11)}]}], (('location', 'Nancy'),): [{'text': 'Nancy', 'slots': [{'slot_value': 'Nancy', 'slot_text': 'Nancy', 'slot_name': 'location', 'span': (0, 5)}]}], (('location', 'Dresden'),): [{'text': 'Tell me weather of Dresden.', 'slots': [{'slot_value': 'Dresden', 'slot_text': 'Dresden', 'slot_name': 'location', 'span': (19, 26)}]}], (('location', 'Rome'),): [{'text': 'What about in Rome today?', 'slots': [{'slot_value': 'Rome', 'slot_text': 'Rome', 'slot_name': 'location', 'span': (14, 18)}]}], (('location', 'Venice'),): [{'text': 'Show me weather of Venice', 'slots': [{'slot_value': 'Venice', 'slot_text': 'Venice', 'slot_name': 'location', 'span': (19, 25)}]}], (('location', 'Italy'),): [{'text': 'How about weather in Italy', 'slots': [{'slot_value': 'Italy', 'slot_text': 'Italy', 'slot_name': 'location', 'span': (21, 26)}]}], (('location', 'Vatican'),): [{'text': 'Sorry, in Vatican', 'slots': [{'slot_value': 'Vatican', 'slot_text': 'Vatican', 'slot_name': 'location', 'span': (10, 17)}]}], (('location', 'Bulgaria'),): [{'text': 'Uhh, how about in Bulgaria?', 'slots': [{'slot_value': 'Bulgaria', 'slot_text': 'Bulgaria', 'slot_name': 'location', 'span': (18, 26)}]}]}, 'ask_weather': {(): [{'text': \"How's the weather today?\", 'slots': []}, {'text': \"What's today's weather?\", 'slots': []}, {'text': 'How is it out there today?', 'slots': []}, {'text': \"What's overall weather today?\", 'slots': []}]}}, slot_name2text2value={'location': {'Berlin': 'Berlin', 'Stuttgart': 'Stuttgart', 'Prague': 'Prague', 'Budapest': 'Budapest', 'Nancy': 'Nancy', 'Dresden': 'Dresden', 'Rome': 'Rome', 'Venice': 'Venice', 'Italy': 'Italy', 'Vatican': 'Vatican', 'Bulgaria': 'Bulgaria'}}\n",
      "2021-03-29 13:35:44.200 INFO in 'deeppavlov.dataset_readers.dstc2_reader'['dstc2_reader'] at line 112: [loading dialogs from /tmp/tmpo9fruxfj]\n",
      "2021-03-29 13:35:44.204 DEBUG in 'deeppavlov.dataset_readers.md_yaml_dialogs_reader'['md_yaml_dialogs_reader'] at line 306: AFTER MLU_MD_DialogsDatasetReader._read_story(): story_fpath=/home/abhishekbhatt/Documents/DeepPavlov_Chatbots/DP_weather_bot/stories-val.md, dialogs=True, domain_knowledge=<deeppavlov.dataset_readers.md_yaml_dialogs_reader.DomainKnowledge object at 0x7f8b480b3f98>, intent2slots2text={'greet': {(): [{'text': 'Hi', 'slots': []}, {'text': 'Hey', 'slots': []}, {'text': 'Hi bot', 'slots': []}, {'text': 'Hey bot', 'slots': []}, {'text': 'Hello', 'slots': []}, {'text': 'Good morning', 'slots': []}, {'text': 'hi again', 'slots': []}, {'text': 'hi folks', 'slots': []}, {'text': 'hola', 'slots': []}, {'text': 'hello, how are you today?', 'slots': []}, {'text': 'yo', 'slots': []}, {'text': 'hiya', 'slots': []}, {'text': 'Hello there', 'slots': []}, {'text': 'Umm, hey!', 'slots': []}]}, 'goodbye': {(): [{'text': 'goodbye', 'slots': []}, {'text': 'goodnight', 'slots': []}, {'text': 'good bye', 'slots': []}, {'text': 'good night', 'slots': []}, {'text': 'see ya', 'slots': []}, {'text': 'toodle-oo', 'slots': []}, {'text': 'bye bye', 'slots': []}, {'text': 'gotta go', 'slots': []}, {'text': 'farewell', 'slots': []}, {'text': 'bye then!', 'slots': []}, {'text': 'Ok then, see ya!', 'slots': []}]}, 'ask_weather_location': {(('location', 'Berlin'),): [{'text': 'How is the weather today in Berlin?', 'slots': [{'slot_value': 'Berlin', 'slot_text': 'Berlin', 'slot_name': 'location', 'span': (28, 34)}]}, {'text': \"What's going on Berlin today?\", 'slots': [{'slot_value': 'Berlin', 'slot_text': 'Berlin', 'slot_name': 'location', 'span': (16, 22)}]}], (('location', 'Stuttgart'),): [{'text': \"How's weather in Stuttgart today?\", 'slots': [{'slot_value': 'Stuttgart', 'slot_text': 'Stuttgart', 'slot_name': 'location', 'span': (17, 26)}]}], (('location', 'Prague'),): [{'text': 'In Prague', 'slots': [{'slot_value': 'Prague', 'slot_text': 'Prague', 'slot_name': 'location', 'span': (3, 9)}]}], (('location', 'Budapest'),): [{'text': 'at Budapest', 'slots': [{'slot_value': 'Budapest', 'slot_text': 'Budapest', 'slot_name': 'location', 'span': (3, 11)}]}], (('location', 'Nancy'),): [{'text': 'Nancy', 'slots': [{'slot_value': 'Nancy', 'slot_text': 'Nancy', 'slot_name': 'location', 'span': (0, 5)}]}], (('location', 'Dresden'),): [{'text': 'Tell me weather of Dresden.', 'slots': [{'slot_value': 'Dresden', 'slot_text': 'Dresden', 'slot_name': 'location', 'span': (19, 26)}]}], (('location', 'Rome'),): [{'text': 'What about in Rome today?', 'slots': [{'slot_value': 'Rome', 'slot_text': 'Rome', 'slot_name': 'location', 'span': (14, 18)}]}], (('location', 'Venice'),): [{'text': 'Show me weather of Venice', 'slots': [{'slot_value': 'Venice', 'slot_text': 'Venice', 'slot_name': 'location', 'span': (19, 25)}]}], (('location', 'Italy'),): [{'text': 'How about weather in Italy', 'slots': [{'slot_value': 'Italy', 'slot_text': 'Italy', 'slot_name': 'location', 'span': (21, 26)}]}], (('location', 'Vatican'),): [{'text': 'Sorry, in Vatican', 'slots': [{'slot_value': 'Vatican', 'slot_text': 'Vatican', 'slot_name': 'location', 'span': (10, 17)}]}], (('location', 'Bulgaria'),): [{'text': 'Uhh, how about in Bulgaria?', 'slots': [{'slot_value': 'Bulgaria', 'slot_text': 'Bulgaria', 'slot_name': 'location', 'span': (18, 26)}]}]}, 'ask_weather': {(): [{'text': \"How's the weather today?\", 'slots': []}, {'text': \"What's today's weather?\", 'slots': []}, {'text': 'How is it out there today?', 'slots': []}, {'text': \"What's overall weather today?\", 'slots': []}]}}, slot_name2text2value={'location': {'Berlin': 'Berlin', 'Stuttgart': 'Stuttgart', 'Prague': 'Prague', 'Budapest': 'Budapest', 'Nancy': 'Nancy', 'Dresden': 'Dresden', 'Rome': 'Rome', 'Venice': 'Venice', 'Italy': 'Italy', 'Vatican': 'Vatican', 'Bulgaria': 'Bulgaria'}}\n",
      "2021-03-29 13:35:44.205 DEBUG in 'deeppavlov.dataset_readers.md_yaml_dialogs_reader'['md_yaml_dialogs_reader'] at line 217: BEFORE MLU_MD_DialogsDatasetReader._read_story(): story_fpath=/home/abhishekbhatt/Documents/DeepPavlov_Chatbots/DP_weather_bot/stories-tst.md, dialogs=True, domain_knowledge=<deeppavlov.dataset_readers.md_yaml_dialogs_reader.DomainKnowledge object at 0x7f8b480b3f98>, intent2slots2text={'greet': {(): [{'text': 'Hi', 'slots': []}, {'text': 'Hey', 'slots': []}, {'text': 'Hi bot', 'slots': []}, {'text': 'Hey bot', 'slots': []}, {'text': 'Hello', 'slots': []}, {'text': 'Good morning', 'slots': []}, {'text': 'hi again', 'slots': []}, {'text': 'hi folks', 'slots': []}, {'text': 'hola', 'slots': []}, {'text': 'hello, how are you today?', 'slots': []}, {'text': 'yo', 'slots': []}, {'text': 'hiya', 'slots': []}, {'text': 'Hello there', 'slots': []}, {'text': 'Umm, hey!', 'slots': []}]}, 'goodbye': {(): [{'text': 'goodbye', 'slots': []}, {'text': 'goodnight', 'slots': []}, {'text': 'good bye', 'slots': []}, {'text': 'good night', 'slots': []}, {'text': 'see ya', 'slots': []}, {'text': 'toodle-oo', 'slots': []}, {'text': 'bye bye', 'slots': []}, {'text': 'gotta go', 'slots': []}, {'text': 'farewell', 'slots': []}, {'text': 'bye then!', 'slots': []}, {'text': 'Ok then, see ya!', 'slots': []}]}, 'ask_weather_location': {(('location', 'Berlin'),): [{'text': 'How is the weather today in Berlin?', 'slots': [{'slot_value': 'Berlin', 'slot_text': 'Berlin', 'slot_name': 'location', 'span': (28, 34)}]}, {'text': \"What's going on Berlin today?\", 'slots': [{'slot_value': 'Berlin', 'slot_text': 'Berlin', 'slot_name': 'location', 'span': (16, 22)}]}], (('location', 'Stuttgart'),): [{'text': \"How's weather in Stuttgart today?\", 'slots': [{'slot_value': 'Stuttgart', 'slot_text': 'Stuttgart', 'slot_name': 'location', 'span': (17, 26)}]}], (('location', 'Prague'),): [{'text': 'In Prague', 'slots': [{'slot_value': 'Prague', 'slot_text': 'Prague', 'slot_name': 'location', 'span': (3, 9)}]}], (('location', 'Budapest'),): [{'text': 'at Budapest', 'slots': [{'slot_value': 'Budapest', 'slot_text': 'Budapest', 'slot_name': 'location', 'span': (3, 11)}]}], (('location', 'Nancy'),): [{'text': 'Nancy', 'slots': [{'slot_value': 'Nancy', 'slot_text': 'Nancy', 'slot_name': 'location', 'span': (0, 5)}]}], (('location', 'Dresden'),): [{'text': 'Tell me weather of Dresden.', 'slots': [{'slot_value': 'Dresden', 'slot_text': 'Dresden', 'slot_name': 'location', 'span': (19, 26)}]}], (('location', 'Rome'),): [{'text': 'What about in Rome today?', 'slots': [{'slot_value': 'Rome', 'slot_text': 'Rome', 'slot_name': 'location', 'span': (14, 18)}]}], (('location', 'Venice'),): [{'text': 'Show me weather of Venice', 'slots': [{'slot_value': 'Venice', 'slot_text': 'Venice', 'slot_name': 'location', 'span': (19, 25)}]}], (('location', 'Italy'),): [{'text': 'How about weather in Italy', 'slots': [{'slot_value': 'Italy', 'slot_text': 'Italy', 'slot_name': 'location', 'span': (21, 26)}]}], (('location', 'Vatican'),): [{'text': 'Sorry, in Vatican', 'slots': [{'slot_value': 'Vatican', 'slot_text': 'Vatican', 'slot_name': 'location', 'span': (10, 17)}]}], (('location', 'Bulgaria'),): [{'text': 'Uhh, how about in Bulgaria?', 'slots': [{'slot_value': 'Bulgaria', 'slot_text': 'Bulgaria', 'slot_name': 'location', 'span': (18, 26)}]}]}, 'ask_weather': {(): [{'text': \"How's the weather today?\", 'slots': []}, {'text': \"What's today's weather?\", 'slots': []}, {'text': 'How is it out there today?', 'slots': []}, {'text': \"What's overall weather today?\", 'slots': []}]}}, slot_name2text2value={'location': {'Berlin': 'Berlin', 'Stuttgart': 'Stuttgart', 'Prague': 'Prague', 'Budapest': 'Budapest', 'Nancy': 'Nancy', 'Dresden': 'Dresden', 'Rome': 'Rome', 'Venice': 'Venice', 'Italy': 'Italy', 'Vatican': 'Vatican', 'Bulgaria': 'Bulgaria'}}\n"
     ]
    },
    {
     "name": "stderr",
     "output_type": "stream",
     "text": [
      "2021-03-29 13:35:44.224 INFO in 'deeppavlov.dataset_readers.dstc2_reader'['dstc2_reader'] at line 112: [loading dialogs from /tmp/tmpu5cglmpe]\n",
      "2021-03-29 13:35:44.236 DEBUG in 'deeppavlov.dataset_readers.md_yaml_dialogs_reader'['md_yaml_dialogs_reader'] at line 306: AFTER MLU_MD_DialogsDatasetReader._read_story(): story_fpath=/home/abhishekbhatt/Documents/DeepPavlov_Chatbots/DP_weather_bot/stories-tst.md, dialogs=True, domain_knowledge=<deeppavlov.dataset_readers.md_yaml_dialogs_reader.DomainKnowledge object at 0x7f8b480b3f98>, intent2slots2text={'greet': {(): [{'text': 'Hi', 'slots': []}, {'text': 'Hey', 'slots': []}, {'text': 'Hi bot', 'slots': []}, {'text': 'Hey bot', 'slots': []}, {'text': 'Hello', 'slots': []}, {'text': 'Good morning', 'slots': []}, {'text': 'hi again', 'slots': []}, {'text': 'hi folks', 'slots': []}, {'text': 'hola', 'slots': []}, {'text': 'hello, how are you today?', 'slots': []}, {'text': 'yo', 'slots': []}, {'text': 'hiya', 'slots': []}, {'text': 'Hello there', 'slots': []}, {'text': 'Umm, hey!', 'slots': []}]}, 'goodbye': {(): [{'text': 'goodbye', 'slots': []}, {'text': 'goodnight', 'slots': []}, {'text': 'good bye', 'slots': []}, {'text': 'good night', 'slots': []}, {'text': 'see ya', 'slots': []}, {'text': 'toodle-oo', 'slots': []}, {'text': 'bye bye', 'slots': []}, {'text': 'gotta go', 'slots': []}, {'text': 'farewell', 'slots': []}, {'text': 'bye then!', 'slots': []}, {'text': 'Ok then, see ya!', 'slots': []}]}, 'ask_weather_location': {(('location', 'Berlin'),): [{'text': 'How is the weather today in Berlin?', 'slots': [{'slot_value': 'Berlin', 'slot_text': 'Berlin', 'slot_name': 'location', 'span': (28, 34)}]}, {'text': \"What's going on Berlin today?\", 'slots': [{'slot_value': 'Berlin', 'slot_text': 'Berlin', 'slot_name': 'location', 'span': (16, 22)}]}], (('location', 'Stuttgart'),): [{'text': \"How's weather in Stuttgart today?\", 'slots': [{'slot_value': 'Stuttgart', 'slot_text': 'Stuttgart', 'slot_name': 'location', 'span': (17, 26)}]}], (('location', 'Prague'),): [{'text': 'In Prague', 'slots': [{'slot_value': 'Prague', 'slot_text': 'Prague', 'slot_name': 'location', 'span': (3, 9)}]}], (('location', 'Budapest'),): [{'text': 'at Budapest', 'slots': [{'slot_value': 'Budapest', 'slot_text': 'Budapest', 'slot_name': 'location', 'span': (3, 11)}]}], (('location', 'Nancy'),): [{'text': 'Nancy', 'slots': [{'slot_value': 'Nancy', 'slot_text': 'Nancy', 'slot_name': 'location', 'span': (0, 5)}]}], (('location', 'Dresden'),): [{'text': 'Tell me weather of Dresden.', 'slots': [{'slot_value': 'Dresden', 'slot_text': 'Dresden', 'slot_name': 'location', 'span': (19, 26)}]}], (('location', 'Rome'),): [{'text': 'What about in Rome today?', 'slots': [{'slot_value': 'Rome', 'slot_text': 'Rome', 'slot_name': 'location', 'span': (14, 18)}]}], (('location', 'Venice'),): [{'text': 'Show me weather of Venice', 'slots': [{'slot_value': 'Venice', 'slot_text': 'Venice', 'slot_name': 'location', 'span': (19, 25)}]}], (('location', 'Italy'),): [{'text': 'How about weather in Italy', 'slots': [{'slot_value': 'Italy', 'slot_text': 'Italy', 'slot_name': 'location', 'span': (21, 26)}]}], (('location', 'Vatican'),): [{'text': 'Sorry, in Vatican', 'slots': [{'slot_value': 'Vatican', 'slot_text': 'Vatican', 'slot_name': 'location', 'span': (10, 17)}]}], (('location', 'Bulgaria'),): [{'text': 'Uhh, how about in Bulgaria?', 'slots': [{'slot_value': 'Bulgaria', 'slot_text': 'Bulgaria', 'slot_name': 'location', 'span': (18, 26)}]}]}, 'ask_weather': {(): [{'text': \"How's the weather today?\", 'slots': []}, {'text': \"What's today's weather?\", 'slots': []}, {'text': 'How is it out there today?', 'slots': []}, {'text': \"What's overall weather today?\", 'slots': []}]}}, slot_name2text2value={'location': {'Berlin': 'Berlin', 'Stuttgart': 'Stuttgart', 'Prague': 'Prague', 'Budapest': 'Budapest', 'Nancy': 'Nancy', 'Dresden': 'Dresden', 'Rome': 'Rome', 'Venice': 'Venice', 'Italy': 'Italy', 'Vatican': 'Vatican', 'Bulgaria': 'Bulgaria'}}\n",
      "2021-03-29 13:35:44.239 INFO in 'deeppavlov.models.embedders.glove_embedder'['glove_embedder'] at line 52: [loading GloVe embeddings from `/home/abhishekbhatt/.deeppavlov/downloads/embeddings/glove.6B.100d.txt`]\n",
      "2021-03-29 13:37:09.191 INFO in 'deeppavlov.models.go_bot.policy.policy_network'['policy_network'] at line 86: INSIDE PolicyNetwork init(). Initializing PolicyNetwork from checkpoint.\n",
      "2021-03-29 13:37:09.288 INFO in 'deeppavlov.core.models.tf_model'['tf_model'] at line 51: [loading model from /home/abhishekbhatt/Documents/DeepPavlov_Chatbots/DP_weather_bot/model/policy]\n"
     ]
    },
    {
     "name": "stdout",
     "output_type": "stream",
     "text": [
      "INFO:tensorflow:Restoring parameters from /home/abhishekbhatt/Documents/DeepPavlov_Chatbots/DP_weather_bot/model/policy\n"
     ]
    }
   ],
   "source": [
    "from deeppavlov import build_model\n",
    "bot = build_model(gobot_config)"
   ]
  },
  {
   "cell_type": "markdown",
   "id": "featured-million",
   "metadata": {},
   "source": [
    "### Lets check if the the predicted utterances are as expected"
   ]
  },
  {
   "cell_type": "code",
   "execution_count": 24,
   "id": "acknowledged-plate",
   "metadata": {},
   "outputs": [
    {
     "data": {
      "text/plain": [
       "('utter_greet',)"
      ]
     },
     "execution_count": 24,
     "metadata": {},
     "output_type": "execute_result"
    }
   ],
   "source": [
    "bot.reset()\n",
    "\n",
    "bot([\"start\"])\n",
    "bot([\"Hi\"])[0][0].actions_tuple"
   ]
  },
  {
   "cell_type": "code",
   "execution_count": 28,
   "id": "familiar-break",
   "metadata": {},
   "outputs": [
    {
     "data": {
      "text/plain": [
       "('utter_pleasant',)"
      ]
     },
     "execution_count": 28,
     "metadata": {},
     "output_type": "execute_result"
    }
   ],
   "source": [
    "bot.reset()\n",
    "\n",
    "bot([\"start\"])\n",
    "bot([\"How is it out there?\"])[0][0].actions_tuple"
   ]
  },
  {
   "cell_type": "code",
   "execution_count": 26,
   "id": "inappropriate-certificate",
   "metadata": {},
   "outputs": [
    {
     "data": {
      "text/plain": [
       "('utter_pleasant',)"
      ]
     },
     "execution_count": 26,
     "metadata": {},
     "output_type": "execute_result"
    }
   ],
   "source": [
    "bot.reset()\n",
    "\n",
    "bot([\"start\"])\n",
    "bot([\"How's the weather in Berlin Today?\"])[0][0].actions_tuple"
   ]
  },
  {
   "cell_type": "code",
   "execution_count": 29,
   "id": "careful-musician",
   "metadata": {},
   "outputs": [
    {
     "data": {
      "text/plain": [
       "('utter_pleasant',)"
      ]
     },
     "execution_count": 29,
     "metadata": {},
     "output_type": "execute_result"
    }
   ],
   "source": [
    "bot.reset()\n",
    "\n",
    "bot([\"start\"])\n",
    "bot([\"At Budapest\"])[0][0].actions_tuple"
   ]
  },
  {
   "cell_type": "code",
   "execution_count": 30,
   "id": "ideal-protest",
   "metadata": {},
   "outputs": [
    {
     "data": {
      "text/plain": [
       "('utter_goodbye',)"
      ]
     },
     "execution_count": 30,
     "metadata": {},
     "output_type": "execute_result"
    }
   ],
   "source": [
    "bot.reset()\n",
    "\n",
    "bot([\"start\"])\n",
    "bot([\"Goodbye!\"])[0][0].actions_tuple"
   ]
  },
  {
   "cell_type": "markdown",
   "id": "guided-couple",
   "metadata": {},
   "source": [
    "Mostly the bot works fine, other than the fact that ask_weather intent is being processed as ask_weather_location. The bot can perform better with a slotfiler. Also responding to ask_weather_location with an api call needs to be configured, currently it is being mocked as utter_pleasant response."
   ]
  }
 ],
 "metadata": {
  "kernelspec": {
   "display_name": "Python 3",
   "language": "python",
   "name": "python3"
  },
  "language_info": {
   "codemirror_mode": {
    "name": "ipython",
    "version": 3
   },
   "file_extension": ".py",
   "mimetype": "text/x-python",
   "name": "python",
   "nbconvert_exporter": "python",
   "pygments_lexer": "ipython3",
   "version": "3.6.9"
  }
 },
 "nbformat": 4,
 "nbformat_minor": 5
}
